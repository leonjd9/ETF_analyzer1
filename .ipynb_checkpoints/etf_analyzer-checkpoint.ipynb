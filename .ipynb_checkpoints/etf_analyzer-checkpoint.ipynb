{
 "cells": [
  {
   "cell_type": "markdown",
   "metadata": {
    "tags": []
   },
   "source": [
    "# Create a Web Application for an ETF Analyzer\n",
    "\n",
    "In this Challenge assignment, you’ll build a financial database and web application by using SQL, Python, and the Voilà library to analyze the performance of a hypothetical fintech ETF.\n",
    "\n",
    "Instructions: \n",
    "\n",
    "Use this notebook to complete your analysis of a fintech ETF that consists of four stocks: GOST, GS, PYPL, and SQ. Each stock has its own table in the `etf.db` database, which the `Starter_Code` folder also contains.\n",
    "\n",
    "Analyze the daily returns of the ETF stocks both individually and as a whole. Then deploy the visualizations to a web application by using the Voilà library.\n",
    "\n",
    "The detailed instructions are divided into the following parts:\n",
    "\n",
    "* Analyze a single asset in the ETF\n",
    "\n",
    "* Optimize data access with Advanced SQL queries\n",
    "\n",
    "* Analyze the ETF portfolio\n",
    "\n",
    "* Deploy the notebook as a web application\n",
    "\n",
    "#### Analyze a Single Asset in the ETF\n",
    "\n",
    "For this part of the assignment, you’ll use SQL queries with Python, Pandas, and hvPlot to analyze the performance of a single asset from the ETF.\n",
    "\n",
    "Complete the following steps:\n",
    "\n",
    "1. Write a SQL `SELECT` statement by using an f-string that reads all the PYPL data from the database. Using the SQL `SELECT` statement, execute a query that reads the PYPL data from the database into a Pandas DataFrame.\n",
    "\n",
    "2. Use the `head` and `tail` functions to review the first five and the last five rows of the DataFrame. Make a note of the beginning and end dates that are available from this dataset. You’ll use this information to complete your analysis.\n",
    "\n",
    "3. Using hvPlot, create an interactive visualization for the PYPL daily returns. Reflect the “time” column of the DataFrame on the x-axis. Make sure that you professionally style and format your visualization to enhance its readability.\n",
    "\n",
    "4. Using hvPlot, create an interactive visualization for the PYPL cumulative returns. Reflect the “time” column of the DataFrame on the x-axis. Make sure that you professionally style and format your visualization to enhance its readability.\n",
    "\n",
    "#### Optimize Data Access with Advanced SQL Queries\n",
    "\n",
    "For this part of the assignment, you’ll continue to analyze a single asset (PYPL) from the ETF. You’ll use advanced SQL queries to optimize the efficiency of accessing data from the database.\n",
    "\n",
    "Complete the following steps:\n",
    "\n",
    "1. Access the closing prices for PYPL that are greater than 200 by completing the following steps:\n",
    "\n",
    "    - Write a SQL `SELECT` statement to select the dates where the PYPL closing price was higher than 200.0.\n",
    "\n",
    "    - Using the SQL statement, read the data from the database into a Pandas DataFrame, and then review the resulting DataFrame.\n",
    "\n",
    "    - Select the “time” and “close” columns for those dates where the closing price was higher than 200.0.\n",
    "\n",
    "2. Find the top 10 daily returns for PYPL by completing the following steps:\n",
    "\n",
    "    -  Write a SQL statement to find the top 10 PYPL daily returns. Make sure to do the following:\n",
    "\n",
    "        * Use `SELECT` to select only the “time” and “daily_returns” columns.\n",
    "\n",
    "        * Use `ORDER` to sort the results in descending order by the “daily_returns” column.\n",
    "\n",
    "        * Use `LIMIT` to limit the results to the top 10 daily return values.\n",
    "\n",
    "    - Using the SQL statement, read the data from the database into a Pandas DataFrame, and then review the resulting DataFrame.\n",
    "\n",
    "#### Analyze the ETF Portfolio\n",
    "\n",
    "For this part of the assignment, you’ll build the entire ETF portfolio and then evaluate its performance. To do so, you’ll build the ETF portfolio by using SQL joins to combine all the data for each asset.\n",
    "\n",
    "Complete the following steps:\n",
    "\n",
    "1. Write a SQL query to join each table in the portfolio into a single DataFrame. To do so, complete the following steps:\n",
    "\n",
    "    - Use a SQL inner join to join each table on the “time” column. Access the “time” column in the `GDOT` table via the `GDOT.time` syntax. Access the “time” columns from the other tables via similar syntax.\n",
    "\n",
    "    - Using the SQL query, read the data from the database into a Pandas DataFrame. Review the resulting DataFrame.\n",
    "\n",
    "2. Create a DataFrame that averages the “daily_returns” columns for all four assets. Review the resulting DataFrame.\n",
    "\n",
    "    > **Hint** Assuming that this ETF contains equally weighted returns, you can average the returns for each asset to get the average returns of the portfolio. You can then use the average returns of the portfolio to calculate the annualized returns and the cumulative returns. For the calculation to get the average daily returns for the portfolio, use the following code:\n",
    "    >\n",
    "    > ```python\n",
    "    > etf_portfolio_returns = etf_portfolio['daily_returns'].mean(axis=1)\n",
    "    > ```\n",
    "    >\n",
    "    > You can use the average daily returns of the portfolio the same way that you used the daily returns of a single asset.\n",
    "\n",
    "3. Use the average daily returns in the `etf_portfolio_returns` DataFrame to calculate the annualized returns for the portfolio. Display the annualized return value of the ETF portfolio.\n",
    "\n",
    "> **Hint**  To calculate the annualized returns, multiply the mean of the `etf_portfolio_returns` values by 252.\n",
    ">\n",
    "> To convert the decimal values to percentages, multiply the results by 100.\n",
    "\n",
    "4. Use the average daily returns in the `etf_portfolio_returns` DataFrame to calculate the cumulative returns of the ETF portfolio.\n",
    "\n",
    "5. Using hvPlot, create an interactive line plot that visualizes the cumulative return values of the ETF portfolio. Reflect the “time” column of the DataFrame on the x-axis. Make sure that you professionally style and format your visualization to enhance its readability.\n",
    "\n",
    "#### Deploy the Notebook as a Web Application\n",
    "\n",
    "For this part of the assignment, complete the following steps:\n",
    "\n",
    "1. Use the Voilà library to deploy your notebook as a web application. You can deploy the web application locally on your computer.\n",
    "\n",
    "2. Take a screen recording or screenshots to show how the web application appears when using Voilà. Include the recording or screenshots in the `README.md` file for your GitHub repository.\n"
   ]
  },
  {
   "cell_type": "markdown",
   "metadata": {},
   "source": [
    "## Review the following code which imports the required libraries, initiates your SQLite database, popluates the database with records from the `etf.db` seed file that was included in your Starter_Code folder, creates the database engine, and confirms that data tables that it now contains."
   ]
  },
  {
   "cell_type": "code",
   "execution_count": 202,
   "metadata": {},
   "outputs": [
    {
     "name": "stderr",
     "output_type": "stream",
     "text": [
      "C:\\Users\\javyl\\AppData\\Local\\Temp/ipykernel_19304/3092246052.py:14: SADeprecationWarning: The Engine.table_names() method is deprecated and will be removed in a future release.  Please refer to Inspector.get_table_names(). (deprecated since: 1.4)\n",
      "  engine.table_names()\n"
     ]
    },
    {
     "data": {
      "text/plain": [
       "['GDOT', 'GS', 'PYPL', 'SQ', 'pypl_dataframe']"
      ]
     },
     "execution_count": 202,
     "metadata": {},
     "output_type": "execute_result"
    }
   ],
   "source": [
    "# Importing the required libraries and dependencies\n",
    "import numpy as np\n",
    "import pandas as pd\n",
    "import hvplot.pandas\n",
    "import sqlalchemy\n",
    "\n",
    "# Create a temporary SQLite database and populate the database with content from the etf.db seed file\n",
    "database_connection_string = 'sqlite:///etf.db'\n",
    "\n",
    "# Create an engine to interact with the SQLite database\n",
    "engine = sqlalchemy.create_engine(database_connection_string)\n",
    "\n",
    "# Confirm that table names contained in the SQLite database.\n",
    "engine.table_names()"
   ]
  },
  {
   "cell_type": "markdown",
   "metadata": {},
   "source": [
    "## Analyze a single asset in the FinTech ETF\n",
    "\n",
    "For this part of the assignment, you’ll use SQL queries with Python, Pandas, and hvPlot to analyze the performance of a single asset from the ETF.\n",
    "\n",
    "Complete the following steps:\n",
    "\n",
    "1. Write a SQL `SELECT` statement by using an f-string that reads all the PYPL data from the database. Using the SQL `SELECT` statement, execute a query that reads the PYPL data from the database into a Pandas DataFrame.\n",
    "\n",
    "2. Use the `head` and `tail` functions to review the first five and the last five rows of the DataFrame. Make a note of the beginning and end dates that are available from this dataset. You’ll use this information to complete your analysis.\n",
    "\n",
    "3. Using hvPlot, create an interactive visualization for the PYPL daily returns. Reflect the “time” column of the DataFrame on the x-axis. Make sure that you professionally style and format your visualization to enhance its readability.\n",
    "\n",
    "4. Using hvPlot, create an interactive visualization for the PYPL cumulative returns. Reflect the “time” column of the DataFrame on the x-axis. Make sure that you professionally style and format your visualization to enhance its readability.\n",
    "\n"
   ]
  },
  {
   "cell_type": "markdown",
   "metadata": {},
   "source": [
    "### Step 1: Write a SQL `SELECT` statement by using an f-string that reads all the PYPL data from the database. Using the SQL `SELECT` statement, execute a query that reads the PYPL data from the database into a Pandas DataFrame."
   ]
  },
  {
   "cell_type": "code",
   "execution_count": 203,
   "metadata": {},
   "outputs": [],
   "source": [
    "# Write a SQL query to SELECT all of the data from the PYPL table\n",
    "query = \"\"\"\n",
    "SELECT * FROM PYPL\n",
    "\"\"\" \n",
    "\n",
    "# Use the query to read the PYPL data into a Pandas DataFrame\n",
    "pypl_dataframe = pd.read_sql_query(\n",
    "    query, \n",
    "    con=engine,\n",
    "    index_col=\"time\",\n",
    "    parse_dates=True\n",
    ")\n",
    "\n"
   ]
  },
  {
   "cell_type": "markdown",
   "metadata": {},
   "source": [
    "\n",
    "### Step 2: Use the `head` and `tail` functions to review the first five and the last five rows of the DataFrame. Make a note of the beginning and end dates that are available from this dataset. You’ll use this information to complete your analysis."
   ]
  },
  {
   "cell_type": "code",
   "execution_count": 204,
   "metadata": {},
   "outputs": [
    {
     "data": {
      "text/html": [
       "<div>\n",
       "<style scoped>\n",
       "    .dataframe tbody tr th:only-of-type {\n",
       "        vertical-align: middle;\n",
       "    }\n",
       "\n",
       "    .dataframe tbody tr th {\n",
       "        vertical-align: top;\n",
       "    }\n",
       "\n",
       "    .dataframe thead th {\n",
       "        text-align: right;\n",
       "    }\n",
       "</style>\n",
       "<table border=\"1\" class=\"dataframe\">\n",
       "  <thead>\n",
       "    <tr style=\"text-align: right;\">\n",
       "      <th></th>\n",
       "      <th>open</th>\n",
       "      <th>high</th>\n",
       "      <th>low</th>\n",
       "      <th>close</th>\n",
       "      <th>volume</th>\n",
       "      <th>daily_returns</th>\n",
       "    </tr>\n",
       "    <tr>\n",
       "      <th>time</th>\n",
       "      <th></th>\n",
       "      <th></th>\n",
       "      <th></th>\n",
       "      <th></th>\n",
       "      <th></th>\n",
       "      <th></th>\n",
       "    </tr>\n",
       "  </thead>\n",
       "  <tbody>\n",
       "    <tr>\n",
       "      <th>2016-12-16 00:00:00.000000</th>\n",
       "      <td>39.90</td>\n",
       "      <td>39.90</td>\n",
       "      <td>39.12</td>\n",
       "      <td>39.32</td>\n",
       "      <td>7298861</td>\n",
       "      <td>-0.005564</td>\n",
       "    </tr>\n",
       "    <tr>\n",
       "      <th>2016-12-19 00:00:00.000000</th>\n",
       "      <td>39.40</td>\n",
       "      <td>39.80</td>\n",
       "      <td>39.11</td>\n",
       "      <td>39.45</td>\n",
       "      <td>3436478</td>\n",
       "      <td>0.003306</td>\n",
       "    </tr>\n",
       "    <tr>\n",
       "      <th>2016-12-20 00:00:00.000000</th>\n",
       "      <td>39.61</td>\n",
       "      <td>39.74</td>\n",
       "      <td>39.26</td>\n",
       "      <td>39.74</td>\n",
       "      <td>2940991</td>\n",
       "      <td>0.007351</td>\n",
       "    </tr>\n",
       "    <tr>\n",
       "      <th>2016-12-21 00:00:00.000000</th>\n",
       "      <td>39.84</td>\n",
       "      <td>40.74</td>\n",
       "      <td>39.82</td>\n",
       "      <td>40.09</td>\n",
       "      <td>5826704</td>\n",
       "      <td>0.008807</td>\n",
       "    </tr>\n",
       "    <tr>\n",
       "      <th>2016-12-22 00:00:00.000000</th>\n",
       "      <td>40.04</td>\n",
       "      <td>40.09</td>\n",
       "      <td>39.54</td>\n",
       "      <td>39.68</td>\n",
       "      <td>4338385</td>\n",
       "      <td>-0.010227</td>\n",
       "    </tr>\n",
       "  </tbody>\n",
       "</table>\n",
       "</div>"
      ],
      "text/plain": [
       "                             open   high    low  close   volume  daily_returns\n",
       "time                                                                          \n",
       "2016-12-16 00:00:00.000000  39.90  39.90  39.12  39.32  7298861      -0.005564\n",
       "2016-12-19 00:00:00.000000  39.40  39.80  39.11  39.45  3436478       0.003306\n",
       "2016-12-20 00:00:00.000000  39.61  39.74  39.26  39.74  2940991       0.007351\n",
       "2016-12-21 00:00:00.000000  39.84  40.74  39.82  40.09  5826704       0.008807\n",
       "2016-12-22 00:00:00.000000  40.04  40.09  39.54  39.68  4338385      -0.010227"
      ]
     },
     "execution_count": 204,
     "metadata": {},
     "output_type": "execute_result"
    }
   ],
   "source": [
    "# View the first 5 rows of the DataFrame.\n",
    "pypl_dataframe.head()\n"
   ]
  },
  {
   "cell_type": "code",
   "execution_count": 205,
   "metadata": {},
   "outputs": [
    {
     "data": {
      "text/html": [
       "<div>\n",
       "<style scoped>\n",
       "    .dataframe tbody tr th:only-of-type {\n",
       "        vertical-align: middle;\n",
       "    }\n",
       "\n",
       "    .dataframe tbody tr th {\n",
       "        vertical-align: top;\n",
       "    }\n",
       "\n",
       "    .dataframe thead th {\n",
       "        text-align: right;\n",
       "    }\n",
       "</style>\n",
       "<table border=\"1\" class=\"dataframe\">\n",
       "  <thead>\n",
       "    <tr style=\"text-align: right;\">\n",
       "      <th></th>\n",
       "      <th>open</th>\n",
       "      <th>high</th>\n",
       "      <th>low</th>\n",
       "      <th>close</th>\n",
       "      <th>volume</th>\n",
       "      <th>daily_returns</th>\n",
       "    </tr>\n",
       "    <tr>\n",
       "      <th>time</th>\n",
       "      <th></th>\n",
       "      <th></th>\n",
       "      <th></th>\n",
       "      <th></th>\n",
       "      <th></th>\n",
       "      <th></th>\n",
       "    </tr>\n",
       "  </thead>\n",
       "  <tbody>\n",
       "    <tr>\n",
       "      <th>2020-11-30 00:00:00.000000</th>\n",
       "      <td>212.51</td>\n",
       "      <td>215.83</td>\n",
       "      <td>207.0900</td>\n",
       "      <td>214.200</td>\n",
       "      <td>8992681</td>\n",
       "      <td>0.013629</td>\n",
       "    </tr>\n",
       "    <tr>\n",
       "      <th>2020-12-01 00:00:00.000000</th>\n",
       "      <td>217.15</td>\n",
       "      <td>220.57</td>\n",
       "      <td>214.3401</td>\n",
       "      <td>216.520</td>\n",
       "      <td>9148174</td>\n",
       "      <td>0.010831</td>\n",
       "    </tr>\n",
       "    <tr>\n",
       "      <th>2020-12-02 00:00:00.000000</th>\n",
       "      <td>215.60</td>\n",
       "      <td>215.75</td>\n",
       "      <td>210.5000</td>\n",
       "      <td>212.660</td>\n",
       "      <td>6414746</td>\n",
       "      <td>-0.017827</td>\n",
       "    </tr>\n",
       "    <tr>\n",
       "      <th>2020-12-03 00:00:00.000000</th>\n",
       "      <td>213.33</td>\n",
       "      <td>216.93</td>\n",
       "      <td>213.1100</td>\n",
       "      <td>214.680</td>\n",
       "      <td>6463339</td>\n",
       "      <td>0.009499</td>\n",
       "    </tr>\n",
       "    <tr>\n",
       "      <th>2020-12-04 00:00:00.000000</th>\n",
       "      <td>214.88</td>\n",
       "      <td>217.28</td>\n",
       "      <td>213.0100</td>\n",
       "      <td>217.235</td>\n",
       "      <td>2118319</td>\n",
       "      <td>0.011901</td>\n",
       "    </tr>\n",
       "  </tbody>\n",
       "</table>\n",
       "</div>"
      ],
      "text/plain": [
       "                              open    high       low    close   volume  \\\n",
       "time                                                                     \n",
       "2020-11-30 00:00:00.000000  212.51  215.83  207.0900  214.200  8992681   \n",
       "2020-12-01 00:00:00.000000  217.15  220.57  214.3401  216.520  9148174   \n",
       "2020-12-02 00:00:00.000000  215.60  215.75  210.5000  212.660  6414746   \n",
       "2020-12-03 00:00:00.000000  213.33  216.93  213.1100  214.680  6463339   \n",
       "2020-12-04 00:00:00.000000  214.88  217.28  213.0100  217.235  2118319   \n",
       "\n",
       "                            daily_returns  \n",
       "time                                       \n",
       "2020-11-30 00:00:00.000000       0.013629  \n",
       "2020-12-01 00:00:00.000000       0.010831  \n",
       "2020-12-02 00:00:00.000000      -0.017827  \n",
       "2020-12-03 00:00:00.000000       0.009499  \n",
       "2020-12-04 00:00:00.000000       0.011901  "
      ]
     },
     "execution_count": 205,
     "metadata": {},
     "output_type": "execute_result"
    }
   ],
   "source": [
    "# View the last 5 rows of the DataFrame.\n",
    "pypl_dataframe.tail()\n",
    "\n"
   ]
  },
  {
   "cell_type": "markdown",
   "metadata": {
    "tags": []
   },
   "source": [
    "### Step 3: Using hvPlot, create an interactive visualization for the PYPL daily returns. Reflect the “time” column of the DataFrame on the x-axis. Make sure that you professionally style and format your visualization to enhance its readability."
   ]
  },
  {
   "cell_type": "code",
   "execution_count": null,
   "metadata": {},
   "outputs": [],
   "source": []
  },
  {
   "cell_type": "code",
   "execution_count": 206,
   "metadata": {
    "tags": []
   },
   "outputs": [
    {
     "data": {},
     "metadata": {},
     "output_type": "display_data"
    },
    {
     "data": {
      "application/vnd.holoviews_exec.v0+json": "",
      "text/html": [
       "<div id='3188'>\n",
       "\n",
       "\n",
       "\n",
       "\n",
       "\n",
       "  <div class=\"bk-root\" id=\"2b1ba219-d9a3-4673-ba91-af3338ddf78e\" data-root-id=\"3188\"></div>\n",
       "</div>\n",
       "<script type=\"application/javascript\">(function(root) {\n",
       "  function embed_document(root) {\n",
       "    var docs_json = {\"92fb10ce-63f5-47e7-982e-e9c3be10ff06\":{\"defs\":[{\"extends\":null,\"module\":null,\"name\":\"ReactiveHTML1\",\"overrides\":[],\"properties\":[]},{\"extends\":null,\"module\":null,\"name\":\"FlexBox1\",\"overrides\":[],\"properties\":[{\"default\":\"flex-start\",\"kind\":null,\"name\":\"align_content\"},{\"default\":\"flex-start\",\"kind\":null,\"name\":\"align_items\"},{\"default\":\"row\",\"kind\":null,\"name\":\"flex_direction\"},{\"default\":\"wrap\",\"kind\":null,\"name\":\"flex_wrap\"},{\"default\":\"flex-start\",\"kind\":null,\"name\":\"justify_content\"}]},{\"extends\":null,\"module\":null,\"name\":\"GridStack1\",\"overrides\":[],\"properties\":[{\"default\":\"warn\",\"kind\":null,\"name\":\"mode\"},{\"default\":null,\"kind\":null,\"name\":\"ncols\"},{\"default\":null,\"kind\":null,\"name\":\"nrows\"},{\"default\":true,\"kind\":null,\"name\":\"allow_resize\"},{\"default\":true,\"kind\":null,\"name\":\"allow_drag\"},{\"default\":[],\"kind\":null,\"name\":\"state\"}]},{\"extends\":null,\"module\":null,\"name\":\"click1\",\"overrides\":[],\"properties\":[{\"default\":\"\",\"kind\":null,\"name\":\"terminal_output\"},{\"default\":\"\",\"kind\":null,\"name\":\"debug_name\"},{\"default\":0,\"kind\":null,\"name\":\"clears\"}]},{\"extends\":null,\"module\":null,\"name\":\"TemplateActions1\",\"overrides\":[],\"properties\":[{\"default\":0,\"kind\":null,\"name\":\"open_modal\"},{\"default\":0,\"kind\":null,\"name\":\"close_modal\"}]},{\"extends\":null,\"module\":null,\"name\":\"MaterialTemplateActions1\",\"overrides\":[],\"properties\":[{\"default\":0,\"kind\":null,\"name\":\"open_modal\"},{\"default\":0,\"kind\":null,\"name\":\"close_modal\"}]}],\"roots\":{\"references\":[{\"attributes\":{},\"id\":\"3210\",\"type\":\"PanTool\"},{\"attributes\":{},\"id\":\"3211\",\"type\":\"WheelZoomTool\"},{\"attributes\":{\"factors\":[\"2016-12-16 00:00:00.000000\",\"2016-12-19 00:00:00.000000\",\"2016-12-20 00:00:00.000000\",\"2016-12-21 00:00:00.000000\",\"2016-12-22 00:00:00.000000\",\"2016-12-23 00:00:00.000000\",\"2016-12-27 00:00:00.000000\",\"2016-12-28 00:00:00.000000\",\"2016-12-29 00:00:00.000000\",\"2016-12-30 00:00:00.000000\",\"2017-01-03 00:00:00.000000\",\"2017-01-04 00:00:00.000000\",\"2017-01-05 00:00:00.000000\",\"2017-01-06 00:00:00.000000\",\"2017-01-09 00:00:00.000000\",\"2017-01-10 00:00:00.000000\",\"2017-01-11 00:00:00.000000\",\"2017-01-12 00:00:00.000000\",\"2017-01-13 00:00:00.000000\",\"2017-01-17 00:00:00.000000\",\"2017-01-18 00:00:00.000000\",\"2017-01-19 00:00:00.000000\",\"2017-01-20 00:00:00.000000\",\"2017-01-23 00:00:00.000000\",\"2017-01-24 00:00:00.000000\",\"2017-01-25 00:00:00.000000\",\"2017-01-26 00:00:00.000000\",\"2017-01-27 00:00:00.000000\",\"2017-01-30 00:00:00.000000\",\"2017-01-31 00:00:00.000000\",\"2017-02-01 00:00:00.000000\",\"2017-02-02 00:00:00.000000\",\"2017-02-03 00:00:00.000000\",\"2017-02-06 00:00:00.000000\",\"2017-02-07 00:00:00.000000\",\"2017-02-08 00:00:00.000000\",\"2017-02-09 00:00:00.000000\",\"2017-02-10 00:00:00.000000\",\"2017-02-13 00:00:00.000000\",\"2017-02-14 00:00:00.000000\",\"2017-02-15 00:00:00.000000\",\"2017-02-16 00:00:00.000000\",\"2017-02-17 00:00:00.000000\",\"2017-02-21 00:00:00.000000\",\"2017-02-22 00:00:00.000000\",\"2017-02-23 00:00:00.000000\",\"2017-02-24 00:00:00.000000\",\"2017-02-27 00:00:00.000000\",\"2017-02-28 00:00:00.000000\",\"2017-03-01 00:00:00.000000\",\"2017-03-02 00:00:00.000000\",\"2017-03-03 00:00:00.000000\",\"2017-03-06 00:00:00.000000\",\"2017-03-07 00:00:00.000000\",\"2017-03-08 00:00:00.000000\",\"2017-03-09 00:00:00.000000\",\"2017-03-10 00:00:00.000000\",\"2017-03-13 00:00:00.000000\",\"2017-03-14 00:00:00.000000\",\"2017-03-15 00:00:00.000000\",\"2017-03-16 00:00:00.000000\",\"2017-03-17 00:00:00.000000\",\"2017-03-20 00:00:00.000000\",\"2017-03-21 00:00:00.000000\",\"2017-03-22 00:00:00.000000\",\"2017-03-23 00:00:00.000000\",\"2017-03-24 00:00:00.000000\",\"2017-03-27 00:00:00.000000\",\"2017-03-28 00:00:00.000000\",\"2017-03-29 00:00:00.000000\",\"2017-03-30 00:00:00.000000\",\"2017-03-31 00:00:00.000000\",\"2017-04-03 00:00:00.000000\",\"2017-04-04 00:00:00.000000\",\"2017-04-05 00:00:00.000000\",\"2017-04-06 00:00:00.000000\",\"2017-04-07 00:00:00.000000\",\"2017-04-10 00:00:00.000000\",\"2017-04-11 00:00:00.000000\",\"2017-04-12 00:00:00.000000\",\"2017-04-13 00:00:00.000000\",\"2017-04-17 00:00:00.000000\",\"2017-04-18 00:00:00.000000\",\"2017-04-19 00:00:00.000000\",\"2017-04-20 00:00:00.000000\",\"2017-04-21 00:00:00.000000\",\"2017-04-24 00:00:00.000000\",\"2017-04-25 00:00:00.000000\",\"2017-04-26 00:00:00.000000\",\"2017-04-27 00:00:00.000000\",\"2017-04-28 00:00:00.000000\",\"2017-05-01 00:00:00.000000\",\"2017-05-02 00:00:00.000000\",\"2017-05-03 00:00:00.000000\",\"2017-05-04 00:00:00.000000\",\"2017-05-05 00:00:00.000000\",\"2017-05-08 00:00:00.000000\",\"2017-05-09 00:00:00.000000\",\"2017-05-10 00:00:00.000000\",\"2017-05-11 00:00:00.000000\",\"2017-05-12 00:00:00.000000\",\"2017-05-15 00:00:00.000000\",\"2017-05-16 00:00:00.000000\",\"2017-05-17 00:00:00.000000\",\"2017-05-18 00:00:00.000000\",\"2017-05-19 00:00:00.000000\",\"2017-05-22 00:00:00.000000\",\"2017-05-23 00:00:00.000000\",\"2017-05-24 00:00:00.000000\",\"2017-05-25 00:00:00.000000\",\"2017-05-26 00:00:00.000000\",\"2017-05-30 00:00:00.000000\",\"2017-05-31 00:00:00.000000\",\"2017-06-01 00:00:00.000000\",\"2017-06-02 00:00:00.000000\",\"2017-06-05 00:00:00.000000\",\"2017-06-06 00:00:00.000000\",\"2017-06-07 00:00:00.000000\",\"2017-06-08 00:00:00.000000\",\"2017-06-09 00:00:00.000000\",\"2017-06-12 00:00:00.000000\",\"2017-06-13 00:00:00.000000\",\"2017-06-14 00:00:00.000000\",\"2017-06-15 00:00:00.000000\",\"2017-06-16 00:00:00.000000\",\"2017-06-19 00:00:00.000000\",\"2017-06-20 00:00:00.000000\",\"2017-06-21 00:00:00.000000\",\"2017-06-22 00:00:00.000000\",\"2017-06-23 00:00:00.000000\",\"2017-06-26 00:00:00.000000\",\"2017-06-27 00:00:00.000000\",\"2017-06-28 00:00:00.000000\",\"2017-06-29 00:00:00.000000\",\"2017-06-30 00:00:00.000000\",\"2017-07-03 00:00:00.000000\",\"2017-07-05 00:00:00.000000\",\"2017-07-06 00:00:00.000000\",\"2017-07-07 00:00:00.000000\",\"2017-07-10 00:00:00.000000\",\"2017-07-11 00:00:00.000000\",\"2017-07-12 00:00:00.000000\",\"2017-07-13 00:00:00.000000\",\"2017-07-14 00:00:00.000000\",\"2017-07-17 00:00:00.000000\",\"2017-07-18 00:00:00.000000\",\"2017-07-19 00:00:00.000000\",\"2017-07-20 00:00:00.000000\",\"2017-07-21 00:00:00.000000\",\"2017-07-24 00:00:00.000000\",\"2017-07-25 00:00:00.000000\",\"2017-07-26 00:00:00.000000\",\"2017-07-27 00:00:00.000000\",\"2017-07-28 00:00:00.000000\",\"2017-07-31 00:00:00.000000\",\"2017-08-01 00:00:00.000000\",\"2017-08-02 00:00:00.000000\",\"2017-08-03 00:00:00.000000\",\"2017-08-04 00:00:00.000000\",\"2017-08-07 00:00:00.000000\",\"2017-08-08 00:00:00.000000\",\"2017-08-09 00:00:00.000000\",\"2017-08-10 00:00:00.000000\",\"2017-08-11 00:00:00.000000\",\"2017-08-14 00:00:00.000000\",\"2017-08-15 00:00:00.000000\",\"2017-08-16 00:00:00.000000\",\"2017-08-17 00:00:00.000000\",\"2017-08-18 00:00:00.000000\",\"2017-08-21 00:00:00.000000\",\"2017-08-22 00:00:00.000000\",\"2017-08-23 00:00:00.000000\",\"2017-08-24 00:00:00.000000\",\"2017-08-25 00:00:00.000000\",\"2017-08-28 00:00:00.000000\",\"2017-08-29 00:00:00.000000\",\"2017-08-30 00:00:00.000000\",\"2017-08-31 00:00:00.000000\",\"2017-09-01 00:00:00.000000\",\"2017-09-05 00:00:00.000000\",\"2017-09-06 00:00:00.000000\",\"2017-09-07 00:00:00.000000\",\"2017-09-08 00:00:00.000000\",\"2017-09-11 00:00:00.000000\",\"2017-09-12 00:00:00.000000\",\"2017-09-13 00:00:00.000000\",\"2017-09-14 00:00:00.000000\",\"2017-09-15 00:00:00.000000\",\"2017-09-18 00:00:00.000000\",\"2017-09-19 00:00:00.000000\",\"2017-09-20 00:00:00.000000\",\"2017-09-21 00:00:00.000000\",\"2017-09-22 00:00:00.000000\",\"2017-09-25 00:00:00.000000\",\"2017-09-26 00:00:00.000000\",\"2017-09-27 00:00:00.000000\",\"2017-09-28 00:00:00.000000\",\"2017-09-29 00:00:00.000000\",\"2017-10-02 00:00:00.000000\",\"2017-10-03 00:00:00.000000\",\"2017-10-04 00:00:00.000000\",\"2017-10-05 00:00:00.000000\",\"2017-10-06 00:00:00.000000\",\"2017-10-09 00:00:00.000000\",\"2017-10-10 00:00:00.000000\",\"2017-10-11 00:00:00.000000\",\"2017-10-12 00:00:00.000000\",\"2017-10-13 00:00:00.000000\",\"2017-10-16 00:00:00.000000\",\"2017-10-17 00:00:00.000000\",\"2017-10-18 00:00:00.000000\",\"2017-10-19 00:00:00.000000\",\"2017-10-20 00:00:00.000000\",\"2017-10-23 00:00:00.000000\",\"2017-10-24 00:00:00.000000\",\"2017-10-25 00:00:00.000000\",\"2017-10-26 00:00:00.000000\",\"2017-10-27 00:00:00.000000\",\"2017-10-30 00:00:00.000000\",\"2017-10-31 00:00:00.000000\",\"2017-11-01 00:00:00.000000\",\"2017-11-02 00:00:00.000000\",\"2017-11-03 00:00:00.000000\",\"2017-11-06 00:00:00.000000\",\"2017-11-07 00:00:00.000000\",\"2017-11-08 00:00:00.000000\",\"2017-11-09 00:00:00.000000\",\"2017-11-10 00:00:00.000000\",\"2017-11-13 00:00:00.000000\",\"2017-11-14 00:00:00.000000\",\"2017-11-15 00:00:00.000000\",\"2017-11-16 00:00:00.000000\",\"2017-11-17 00:00:00.000000\",\"2017-11-20 00:00:00.000000\",\"2017-11-21 00:00:00.000000\",\"2017-11-22 00:00:00.000000\",\"2017-11-24 00:00:00.000000\",\"2017-11-27 00:00:00.000000\",\"2017-11-28 00:00:00.000000\",\"2017-11-29 00:00:00.000000\",\"2017-11-30 00:00:00.000000\",\"2017-12-01 00:00:00.000000\",\"2017-12-04 00:00:00.000000\",\"2017-12-05 00:00:00.000000\",\"2017-12-06 00:00:00.000000\",\"2017-12-07 00:00:00.000000\",\"2017-12-08 00:00:00.000000\",\"2017-12-11 00:00:00.000000\",\"2017-12-12 00:00:00.000000\",\"2017-12-13 00:00:00.000000\",\"2017-12-14 00:00:00.000000\",\"2017-12-15 00:00:00.000000\",\"2017-12-18 00:00:00.000000\",\"2017-12-19 00:00:00.000000\",\"2017-12-20 00:00:00.000000\",\"2017-12-21 00:00:00.000000\",\"2017-12-22 00:00:00.000000\",\"2017-12-26 00:00:00.000000\",\"2017-12-27 00:00:00.000000\",\"2017-12-28 00:00:00.000000\",\"2017-12-29 00:00:00.000000\",\"2018-01-02 00:00:00.000000\",\"2018-01-03 00:00:00.000000\",\"2018-01-04 00:00:00.000000\",\"2018-01-05 00:00:00.000000\",\"2018-01-08 00:00:00.000000\",\"2018-01-09 00:00:00.000000\",\"2018-01-10 00:00:00.000000\",\"2018-01-11 00:00:00.000000\",\"2018-01-12 00:00:00.000000\",\"2018-01-16 00:00:00.000000\",\"2018-01-17 00:00:00.000000\",\"2018-01-18 00:00:00.000000\",\"2018-01-19 00:00:00.000000\",\"2018-01-22 00:00:00.000000\",\"2018-01-23 00:00:00.000000\",\"2018-01-24 00:00:00.000000\",\"2018-01-25 00:00:00.000000\",\"2018-01-26 00:00:00.000000\",\"2018-01-29 00:00:00.000000\",\"2018-01-30 00:00:00.000000\",\"2018-01-31 00:00:00.000000\",\"2018-02-01 00:00:00.000000\",\"2018-02-02 00:00:00.000000\",\"2018-02-05 00:00:00.000000\",\"2018-02-06 00:00:00.000000\",\"2018-02-07 00:00:00.000000\",\"2018-02-08 00:00:00.000000\",\"2018-02-09 00:00:00.000000\",\"2018-02-12 00:00:00.000000\",\"2018-02-13 00:00:00.000000\",\"2018-02-14 00:00:00.000000\",\"2018-02-15 00:00:00.000000\",\"2018-02-16 00:00:00.000000\",\"2018-02-20 00:00:00.000000\",\"2018-02-21 00:00:00.000000\",\"2018-02-22 00:00:00.000000\",\"2018-02-23 00:00:00.000000\",\"2018-02-26 00:00:00.000000\",\"2018-02-27 00:00:00.000000\",\"2018-02-28 00:00:00.000000\",\"2018-03-01 00:00:00.000000\",\"2018-03-02 00:00:00.000000\",\"2018-03-05 00:00:00.000000\",\"2018-03-06 00:00:00.000000\",\"2018-03-07 00:00:00.000000\",\"2018-03-08 00:00:00.000000\",\"2018-03-09 00:00:00.000000\",\"2018-03-12 00:00:00.000000\",\"2018-03-13 00:00:00.000000\",\"2018-03-14 00:00:00.000000\",\"2018-03-15 00:00:00.000000\",\"2018-03-16 00:00:00.000000\",\"2018-03-19 00:00:00.000000\",\"2018-03-20 00:00:00.000000\",\"2018-03-21 00:00:00.000000\",\"2018-03-22 00:00:00.000000\",\"2018-03-23 00:00:00.000000\",\"2018-03-26 00:00:00.000000\",\"2018-03-27 00:00:00.000000\",\"2018-03-28 00:00:00.000000\",\"2018-03-29 00:00:00.000000\",\"2018-04-02 00:00:00.000000\",\"2018-04-03 00:00:00.000000\",\"2018-04-04 00:00:00.000000\",\"2018-04-05 00:00:00.000000\",\"2018-04-06 00:00:00.000000\",\"2018-04-09 00:00:00.000000\",\"2018-04-10 00:00:00.000000\",\"2018-04-11 00:00:00.000000\",\"2018-04-12 00:00:00.000000\",\"2018-04-13 00:00:00.000000\",\"2018-04-16 00:00:00.000000\",\"2018-04-17 00:00:00.000000\",\"2018-04-18 00:00:00.000000\",\"2018-04-19 00:00:00.000000\",\"2018-04-20 00:00:00.000000\",\"2018-04-23 00:00:00.000000\",\"2018-04-24 00:00:00.000000\",\"2018-04-25 00:00:00.000000\",\"2018-04-26 00:00:00.000000\",\"2018-04-27 00:00:00.000000\",\"2018-04-30 00:00:00.000000\",\"2018-05-01 00:00:00.000000\",\"2018-05-02 00:00:00.000000\",\"2018-05-03 00:00:00.000000\",\"2018-05-04 00:00:00.000000\",\"2018-05-07 00:00:00.000000\",\"2018-05-08 00:00:00.000000\",\"2018-05-09 00:00:00.000000\",\"2018-05-10 00:00:00.000000\",\"2018-05-11 00:00:00.000000\",\"2018-05-14 00:00:00.000000\",\"2018-05-15 00:00:00.000000\",\"2018-05-16 00:00:00.000000\",\"2018-05-17 00:00:00.000000\",\"2018-05-18 00:00:00.000000\",\"2018-05-21 00:00:00.000000\",\"2018-05-22 00:00:00.000000\",\"2018-05-23 00:00:00.000000\",\"2018-05-24 00:00:00.000000\",\"2018-05-25 00:00:00.000000\",\"2018-05-29 00:00:00.000000\",\"2018-05-30 00:00:00.000000\",\"2018-05-31 00:00:00.000000\",\"2018-06-01 00:00:00.000000\",\"2018-06-04 00:00:00.000000\",\"2018-06-05 00:00:00.000000\",\"2018-06-06 00:00:00.000000\",\"2018-06-07 00:00:00.000000\",\"2018-06-08 00:00:00.000000\",\"2018-06-11 00:00:00.000000\",\"2018-06-12 00:00:00.000000\",\"2018-06-13 00:00:00.000000\",\"2018-06-14 00:00:00.000000\",\"2018-06-15 00:00:00.000000\",\"2018-06-18 00:00:00.000000\",\"2018-06-19 00:00:00.000000\",\"2018-06-20 00:00:00.000000\",\"2018-06-21 00:00:00.000000\",\"2018-06-22 00:00:00.000000\",\"2018-06-25 00:00:00.000000\",\"2018-06-26 00:00:00.000000\",\"2018-06-27 00:00:00.000000\",\"2018-06-28 00:00:00.000000\",\"2018-06-29 00:00:00.000000\",\"2018-07-02 00:00:00.000000\",\"2018-07-03 00:00:00.000000\",\"2018-07-05 00:00:00.000000\",\"2018-07-06 00:00:00.000000\",\"2018-07-09 00:00:00.000000\",\"2018-07-10 00:00:00.000000\",\"2018-07-11 00:00:00.000000\",\"2018-07-12 00:00:00.000000\",\"2018-07-13 00:00:00.000000\",\"2018-07-16 00:00:00.000000\",\"2018-07-17 00:00:00.000000\",\"2018-07-18 00:00:00.000000\",\"2018-07-19 00:00:00.000000\",\"2018-07-20 00:00:00.000000\",\"2018-07-23 00:00:00.000000\",\"2018-07-24 00:00:00.000000\",\"2018-07-25 00:00:00.000000\",\"2018-07-26 00:00:00.000000\",\"2018-07-27 00:00:00.000000\",\"2018-07-30 00:00:00.000000\",\"2018-07-31 00:00:00.000000\",\"2018-08-01 00:00:00.000000\",\"2018-08-02 00:00:00.000000\",\"2018-08-03 00:00:00.000000\",\"2018-08-06 00:00:00.000000\",\"2018-08-07 00:00:00.000000\",\"2018-08-08 00:00:00.000000\",\"2018-08-09 00:00:00.000000\",\"2018-08-10 00:00:00.000000\",\"2018-08-13 00:00:00.000000\",\"2018-08-14 00:00:00.000000\",\"2018-08-15 00:00:00.000000\",\"2018-08-16 00:00:00.000000\",\"2018-08-17 00:00:00.000000\",\"2018-08-20 00:00:00.000000\",\"2018-08-21 00:00:00.000000\",\"2018-08-22 00:00:00.000000\",\"2018-08-23 00:00:00.000000\",\"2018-08-24 00:00:00.000000\",\"2018-08-27 00:00:00.000000\",\"2018-08-28 00:00:00.000000\",\"2018-08-29 00:00:00.000000\",\"2018-08-30 00:00:00.000000\",\"2018-08-31 00:00:00.000000\",\"2018-09-04 00:00:00.000000\",\"2018-09-05 00:00:00.000000\",\"2018-09-06 00:00:00.000000\",\"2018-09-07 00:00:00.000000\",\"2018-09-10 00:00:00.000000\",\"2018-09-11 00:00:00.000000\",\"2018-09-12 00:00:00.000000\",\"2018-09-13 00:00:00.000000\",\"2018-09-14 00:00:00.000000\",\"2018-09-17 00:00:00.000000\",\"2018-09-18 00:00:00.000000\",\"2018-09-19 00:00:00.000000\",\"2018-09-20 00:00:00.000000\",\"2018-09-21 00:00:00.000000\",\"2018-09-24 00:00:00.000000\",\"2018-09-25 00:00:00.000000\",\"2018-09-26 00:00:00.000000\",\"2018-09-27 00:00:00.000000\",\"2018-09-28 00:00:00.000000\",\"2018-10-01 00:00:00.000000\",\"2018-10-02 00:00:00.000000\",\"2018-10-03 00:00:00.000000\",\"2018-10-04 00:00:00.000000\",\"2018-10-05 00:00:00.000000\",\"2018-10-08 00:00:00.000000\",\"2018-10-09 00:00:00.000000\",\"2018-10-10 00:00:00.000000\",\"2018-10-11 00:00:00.000000\",\"2018-10-12 00:00:00.000000\",\"2018-10-15 00:00:00.000000\",\"2018-10-16 00:00:00.000000\",\"2018-10-17 00:00:00.000000\",\"2018-10-18 00:00:00.000000\",\"2018-10-19 00:00:00.000000\",\"2018-10-22 00:00:00.000000\",\"2018-10-23 00:00:00.000000\",\"2018-10-24 00:00:00.000000\",\"2018-10-25 00:00:00.000000\",\"2018-10-26 00:00:00.000000\",\"2018-10-29 00:00:00.000000\",\"2018-10-30 00:00:00.000000\",\"2018-10-31 00:00:00.000000\",\"2018-11-01 00:00:00.000000\",\"2018-11-02 00:00:00.000000\",\"2018-11-05 00:00:00.000000\",\"2018-11-06 00:00:00.000000\",\"2018-11-07 00:00:00.000000\",\"2018-11-08 00:00:00.000000\",\"2018-11-09 00:00:00.000000\",\"2018-11-12 00:00:00.000000\",\"2018-11-13 00:00:00.000000\",\"2018-11-14 00:00:00.000000\",\"2018-11-15 00:00:00.000000\",\"2018-11-16 00:00:00.000000\",\"2018-11-19 00:00:00.000000\",\"2018-11-20 00:00:00.000000\",\"2018-11-21 00:00:00.000000\",\"2018-11-23 00:00:00.000000\",\"2018-11-26 00:00:00.000000\",\"2018-11-27 00:00:00.000000\",\"2018-11-28 00:00:00.000000\",\"2018-11-29 00:00:00.000000\",\"2018-11-30 00:00:00.000000\",\"2018-12-03 00:00:00.000000\",\"2018-12-04 00:00:00.000000\",\"2018-12-06 00:00:00.000000\",\"2018-12-07 00:00:00.000000\",\"2018-12-10 00:00:00.000000\",\"2018-12-11 00:00:00.000000\",\"2018-12-12 00:00:00.000000\",\"2018-12-13 00:00:00.000000\",\"2018-12-14 00:00:00.000000\",\"2018-12-17 00:00:00.000000\",\"2018-12-18 00:00:00.000000\",\"2018-12-19 00:00:00.000000\",\"2018-12-20 00:00:00.000000\",\"2018-12-21 00:00:00.000000\",\"2018-12-24 00:00:00.000000\",\"2018-12-26 00:00:00.000000\",\"2018-12-27 00:00:00.000000\",\"2018-12-28 00:00:00.000000\",\"2018-12-31 00:00:00.000000\",\"2019-01-02 00:00:00.000000\",\"2019-01-03 00:00:00.000000\",\"2019-01-04 00:00:00.000000\",\"2019-01-07 00:00:00.000000\",\"2019-01-08 00:00:00.000000\",\"2019-01-09 00:00:00.000000\",\"2019-01-10 00:00:00.000000\",\"2019-01-11 00:00:00.000000\",\"2019-01-14 00:00:00.000000\",\"2019-01-15 00:00:00.000000\",\"2019-01-16 00:00:00.000000\",\"2019-01-17 00:00:00.000000\",\"2019-01-18 00:00:00.000000\",\"2019-01-22 00:00:00.000000\",\"2019-01-23 00:00:00.000000\",\"2019-01-24 00:00:00.000000\",\"2019-01-25 00:00:00.000000\",\"2019-01-28 00:00:00.000000\",\"2019-01-29 00:00:00.000000\",\"2019-01-30 00:00:00.000000\",\"2019-01-31 00:00:00.000000\",\"2019-02-01 00:00:00.000000\",\"2019-02-04 00:00:00.000000\",\"2019-02-05 00:00:00.000000\",\"2019-02-06 00:00:00.000000\",\"2019-02-07 00:00:00.000000\",\"2019-02-08 00:00:00.000000\",\"2019-02-11 00:00:00.000000\",\"2019-02-12 00:00:00.000000\",\"2019-02-13 00:00:00.000000\",\"2019-02-14 00:00:00.000000\",\"2019-02-15 00:00:00.000000\",\"2019-02-19 00:00:00.000000\",\"2019-02-20 00:00:00.000000\",\"2019-02-21 00:00:00.000000\",\"2019-02-22 00:00:00.000000\",\"2019-02-25 00:00:00.000000\",\"2019-02-26 00:00:00.000000\",\"2019-02-27 00:00:00.000000\",\"2019-02-28 00:00:00.000000\",\"2019-03-01 00:00:00.000000\",\"2019-03-04 00:00:00.000000\",\"2019-03-05 00:00:00.000000\",\"2019-03-06 00:00:00.000000\",\"2019-03-07 00:00:00.000000\",\"2019-03-08 00:00:00.000000\",\"2019-03-11 00:00:00.000000\",\"2019-03-12 00:00:00.000000\",\"2019-03-13 00:00:00.000000\",\"2019-03-14 00:00:00.000000\",\"2019-03-15 00:00:00.000000\",\"2019-03-18 00:00:00.000000\",\"2019-03-19 00:00:00.000000\",\"2019-03-20 00:00:00.000000\",\"2019-03-21 00:00:00.000000\",\"2019-03-22 00:00:00.000000\",\"2019-03-25 00:00:00.000000\",\"2019-03-26 00:00:00.000000\",\"2019-03-27 00:00:00.000000\",\"2019-03-28 00:00:00.000000\",\"2019-03-29 00:00:00.000000\",\"2019-04-01 00:00:00.000000\",\"2019-04-02 00:00:00.000000\",\"2019-04-03 00:00:00.000000\",\"2019-04-04 00:00:00.000000\",\"2019-04-05 00:00:00.000000\",\"2019-04-08 00:00:00.000000\",\"2019-04-09 00:00:00.000000\",\"2019-04-10 00:00:00.000000\",\"2019-04-11 00:00:00.000000\",\"2019-04-12 00:00:00.000000\",\"2019-04-15 00:00:00.000000\",\"2019-04-16 00:00:00.000000\",\"2019-04-17 00:00:00.000000\",\"2019-04-18 00:00:00.000000\",\"2019-04-22 00:00:00.000000\",\"2019-04-23 00:00:00.000000\",\"2019-04-24 00:00:00.000000\",\"2019-04-25 00:00:00.000000\",\"2019-04-26 00:00:00.000000\",\"2019-04-29 00:00:00.000000\",\"2019-04-30 00:00:00.000000\",\"2019-05-01 00:00:00.000000\",\"2019-05-02 00:00:00.000000\",\"2019-05-03 00:00:00.000000\",\"2019-05-06 00:00:00.000000\",\"2019-05-07 00:00:00.000000\",\"2019-05-08 00:00:00.000000\",\"2019-05-09 00:00:00.000000\",\"2019-05-10 00:00:00.000000\",\"2019-05-13 00:00:00.000000\",\"2019-05-14 00:00:00.000000\",\"2019-05-15 00:00:00.000000\",\"2019-05-16 00:00:00.000000\",\"2019-05-17 00:00:00.000000\",\"2019-05-20 00:00:00.000000\",\"2019-05-21 00:00:00.000000\",\"2019-05-22 00:00:00.000000\",\"2019-05-23 00:00:00.000000\",\"2019-05-24 00:00:00.000000\",\"2019-05-28 00:00:00.000000\",\"2019-05-29 00:00:00.000000\",\"2019-05-30 00:00:00.000000\",\"2019-05-31 00:00:00.000000\",\"2019-06-03 00:00:00.000000\",\"2019-06-04 00:00:00.000000\",\"2019-06-05 00:00:00.000000\",\"2019-06-06 00:00:00.000000\",\"2019-06-07 00:00:00.000000\",\"2019-06-10 00:00:00.000000\",\"2019-06-11 00:00:00.000000\",\"2019-06-12 00:00:00.000000\",\"2019-06-13 00:00:00.000000\",\"2019-06-14 00:00:00.000000\",\"2019-06-17 00:00:00.000000\",\"2019-06-18 00:00:00.000000\",\"2019-06-19 00:00:00.000000\",\"2019-06-20 00:00:00.000000\",\"2019-06-21 00:00:00.000000\",\"2019-06-24 00:00:00.000000\",\"2019-06-25 00:00:00.000000\",\"2019-06-26 00:00:00.000000\",\"2019-06-27 00:00:00.000000\",\"2019-06-28 00:00:00.000000\",\"2019-07-01 00:00:00.000000\",\"2019-07-02 00:00:00.000000\",\"2019-07-03 00:00:00.000000\",\"2019-07-05 00:00:00.000000\",\"2019-07-08 00:00:00.000000\",\"2019-07-09 00:00:00.000000\",\"2019-07-10 00:00:00.000000\",\"2019-07-11 00:00:00.000000\",\"2019-07-12 00:00:00.000000\",\"2019-07-15 00:00:00.000000\",\"2019-07-16 00:00:00.000000\",\"2019-07-17 00:00:00.000000\",\"2019-07-18 00:00:00.000000\",\"2019-07-19 00:00:00.000000\",\"2019-07-22 00:00:00.000000\",\"2019-07-23 00:00:00.000000\",\"2019-07-24 00:00:00.000000\",\"2019-07-25 00:00:00.000000\",\"2019-07-26 00:00:00.000000\",\"2019-07-29 00:00:00.000000\",\"2019-07-30 00:00:00.000000\",\"2019-07-31 00:00:00.000000\",\"2019-08-01 00:00:00.000000\",\"2019-08-02 00:00:00.000000\",\"2019-08-05 00:00:00.000000\",\"2019-08-06 00:00:00.000000\",\"2019-08-07 00:00:00.000000\",\"2019-08-08 00:00:00.000000\",\"2019-08-09 00:00:00.000000\",\"2019-08-12 00:00:00.000000\",\"2019-08-13 00:00:00.000000\",\"2019-08-14 00:00:00.000000\",\"2019-08-15 00:00:00.000000\",\"2019-08-16 00:00:00.000000\",\"2019-08-19 00:00:00.000000\",\"2019-08-20 00:00:00.000000\",\"2019-08-21 00:00:00.000000\",\"2019-08-22 00:00:00.000000\",\"2019-08-23 00:00:00.000000\",\"2019-08-26 00:00:00.000000\",\"2019-08-27 00:00:00.000000\",\"2019-08-28 00:00:00.000000\",\"2019-08-29 00:00:00.000000\",\"2019-08-30 00:00:00.000000\",\"2019-09-03 00:00:00.000000\",\"2019-09-04 00:00:00.000000\",\"2019-09-05 00:00:00.000000\",\"2019-09-06 00:00:00.000000\",\"2019-09-09 00:00:00.000000\",\"2019-09-10 00:00:00.000000\",\"2019-09-11 00:00:00.000000\",\"2019-09-12 00:00:00.000000\",\"2019-09-13 00:00:00.000000\",\"2019-09-16 00:00:00.000000\",\"2019-09-17 00:00:00.000000\",\"2019-09-18 00:00:00.000000\",\"2019-09-19 00:00:00.000000\",\"2019-09-20 00:00:00.000000\",\"2019-09-23 00:00:00.000000\",\"2019-09-24 00:00:00.000000\",\"2019-09-25 00:00:00.000000\",\"2019-09-26 00:00:00.000000\",\"2019-09-27 00:00:00.000000\",\"2019-09-30 00:00:00.000000\",\"2019-10-01 00:00:00.000000\",\"2019-10-02 00:00:00.000000\",\"2019-10-03 00:00:00.000000\",\"2019-10-04 00:00:00.000000\",\"2019-10-07 00:00:00.000000\",\"2019-10-08 00:00:00.000000\",\"2019-10-09 00:00:00.000000\",\"2019-10-10 00:00:00.000000\",\"2019-10-11 00:00:00.000000\",\"2019-10-14 00:00:00.000000\",\"2019-10-15 00:00:00.000000\",\"2019-10-16 00:00:00.000000\",\"2019-10-17 00:00:00.000000\",\"2019-10-18 00:00:00.000000\",\"2019-10-21 00:00:00.000000\",\"2019-10-22 00:00:00.000000\",\"2019-10-23 00:00:00.000000\",\"2019-10-24 00:00:00.000000\",\"2019-10-25 00:00:00.000000\",\"2019-10-28 00:00:00.000000\",\"2019-10-29 00:00:00.000000\",\"2019-10-30 00:00:00.000000\",\"2019-10-31 00:00:00.000000\",\"2019-11-01 00:00:00.000000\",\"2019-11-04 00:00:00.000000\",\"2019-11-05 00:00:00.000000\",\"2019-11-06 00:00:00.000000\",\"2019-11-07 00:00:00.000000\",\"2019-11-08 00:00:00.000000\",\"2019-11-11 00:00:00.000000\",\"2019-11-12 00:00:00.000000\",\"2019-11-13 00:00:00.000000\",\"2019-11-14 00:00:00.000000\",\"2019-11-15 00:00:00.000000\",\"2019-11-18 00:00:00.000000\",\"2019-11-19 00:00:00.000000\",\"2019-11-20 00:00:00.000000\",\"2019-11-21 00:00:00.000000\",\"2019-11-22 00:00:00.000000\",\"2019-11-25 00:00:00.000000\",\"2019-11-26 00:00:00.000000\",\"2019-11-27 00:00:00.000000\",\"2019-11-29 00:00:00.000000\",\"2019-12-02 00:00:00.000000\",\"2019-12-03 00:00:00.000000\",\"2019-12-04 00:00:00.000000\",\"2019-12-05 00:00:00.000000\",\"2019-12-06 00:00:00.000000\",\"2019-12-09 00:00:00.000000\",\"2019-12-10 00:00:00.000000\",\"2019-12-11 00:00:00.000000\",\"2019-12-12 00:00:00.000000\",\"2019-12-13 00:00:00.000000\",\"2019-12-16 00:00:00.000000\",\"2019-12-17 00:00:00.000000\",\"2019-12-18 00:00:00.000000\",\"2019-12-19 00:00:00.000000\",\"2019-12-20 00:00:00.000000\",\"2019-12-23 00:00:00.000000\",\"2019-12-24 00:00:00.000000\",\"2019-12-26 00:00:00.000000\",\"2019-12-27 00:00:00.000000\",\"2019-12-30 00:00:00.000000\",\"2019-12-31 00:00:00.000000\",\"2020-01-02 00:00:00.000000\",\"2020-01-03 00:00:00.000000\",\"2020-01-06 00:00:00.000000\",\"2020-01-07 00:00:00.000000\",\"2020-01-08 00:00:00.000000\",\"2020-01-09 00:00:00.000000\",\"2020-01-10 00:00:00.000000\",\"2020-01-13 00:00:00.000000\",\"2020-01-14 00:00:00.000000\",\"2020-01-15 00:00:00.000000\",\"2020-01-16 00:00:00.000000\",\"2020-01-17 00:00:00.000000\",\"2020-01-21 00:00:00.000000\",\"2020-01-22 00:00:00.000000\",\"2020-01-23 00:00:00.000000\",\"2020-01-24 00:00:00.000000\",\"2020-01-27 00:00:00.000000\",\"2020-01-28 00:00:00.000000\",\"2020-01-29 00:00:00.000000\",\"2020-01-30 00:00:00.000000\",\"2020-01-31 00:00:00.000000\",\"2020-02-03 00:00:00.000000\",\"2020-02-04 00:00:00.000000\",\"2020-02-05 00:00:00.000000\",\"2020-02-06 00:00:00.000000\",\"2020-02-07 00:00:00.000000\",\"2020-02-10 00:00:00.000000\",\"2020-02-11 00:00:00.000000\",\"2020-02-12 00:00:00.000000\",\"2020-02-13 00:00:00.000000\",\"2020-02-14 00:00:00.000000\",\"2020-02-18 00:00:00.000000\",\"2020-02-19 00:00:00.000000\",\"2020-02-20 00:00:00.000000\",\"2020-02-21 00:00:00.000000\",\"2020-02-24 00:00:00.000000\",\"2020-02-25 00:00:00.000000\",\"2020-02-26 00:00:00.000000\",\"2020-02-27 00:00:00.000000\",\"2020-02-28 00:00:00.000000\",\"2020-03-02 00:00:00.000000\",\"2020-03-03 00:00:00.000000\",\"2020-03-04 00:00:00.000000\",\"2020-03-05 00:00:00.000000\",\"2020-03-06 00:00:00.000000\",\"2020-03-09 00:00:00.000000\",\"2020-03-10 00:00:00.000000\",\"2020-03-11 00:00:00.000000\",\"2020-03-12 00:00:00.000000\",\"2020-03-13 00:00:00.000000\",\"2020-03-16 00:00:00.000000\",\"2020-03-17 00:00:00.000000\",\"2020-03-18 00:00:00.000000\",\"2020-03-19 00:00:00.000000\",\"2020-03-20 00:00:00.000000\",\"2020-03-23 00:00:00.000000\",\"2020-03-24 00:00:00.000000\",\"2020-03-25 00:00:00.000000\",\"2020-03-26 00:00:00.000000\",\"2020-03-27 00:00:00.000000\",\"2020-03-30 00:00:00.000000\",\"2020-03-31 00:00:00.000000\",\"2020-04-01 00:00:00.000000\",\"2020-04-02 00:00:00.000000\",\"2020-04-03 00:00:00.000000\",\"2020-04-06 00:00:00.000000\",\"2020-04-07 00:00:00.000000\",\"2020-04-08 00:00:00.000000\",\"2020-04-09 00:00:00.000000\",\"2020-04-13 00:00:00.000000\",\"2020-04-14 00:00:00.000000\",\"2020-04-15 00:00:00.000000\",\"2020-04-16 00:00:00.000000\",\"2020-04-17 00:00:00.000000\",\"2020-04-20 00:00:00.000000\",\"2020-04-21 00:00:00.000000\",\"2020-04-22 00:00:00.000000\",\"2020-04-23 00:00:00.000000\",\"2020-04-24 00:00:00.000000\",\"2020-04-27 00:00:00.000000\",\"2020-04-28 00:00:00.000000\",\"2020-04-29 00:00:00.000000\",\"2020-04-30 00:00:00.000000\",\"2020-05-01 00:00:00.000000\",\"2020-05-04 00:00:00.000000\",\"2020-05-05 00:00:00.000000\",\"2020-05-06 00:00:00.000000\",\"2020-05-07 00:00:00.000000\",\"2020-05-08 00:00:00.000000\",\"2020-05-11 00:00:00.000000\",\"2020-05-12 00:00:00.000000\",\"2020-05-13 00:00:00.000000\",\"2020-05-14 00:00:00.000000\",\"2020-05-15 00:00:00.000000\",\"2020-05-18 00:00:00.000000\",\"2020-05-19 00:00:00.000000\",\"2020-05-20 00:00:00.000000\",\"2020-05-21 00:00:00.000000\",\"2020-05-22 00:00:00.000000\",\"2020-05-26 00:00:00.000000\",\"2020-05-27 00:00:00.000000\",\"2020-05-28 00:00:00.000000\",\"2020-05-29 00:00:00.000000\",\"2020-06-01 00:00:00.000000\",\"2020-06-02 00:00:00.000000\",\"2020-06-03 00:00:00.000000\",\"2020-06-04 00:00:00.000000\",\"2020-06-05 00:00:00.000000\",\"2020-06-08 00:00:00.000000\",\"2020-06-09 00:00:00.000000\",\"2020-06-10 00:00:00.000000\",\"2020-06-11 00:00:00.000000\",\"2020-06-12 00:00:00.000000\",\"2020-06-15 00:00:00.000000\",\"2020-06-16 00:00:00.000000\",\"2020-06-17 00:00:00.000000\",\"2020-06-18 00:00:00.000000\",\"2020-06-19 00:00:00.000000\",\"2020-06-22 00:00:00.000000\",\"2020-06-23 00:00:00.000000\",\"2020-06-24 00:00:00.000000\",\"2020-06-25 00:00:00.000000\",\"2020-06-26 00:00:00.000000\",\"2020-06-29 00:00:00.000000\",\"2020-06-30 00:00:00.000000\",\"2020-07-01 00:00:00.000000\",\"2020-07-02 00:00:00.000000\",\"2020-07-06 00:00:00.000000\",\"2020-07-07 00:00:00.000000\",\"2020-07-08 00:00:00.000000\",\"2020-07-09 00:00:00.000000\",\"2020-07-10 00:00:00.000000\",\"2020-07-13 00:00:00.000000\",\"2020-07-14 00:00:00.000000\",\"2020-07-15 00:00:00.000000\",\"2020-07-16 00:00:00.000000\",\"2020-07-17 00:00:00.000000\",\"2020-07-20 00:00:00.000000\",\"2020-07-21 00:00:00.000000\",\"2020-07-22 00:00:00.000000\",\"2020-07-23 00:00:00.000000\",\"2020-07-24 00:00:00.000000\",\"2020-07-27 00:00:00.000000\",\"2020-07-28 00:00:00.000000\",\"2020-07-29 00:00:00.000000\",\"2020-07-30 00:00:00.000000\",\"2020-07-31 00:00:00.000000\",\"2020-08-03 00:00:00.000000\",\"2020-08-04 00:00:00.000000\",\"2020-08-05 00:00:00.000000\",\"2020-08-06 00:00:00.000000\",\"2020-08-07 00:00:00.000000\",\"2020-08-10 00:00:00.000000\",\"2020-08-11 00:00:00.000000\",\"2020-08-12 00:00:00.000000\",\"2020-08-13 00:00:00.000000\",\"2020-08-14 00:00:00.000000\",\"2020-08-17 00:00:00.000000\",\"2020-08-18 00:00:00.000000\",\"2020-08-19 00:00:00.000000\",\"2020-08-20 00:00:00.000000\",\"2020-08-21 00:00:00.000000\",\"2020-08-24 00:00:00.000000\",\"2020-08-25 00:00:00.000000\",\"2020-08-26 00:00:00.000000\",\"2020-08-27 00:00:00.000000\",\"2020-08-28 00:00:00.000000\",\"2020-08-31 00:00:00.000000\",\"2020-09-01 00:00:00.000000\",\"2020-09-02 00:00:00.000000\",\"2020-09-03 00:00:00.000000\",\"2020-09-04 00:00:00.000000\",\"2020-09-08 00:00:00.000000\",\"2020-09-09 00:00:00.000000\",\"2020-09-10 00:00:00.000000\",\"2020-09-11 00:00:00.000000\",\"2020-09-14 00:00:00.000000\",\"2020-09-15 00:00:00.000000\",\"2020-09-16 00:00:00.000000\",\"2020-09-17 00:00:00.000000\",\"2020-09-18 00:00:00.000000\",\"2020-09-21 00:00:00.000000\",\"2020-09-22 00:00:00.000000\",\"2020-09-23 00:00:00.000000\",\"2020-09-24 00:00:00.000000\",\"2020-09-25 00:00:00.000000\",\"2020-09-28 00:00:00.000000\",\"2020-09-29 00:00:00.000000\",\"2020-09-30 00:00:00.000000\",\"2020-10-01 00:00:00.000000\",\"2020-10-02 00:00:00.000000\",\"2020-10-05 00:00:00.000000\",\"2020-10-06 00:00:00.000000\",\"2020-10-07 00:00:00.000000\",\"2020-10-08 00:00:00.000000\",\"2020-10-09 00:00:00.000000\",\"2020-10-12 00:00:00.000000\",\"2020-10-13 00:00:00.000000\",\"2020-10-14 00:00:00.000000\",\"2020-10-15 00:00:00.000000\",\"2020-10-16 00:00:00.000000\",\"2020-10-19 00:00:00.000000\",\"2020-10-20 00:00:00.000000\",\"2020-10-21 00:00:00.000000\",\"2020-10-22 00:00:00.000000\",\"2020-10-23 00:00:00.000000\",\"2020-10-26 00:00:00.000000\",\"2020-10-27 00:00:00.000000\",\"2020-10-28 00:00:00.000000\",\"2020-10-29 00:00:00.000000\",\"2020-10-30 00:00:00.000000\",\"2020-11-02 00:00:00.000000\",\"2020-11-03 00:00:00.000000\",\"2020-11-04 00:00:00.000000\",\"2020-11-05 00:00:00.000000\",\"2020-11-06 00:00:00.000000\",\"2020-11-09 00:00:00.000000\",\"2020-11-10 00:00:00.000000\",\"2020-11-11 00:00:00.000000\",\"2020-11-12 00:00:00.000000\",\"2020-11-13 00:00:00.000000\",\"2020-11-16 00:00:00.000000\",\"2020-11-17 00:00:00.000000\",\"2020-11-18 00:00:00.000000\",\"2020-11-19 00:00:00.000000\",\"2020-11-20 00:00:00.000000\",\"2020-11-23 00:00:00.000000\",\"2020-11-24 00:00:00.000000\",\"2020-11-25 00:00:00.000000\",\"2020-11-27 00:00:00.000000\",\"2020-11-30 00:00:00.000000\",\"2020-12-01 00:00:00.000000\",\"2020-12-02 00:00:00.000000\",\"2020-12-03 00:00:00.000000\",\"2020-12-04 00:00:00.000000\"],\"tags\":[[[\"time\",\"time\",null]]]},\"id\":\"3190\",\"type\":\"FactorRange\"},{\"attributes\":{\"end\":0.1715458661010297,\"reset_end\":0.1715458661010297,\"reset_start\":-0.19523816539422575,\"start\":-0.19523816539422575,\"tags\":[[[\"daily_returns\",\"daily_returns\",null]]]},\"id\":\"3191\",\"type\":\"Range1d\"},{\"attributes\":{},\"id\":\"3209\",\"type\":\"SaveTool\"},{\"attributes\":{\"data\":{\"daily_returns\":{\"__ndarray__\":\"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\",\"dtype\":\"float64\",\"order\":\"little\",\"shape\":[999]},\"time\":[\"2016-12-16 00:00:00.000000\",\"2016-12-19 00:00:00.000000\",\"2016-12-20 00:00:00.000000\",\"2016-12-21 00:00:00.000000\",\"2016-12-22 00:00:00.000000\",\"2016-12-23 00:00:00.000000\",\"2016-12-27 00:00:00.000000\",\"2016-12-28 00:00:00.000000\",\"2016-12-29 00:00:00.000000\",\"2016-12-30 00:00:00.000000\",\"2017-01-03 00:00:00.000000\",\"2017-01-04 00:00:00.000000\",\"2017-01-05 00:00:00.000000\",\"2017-01-06 00:00:00.000000\",\"2017-01-09 00:00:00.000000\",\"2017-01-10 00:00:00.000000\",\"2017-01-11 00:00:00.000000\",\"2017-01-12 00:00:00.000000\",\"2017-01-13 00:00:00.000000\",\"2017-01-17 00:00:00.000000\",\"2017-01-18 00:00:00.000000\",\"2017-01-19 00:00:00.000000\",\"2017-01-20 00:00:00.000000\",\"2017-01-23 00:00:00.000000\",\"2017-01-24 00:00:00.000000\",\"2017-01-25 00:00:00.000000\",\"2017-01-26 00:00:00.000000\",\"2017-01-27 00:00:00.000000\",\"2017-01-30 00:00:00.000000\",\"2017-01-31 00:00:00.000000\",\"2017-02-01 00:00:00.000000\",\"2017-02-02 00:00:00.000000\",\"2017-02-03 00:00:00.000000\",\"2017-02-06 00:00:00.000000\",\"2017-02-07 00:00:00.000000\",\"2017-02-08 00:00:00.000000\",\"2017-02-09 00:00:00.000000\",\"2017-02-10 00:00:00.000000\",\"2017-02-13 00:00:00.000000\",\"2017-02-14 00:00:00.000000\",\"2017-02-15 00:00:00.000000\",\"2017-02-16 00:00:00.000000\",\"2017-02-17 00:00:00.000000\",\"2017-02-21 00:00:00.000000\",\"2017-02-22 00:00:00.000000\",\"2017-02-23 00:00:00.000000\",\"2017-02-24 00:00:00.000000\",\"2017-02-27 00:00:00.000000\",\"2017-02-28 00:00:00.000000\",\"2017-03-01 00:00:00.000000\",\"2017-03-02 00:00:00.000000\",\"2017-03-03 00:00:00.000000\",\"2017-03-06 00:00:00.000000\",\"2017-03-07 00:00:00.000000\",\"2017-03-08 00:00:00.000000\",\"2017-03-09 00:00:00.000000\",\"2017-03-10 00:00:00.000000\",\"2017-03-13 00:00:00.000000\",\"2017-03-14 00:00:00.000000\",\"2017-03-15 00:00:00.000000\",\"2017-03-16 00:00:00.000000\",\"2017-03-17 00:00:00.000000\",\"2017-03-20 00:00:00.000000\",\"2017-03-21 00:00:00.000000\",\"2017-03-22 00:00:00.000000\",\"2017-03-23 00:00:00.000000\",\"2017-03-24 00:00:00.000000\",\"2017-03-27 00:00:00.000000\",\"2017-03-28 00:00:00.000000\",\"2017-03-29 00:00:00.000000\",\"2017-03-30 00:00:00.000000\",\"2017-03-31 00:00:00.000000\",\"2017-04-03 00:00:00.000000\",\"2017-04-04 00:00:00.000000\",\"2017-04-05 00:00:00.000000\",\"2017-04-06 00:00:00.000000\",\"2017-04-07 00:00:00.000000\",\"2017-04-10 00:00:00.000000\",\"2017-04-11 00:00:00.000000\",\"2017-04-12 00:00:00.000000\",\"2017-04-13 00:00:00.000000\",\"2017-04-17 00:00:00.000000\",\"2017-04-18 00:00:00.000000\",\"2017-04-19 00:00:00.000000\",\"2017-04-20 00:00:00.000000\",\"2017-04-21 00:00:00.000000\",\"2017-04-24 00:00:00.000000\",\"2017-04-25 00:00:00.000000\",\"2017-04-26 00:00:00.000000\",\"2017-04-27 00:00:00.000000\",\"2017-04-28 00:00:00.000000\",\"2017-05-01 00:00:00.000000\",\"2017-05-02 00:00:00.000000\",\"2017-05-03 00:00:00.000000\",\"2017-05-04 00:00:00.000000\",\"2017-05-05 00:00:00.000000\",\"2017-05-08 00:00:00.000000\",\"2017-05-09 00:00:00.000000\",\"2017-05-10 00:00:00.000000\",\"2017-05-11 00:00:00.000000\",\"2017-05-12 00:00:00.000000\",\"2017-05-15 00:00:00.000000\",\"2017-05-16 00:00:00.000000\",\"2017-05-17 00:00:00.000000\",\"2017-05-18 00:00:00.000000\",\"2017-05-19 00:00:00.000000\",\"2017-05-22 00:00:00.000000\",\"2017-05-23 00:00:00.000000\",\"2017-05-24 00:00:00.000000\",\"2017-05-25 00:00:00.000000\",\"2017-05-26 00:00:00.000000\",\"2017-05-30 00:00:00.000000\",\"2017-05-31 00:00:00.000000\",\"2017-06-01 00:00:00.000000\",\"2017-06-02 00:00:00.000000\",\"2017-06-05 00:00:00.000000\",\"2017-06-06 00:00:00.000000\",\"2017-06-07 00:00:00.000000\",\"2017-06-08 00:00:00.000000\",\"2017-06-09 00:00:00.000000\",\"2017-06-12 00:00:00.000000\",\"2017-06-13 00:00:00.000000\",\"2017-06-14 00:00:00.000000\",\"2017-06-15 00:00:00.000000\",\"2017-06-16 00:00:00.000000\",\"2017-06-19 00:00:00.000000\",\"2017-06-20 00:00:00.000000\",\"2017-06-21 00:00:00.000000\",\"2017-06-22 00:00:00.000000\",\"2017-06-23 00:00:00.000000\",\"2017-06-26 00:00:00.000000\",\"2017-06-27 00:00:00.000000\",\"2017-06-28 00:00:00.000000\",\"2017-06-29 00:00:00.000000\",\"2017-06-30 00:00:00.000000\",\"2017-07-03 00:00:00.000000\",\"2017-07-05 00:00:00.000000\",\"2017-07-06 00:00:00.000000\",\"2017-07-07 00:00:00.000000\",\"2017-07-10 00:00:00.000000\",\"2017-07-11 00:00:00.000000\",\"2017-07-12 00:00:00.000000\",\"2017-07-13 00:00:00.000000\",\"2017-07-14 00:00:00.000000\",\"2017-07-17 00:00:00.000000\",\"2017-07-18 00:00:00.000000\",\"2017-07-19 00:00:00.000000\",\"2017-07-20 00:00:00.000000\",\"2017-07-21 00:00:00.000000\",\"2017-07-24 00:00:00.000000\",\"2017-07-25 00:00:00.000000\",\"2017-07-26 00:00:00.000000\",\"2017-07-27 00:00:00.000000\",\"2017-07-28 00:00:00.000000\",\"2017-07-31 00:00:00.000000\",\"2017-08-01 00:00:00.000000\",\"2017-08-02 00:00:00.000000\",\"2017-08-03 00:00:00.000000\",\"2017-08-04 00:00:00.000000\",\"2017-08-07 00:00:00.000000\",\"2017-08-08 00:00:00.000000\",\"2017-08-09 00:00:00.000000\",\"2017-08-10 00:00:00.000000\",\"2017-08-11 00:00:00.000000\",\"2017-08-14 00:00:00.000000\",\"2017-08-15 00:00:00.000000\",\"2017-08-16 00:00:00.000000\",\"2017-08-17 00:00:00.000000\",\"2017-08-18 00:00:00.000000\",\"2017-08-21 00:00:00.000000\",\"2017-08-22 00:00:00.000000\",\"2017-08-23 00:00:00.000000\",\"2017-08-24 00:00:00.000000\",\"2017-08-25 00:00:00.000000\",\"2017-08-28 00:00:00.000000\",\"2017-08-29 00:00:00.000000\",\"2017-08-30 00:00:00.000000\",\"2017-08-31 00:00:00.000000\",\"2017-09-01 00:00:00.000000\",\"2017-09-05 00:00:00.000000\",\"2017-09-06 00:00:00.000000\",\"2017-09-07 00:00:00.000000\",\"2017-09-08 00:00:00.000000\",\"2017-09-11 00:00:00.000000\",\"2017-09-12 00:00:00.000000\",\"2017-09-13 00:00:00.000000\",\"2017-09-14 00:00:00.000000\",\"2017-09-15 00:00:00.000000\",\"2017-09-18 00:00:00.000000\",\"2017-09-19 00:00:00.000000\",\"2017-09-20 00:00:00.000000\",\"2017-09-21 00:00:00.000000\",\"2017-09-22 00:00:00.000000\",\"2017-09-25 00:00:00.000000\",\"2017-09-26 00:00:00.000000\",\"2017-09-27 00:00:00.000000\",\"2017-09-28 00:00:00.000000\",\"2017-09-29 00:00:00.000000\",\"2017-10-02 00:00:00.000000\",\"2017-10-03 00:00:00.000000\",\"2017-10-04 00:00:00.000000\",\"2017-10-05 00:00:00.000000\",\"2017-10-06 00:00:00.000000\",\"2017-10-09 00:00:00.000000\",\"2017-10-10 00:00:00.000000\",\"2017-10-11 00:00:00.000000\",\"2017-10-12 00:00:00.000000\",\"2017-10-13 00:00:00.000000\",\"2017-10-16 00:00:00.000000\",\"2017-10-17 00:00:00.000000\",\"2017-10-18 00:00:00.000000\",\"2017-10-19 00:00:00.000000\",\"2017-10-20 00:00:00.000000\",\"2017-10-23 00:00:00.000000\",\"2017-10-24 00:00:00.000000\",\"2017-10-25 00:00:00.000000\",\"2017-10-26 00:00:00.000000\",\"2017-10-27 00:00:00.000000\",\"2017-10-30 00:00:00.000000\",\"2017-10-31 00:00:00.000000\",\"2017-11-01 00:00:00.000000\",\"2017-11-02 00:00:00.000000\",\"2017-11-03 00:00:00.000000\",\"2017-11-06 00:00:00.000000\",\"2017-11-07 00:00:00.000000\",\"2017-11-08 00:00:00.000000\",\"2017-11-09 00:00:00.000000\",\"2017-11-10 00:00:00.000000\",\"2017-11-13 00:00:00.000000\",\"2017-11-14 00:00:00.000000\",\"2017-11-15 00:00:00.000000\",\"2017-11-16 00:00:00.000000\",\"2017-11-17 00:00:00.000000\",\"2017-11-20 00:00:00.000000\",\"2017-11-21 00:00:00.000000\",\"2017-11-22 00:00:00.000000\",\"2017-11-24 00:00:00.000000\",\"2017-11-27 00:00:00.000000\",\"2017-11-28 00:00:00.000000\",\"2017-11-29 00:00:00.000000\",\"2017-11-30 00:00:00.000000\",\"2017-12-01 00:00:00.000000\",\"2017-12-04 00:00:00.000000\",\"2017-12-05 00:00:00.000000\",\"2017-12-06 00:00:00.000000\",\"2017-12-07 00:00:00.000000\",\"2017-12-08 00:00:00.000000\",\"2017-12-11 00:00:00.000000\",\"2017-12-12 00:00:00.000000\",\"2017-12-13 00:00:00.000000\",\"2017-12-14 00:00:00.000000\",\"2017-12-15 00:00:00.000000\",\"2017-12-18 00:00:00.000000\",\"2017-12-19 00:00:00.000000\",\"2017-12-20 00:00:00.000000\",\"2017-12-21 00:00:00.000000\",\"2017-12-22 00:00:00.000000\",\"2017-12-26 00:00:00.000000\",\"2017-12-27 00:00:00.000000\",\"2017-12-28 00:00:00.000000\",\"2017-12-29 00:00:00.000000\",\"2018-01-02 00:00:00.000000\",\"2018-01-03 00:00:00.000000\",\"2018-01-04 00:00:00.000000\",\"2018-01-05 00:00:00.000000\",\"2018-01-08 00:00:00.000000\",\"2018-01-09 00:00:00.000000\",\"2018-01-10 00:00:00.000000\",\"2018-01-11 00:00:00.000000\",\"2018-01-12 00:00:00.000000\",\"2018-01-16 00:00:00.000000\",\"2018-01-17 00:00:00.000000\",\"2018-01-18 00:00:00.000000\",\"2018-01-19 00:00:00.000000\",\"2018-01-22 00:00:00.000000\",\"2018-01-23 00:00:00.000000\",\"2018-01-24 00:00:00.000000\",\"2018-01-25 00:00:00.000000\",\"2018-01-26 00:00:00.000000\",\"2018-01-29 00:00:00.000000\",\"2018-01-30 00:00:00.000000\",\"2018-01-31 00:00:00.000000\",\"2018-02-01 00:00:00.000000\",\"2018-02-02 00:00:00.000000\",\"2018-02-05 00:00:00.000000\",\"2018-02-06 00:00:00.000000\",\"2018-02-07 00:00:00.000000\",\"2018-02-08 00:00:00.000000\",\"2018-02-09 00:00:00.000000\",\"2018-02-12 00:00:00.000000\",\"2018-02-13 00:00:00.000000\",\"2018-02-14 00:00:00.000000\",\"2018-02-15 00:00:00.000000\",\"2018-02-16 00:00:00.000000\",\"2018-02-20 00:00:00.000000\",\"2018-02-21 00:00:00.000000\",\"2018-02-22 00:00:00.000000\",\"2018-02-23 00:00:00.000000\",\"2018-02-26 00:00:00.000000\",\"2018-02-27 00:00:00.000000\",\"2018-02-28 00:00:00.000000\",\"2018-03-01 00:00:00.000000\",\"2018-03-02 00:00:00.000000\",\"2018-03-05 00:00:00.000000\",\"2018-03-06 00:00:00.000000\",\"2018-03-07 00:00:00.000000\",\"2018-03-08 00:00:00.000000\",\"2018-03-09 00:00:00.000000\",\"2018-03-12 00:00:00.000000\",\"2018-03-13 00:00:00.000000\",\"2018-03-14 00:00:00.000000\",\"2018-03-15 00:00:00.000000\",\"2018-03-16 00:00:00.000000\",\"2018-03-19 00:00:00.000000\",\"2018-03-20 00:00:00.000000\",\"2018-03-21 00:00:00.000000\",\"2018-03-22 00:00:00.000000\",\"2018-03-23 00:00:00.000000\",\"2018-03-26 00:00:00.000000\",\"2018-03-27 00:00:00.000000\",\"2018-03-28 00:00:00.000000\",\"2018-03-29 00:00:00.000000\",\"2018-04-02 00:00:00.000000\",\"2018-04-03 00:00:00.000000\",\"2018-04-04 00:00:00.000000\",\"2018-04-05 00:00:00.000000\",\"2018-04-06 00:00:00.000000\",\"2018-04-09 00:00:00.000000\",\"2018-04-10 00:00:00.000000\",\"2018-04-11 00:00:00.000000\",\"2018-04-12 00:00:00.000000\",\"2018-04-13 00:00:00.000000\",\"2018-04-16 00:00:00.000000\",\"2018-04-17 00:00:00.000000\",\"2018-04-18 00:00:00.000000\",\"2018-04-19 00:00:00.000000\",\"2018-04-20 00:00:00.000000\",\"2018-04-23 00:00:00.000000\",\"2018-04-24 00:00:00.000000\",\"2018-04-25 00:00:00.000000\",\"2018-04-26 00:00:00.000000\",\"2018-04-27 00:00:00.000000\",\"2018-04-30 00:00:00.000000\",\"2018-05-01 00:00:00.000000\",\"2018-05-02 00:00:00.000000\",\"2018-05-03 00:00:00.000000\",\"2018-05-04 00:00:00.000000\",\"2018-05-07 00:00:00.000000\",\"2018-05-08 00:00:00.000000\",\"2018-05-09 00:00:00.000000\",\"2018-05-10 00:00:00.000000\",\"2018-05-11 00:00:00.000000\",\"2018-05-14 00:00:00.000000\",\"2018-05-15 00:00:00.000000\",\"2018-05-16 00:00:00.000000\",\"2018-05-17 00:00:00.000000\",\"2018-05-18 00:00:00.000000\",\"2018-05-21 00:00:00.000000\",\"2018-05-22 00:00:00.000000\",\"2018-05-23 00:00:00.000000\",\"2018-05-24 00:00:00.000000\",\"2018-05-25 00:00:00.000000\",\"2018-05-29 00:00:00.000000\",\"2018-05-30 00:00:00.000000\",\"2018-05-31 00:00:00.000000\",\"2018-06-01 00:00:00.000000\",\"2018-06-04 00:00:00.000000\",\"2018-06-05 00:00:00.000000\",\"2018-06-06 00:00:00.000000\",\"2018-06-07 00:00:00.000000\",\"2018-06-08 00:00:00.000000\",\"2018-06-11 00:00:00.000000\",\"2018-06-12 00:00:00.000000\",\"2018-06-13 00:00:00.000000\",\"2018-06-14 00:00:00.000000\",\"2018-06-15 00:00:00.000000\",\"2018-06-18 00:00:00.000000\",\"2018-06-19 00:00:00.000000\",\"2018-06-20 00:00:00.000000\",\"2018-06-21 00:00:00.000000\",\"2018-06-22 00:00:00.000000\",\"2018-06-25 00:00:00.000000\",\"2018-06-26 00:00:00.000000\",\"2018-06-27 00:00:00.000000\",\"2018-06-28 00:00:00.000000\",\"2018-06-29 00:00:00.000000\",\"2018-07-02 00:00:00.000000\",\"2018-07-03 00:00:00.000000\",\"2018-07-05 00:00:00.000000\",\"2018-07-06 00:00:00.000000\",\"2018-07-09 00:00:00.000000\",\"2018-07-10 00:00:00.000000\",\"2018-07-11 00:00:00.000000\",\"2018-07-12 00:00:00.000000\",\"2018-07-13 00:00:00.000000\",\"2018-07-16 00:00:00.000000\",\"2018-07-17 00:00:00.000000\",\"2018-07-18 00:00:00.000000\",\"2018-07-19 00:00:00.000000\",\"2018-07-20 00:00:00.000000\",\"2018-07-23 00:00:00.000000\",\"2018-07-24 00:00:00.000000\",\"2018-07-25 00:00:00.000000\",\"2018-07-26 00:00:00.000000\",\"2018-07-27 00:00:00.000000\",\"2018-07-30 00:00:00.000000\",\"2018-07-31 00:00:00.000000\",\"2018-08-01 00:00:00.000000\",\"2018-08-02 00:00:00.000000\",\"2018-08-03 00:00:00.000000\",\"2018-08-06 00:00:00.000000\",\"2018-08-07 00:00:00.000000\",\"2018-08-08 00:00:00.000000\",\"2018-08-09 00:00:00.000000\",\"2018-08-10 00:00:00.000000\",\"2018-08-13 00:00:00.000000\",\"2018-08-14 00:00:00.000000\",\"2018-08-15 00:00:00.000000\",\"2018-08-16 00:00:00.000000\",\"2018-08-17 00:00:00.000000\",\"2018-08-20 00:00:00.000000\",\"2018-08-21 00:00:00.000000\",\"2018-08-22 00:00:00.000000\",\"2018-08-23 00:00:00.000000\",\"2018-08-24 00:00:00.000000\",\"2018-08-27 00:00:00.000000\",\"2018-08-28 00:00:00.000000\",\"2018-08-29 00:00:00.000000\",\"2018-08-30 00:00:00.000000\",\"2018-08-31 00:00:00.000000\",\"2018-09-04 00:00:00.000000\",\"2018-09-05 00:00:00.000000\",\"2018-09-06 00:00:00.000000\",\"2018-09-07 00:00:00.000000\",\"2018-09-10 00:00:00.000000\",\"2018-09-11 00:00:00.000000\",\"2018-09-12 00:00:00.000000\",\"2018-09-13 00:00:00.000000\",\"2018-09-14 00:00:00.000000\",\"2018-09-17 00:00:00.000000\",\"2018-09-18 00:00:00.000000\",\"2018-09-19 00:00:00.000000\",\"2018-09-20 00:00:00.000000\",\"2018-09-21 00:00:00.000000\",\"2018-09-24 00:00:00.000000\",\"2018-09-25 00:00:00.000000\",\"2018-09-26 00:00:00.000000\",\"2018-09-27 00:00:00.000000\",\"2018-09-28 00:00:00.000000\",\"2018-10-01 00:00:00.000000\",\"2018-10-02 00:00:00.000000\",\"2018-10-03 00:00:00.000000\",\"2018-10-04 00:00:00.000000\",\"2018-10-05 00:00:00.000000\",\"2018-10-08 00:00:00.000000\",\"2018-10-09 00:00:00.000000\",\"2018-10-10 00:00:00.000000\",\"2018-10-11 00:00:00.000000\",\"2018-10-12 00:00:00.000000\",\"2018-10-15 00:00:00.000000\",\"2018-10-16 00:00:00.000000\",\"2018-10-17 00:00:00.000000\",\"2018-10-18 00:00:00.000000\",\"2018-10-19 00:00:00.000000\",\"2018-10-22 00:00:00.000000\",\"2018-10-23 00:00:00.000000\",\"2018-10-24 00:00:00.000000\",\"2018-10-25 00:00:00.000000\",\"2018-10-26 00:00:00.000000\",\"2018-10-29 00:00:00.000000\",\"2018-10-30 00:00:00.000000\",\"2018-10-31 00:00:00.000000\",\"2018-11-01 00:00:00.000000\",\"2018-11-02 00:00:00.000000\",\"2018-11-05 00:00:00.000000\",\"2018-11-06 00:00:00.000000\",\"2018-11-07 00:00:00.000000\",\"2018-11-08 00:00:00.000000\",\"2018-11-09 00:00:00.000000\",\"2018-11-12 00:00:00.000000\",\"2018-11-13 00:00:00.000000\",\"2018-11-14 00:00:00.000000\",\"2018-11-15 00:00:00.000000\",\"2018-11-16 00:00:00.000000\",\"2018-11-19 00:00:00.000000\",\"2018-11-20 00:00:00.000000\",\"2018-11-21 00:00:00.000000\",\"2018-11-23 00:00:00.000000\",\"2018-11-26 00:00:00.000000\",\"2018-11-27 00:00:00.000000\",\"2018-11-28 00:00:00.000000\",\"2018-11-29 00:00:00.000000\",\"2018-11-30 00:00:00.000000\",\"2018-12-03 00:00:00.000000\",\"2018-12-04 00:00:00.000000\",\"2018-12-06 00:00:00.000000\",\"2018-12-07 00:00:00.000000\",\"2018-12-10 00:00:00.000000\",\"2018-12-11 00:00:00.000000\",\"2018-12-12 00:00:00.000000\",\"2018-12-13 00:00:00.000000\",\"2018-12-14 00:00:00.000000\",\"2018-12-17 00:00:00.000000\",\"2018-12-18 00:00:00.000000\",\"2018-12-19 00:00:00.000000\",\"2018-12-20 00:00:00.000000\",\"2018-12-21 00:00:00.000000\",\"2018-12-24 00:00:00.000000\",\"2018-12-26 00:00:00.000000\",\"2018-12-27 00:00:00.000000\",\"2018-12-28 00:00:00.000000\",\"2018-12-31 00:00:00.000000\",\"2019-01-02 00:00:00.000000\",\"2019-01-03 00:00:00.000000\",\"2019-01-04 00:00:00.000000\",\"2019-01-07 00:00:00.000000\",\"2019-01-08 00:00:00.000000\",\"2019-01-09 00:00:00.000000\",\"2019-01-10 00:00:00.000000\",\"2019-01-11 00:00:00.000000\",\"2019-01-14 00:00:00.000000\",\"2019-01-15 00:00:00.000000\",\"2019-01-16 00:00:00.000000\",\"2019-01-17 00:00:00.000000\",\"2019-01-18 00:00:00.000000\",\"2019-01-22 00:00:00.000000\",\"2019-01-23 00:00:00.000000\",\"2019-01-24 00:00:00.000000\",\"2019-01-25 00:00:00.000000\",\"2019-01-28 00:00:00.000000\",\"2019-01-29 00:00:00.000000\",\"2019-01-30 00:00:00.000000\",\"2019-01-31 00:00:00.000000\",\"2019-02-01 00:00:00.000000\",\"2019-02-04 00:00:00.000000\",\"2019-02-05 00:00:00.000000\",\"2019-02-06 00:00:00.000000\",\"2019-02-07 00:00:00.000000\",\"2019-02-08 00:00:00.000000\",\"2019-02-11 00:00:00.000000\",\"2019-02-12 00:00:00.000000\",\"2019-02-13 00:00:00.000000\",\"2019-02-14 00:00:00.000000\",\"2019-02-15 00:00:00.000000\",\"2019-02-19 00:00:00.000000\",\"2019-02-20 00:00:00.000000\",\"2019-02-21 00:00:00.000000\",\"2019-02-22 00:00:00.000000\",\"2019-02-25 00:00:00.000000\",\"2019-02-26 00:00:00.000000\",\"2019-02-27 00:00:00.000000\",\"2019-02-28 00:00:00.000000\",\"2019-03-01 00:00:00.000000\",\"2019-03-04 00:00:00.000000\",\"2019-03-05 00:00:00.000000\",\"2019-03-06 00:00:00.000000\",\"2019-03-07 00:00:00.000000\",\"2019-03-08 00:00:00.000000\",\"2019-03-11 00:00:00.000000\",\"2019-03-12 00:00:00.000000\",\"2019-03-13 00:00:00.000000\",\"2019-03-14 00:00:00.000000\",\"2019-03-15 00:00:00.000000\",\"2019-03-18 00:00:00.000000\",\"2019-03-19 00:00:00.000000\",\"2019-03-20 00:00:00.000000\",\"2019-03-21 00:00:00.000000\",\"2019-03-22 00:00:00.000000\",\"2019-03-25 00:00:00.000000\",\"2019-03-26 00:00:00.000000\",\"2019-03-27 00:00:00.000000\",\"2019-03-28 00:00:00.000000\",\"2019-03-29 00:00:00.000000\",\"2019-04-01 00:00:00.000000\",\"2019-04-02 00:00:00.000000\",\"2019-04-03 00:00:00.000000\",\"2019-04-04 00:00:00.000000\",\"2019-04-05 00:00:00.000000\",\"2019-04-08 00:00:00.000000\",\"2019-04-09 00:00:00.000000\",\"2019-04-10 00:00:00.000000\",\"2019-04-11 00:00:00.000000\",\"2019-04-12 00:00:00.000000\",\"2019-04-15 00:00:00.000000\",\"2019-04-16 00:00:00.000000\",\"2019-04-17 00:00:00.000000\",\"2019-04-18 00:00:00.000000\",\"2019-04-22 00:00:00.000000\",\"2019-04-23 00:00:00.000000\",\"2019-04-24 00:00:00.000000\",\"2019-04-25 00:00:00.000000\",\"2019-04-26 00:00:00.000000\",\"2019-04-29 00:00:00.000000\",\"2019-04-30 00:00:00.000000\",\"2019-05-01 00:00:00.000000\",\"2019-05-02 00:00:00.000000\",\"2019-05-03 00:00:00.000000\",\"2019-05-06 00:00:00.000000\",\"2019-05-07 00:00:00.000000\",\"2019-05-08 00:00:00.000000\",\"2019-05-09 00:00:00.000000\",\"2019-05-10 00:00:00.000000\",\"2019-05-13 00:00:00.000000\",\"2019-05-14 00:00:00.000000\",\"2019-05-15 00:00:00.000000\",\"2019-05-16 00:00:00.000000\",\"2019-05-17 00:00:00.000000\",\"2019-05-20 00:00:00.000000\",\"2019-05-21 00:00:00.000000\",\"2019-05-22 00:00:00.000000\",\"2019-05-23 00:00:00.000000\",\"2019-05-24 00:00:00.000000\",\"2019-05-28 00:00:00.000000\",\"2019-05-29 00:00:00.000000\",\"2019-05-30 00:00:00.000000\",\"2019-05-31 00:00:00.000000\",\"2019-06-03 00:00:00.000000\",\"2019-06-04 00:00:00.000000\",\"2019-06-05 00:00:00.000000\",\"2019-06-06 00:00:00.000000\",\"2019-06-07 00:00:00.000000\",\"2019-06-10 00:00:00.000000\",\"2019-06-11 00:00:00.000000\",\"2019-06-12 00:00:00.000000\",\"2019-06-13 00:00:00.000000\",\"2019-06-14 00:00:00.000000\",\"2019-06-17 00:00:00.000000\",\"2019-06-18 00:00:00.000000\",\"2019-06-19 00:00:00.000000\",\"2019-06-20 00:00:00.000000\",\"2019-06-21 00:00:00.000000\",\"2019-06-24 00:00:00.000000\",\"2019-06-25 00:00:00.000000\",\"2019-06-26 00:00:00.000000\",\"2019-06-27 00:00:00.000000\",\"2019-06-28 00:00:00.000000\",\"2019-07-01 00:00:00.000000\",\"2019-07-02 00:00:00.000000\",\"2019-07-03 00:00:00.000000\",\"2019-07-05 00:00:00.000000\",\"2019-07-08 00:00:00.000000\",\"2019-07-09 00:00:00.000000\",\"2019-07-10 00:00:00.000000\",\"2019-07-11 00:00:00.000000\",\"2019-07-12 00:00:00.000000\",\"2019-07-15 00:00:00.000000\",\"2019-07-16 00:00:00.000000\",\"2019-07-17 00:00:00.000000\",\"2019-07-18 00:00:00.000000\",\"2019-07-19 00:00:00.000000\",\"2019-07-22 00:00:00.000000\",\"2019-07-23 00:00:00.000000\",\"2019-07-24 00:00:00.000000\",\"2019-07-25 00:00:00.000000\",\"2019-07-26 00:00:00.000000\",\"2019-07-29 00:00:00.000000\",\"2019-07-30 00:00:00.000000\",\"2019-07-31 00:00:00.000000\",\"2019-08-01 00:00:00.000000\",\"2019-08-02 00:00:00.000000\",\"2019-08-05 00:00:00.000000\",\"2019-08-06 00:00:00.000000\",\"2019-08-07 00:00:00.000000\",\"2019-08-08 00:00:00.000000\",\"2019-08-09 00:00:00.000000\",\"2019-08-12 00:00:00.000000\",\"2019-08-13 00:00:00.000000\",\"2019-08-14 00:00:00.000000\",\"2019-08-15 00:00:00.000000\",\"2019-08-16 00:00:00.000000\",\"2019-08-19 00:00:00.000000\",\"2019-08-20 00:00:00.000000\",\"2019-08-21 00:00:00.000000\",\"2019-08-22 00:00:00.000000\",\"2019-08-23 00:00:00.000000\",\"2019-08-26 00:00:00.000000\",\"2019-08-27 00:00:00.000000\",\"2019-08-28 00:00:00.000000\",\"2019-08-29 00:00:00.000000\",\"2019-08-30 00:00:00.000000\",\"2019-09-03 00:00:00.000000\",\"2019-09-04 00:00:00.000000\",\"2019-09-05 00:00:00.000000\",\"2019-09-06 00:00:00.000000\",\"2019-09-09 00:00:00.000000\",\"2019-09-10 00:00:00.000000\",\"2019-09-11 00:00:00.000000\",\"2019-09-12 00:00:00.000000\",\"2019-09-13 00:00:00.000000\",\"2019-09-16 00:00:00.000000\",\"2019-09-17 00:00:00.000000\",\"2019-09-18 00:00:00.000000\",\"2019-09-19 00:00:00.000000\",\"2019-09-20 00:00:00.000000\",\"2019-09-23 00:00:00.000000\",\"2019-09-24 00:00:00.000000\",\"2019-09-25 00:00:00.000000\",\"2019-09-26 00:00:00.000000\",\"2019-09-27 00:00:00.000000\",\"2019-09-30 00:00:00.000000\",\"2019-10-01 00:00:00.000000\",\"2019-10-02 00:00:00.000000\",\"2019-10-03 00:00:00.000000\",\"2019-10-04 00:00:00.000000\",\"2019-10-07 00:00:00.000000\",\"2019-10-08 00:00:00.000000\",\"2019-10-09 00:00:00.000000\",\"2019-10-10 00:00:00.000000\",\"2019-10-11 00:00:00.000000\",\"2019-10-14 00:00:00.000000\",\"2019-10-15 00:00:00.000000\",\"2019-10-16 00:00:00.000000\",\"2019-10-17 00:00:00.000000\",\"2019-10-18 00:00:00.000000\",\"2019-10-21 00:00:00.000000\",\"2019-10-22 00:00:00.000000\",\"2019-10-23 00:00:00.000000\",\"2019-10-24 00:00:00.000000\",\"2019-10-25 00:00:00.000000\",\"2019-10-28 00:00:00.000000\",\"2019-10-29 00:00:00.000000\",\"2019-10-30 00:00:00.000000\",\"2019-10-31 00:00:00.000000\",\"2019-11-01 00:00:00.000000\",\"2019-11-04 00:00:00.000000\",\"2019-11-05 00:00:00.000000\",\"2019-11-06 00:00:00.000000\",\"2019-11-07 00:00:00.000000\",\"2019-11-08 00:00:00.000000\",\"2019-11-11 00:00:00.000000\",\"2019-11-12 00:00:00.000000\",\"2019-11-13 00:00:00.000000\",\"2019-11-14 00:00:00.000000\",\"2019-11-15 00:00:00.000000\",\"2019-11-18 00:00:00.000000\",\"2019-11-19 00:00:00.000000\",\"2019-11-20 00:00:00.000000\",\"2019-11-21 00:00:00.000000\",\"2019-11-22 00:00:00.000000\",\"2019-11-25 00:00:00.000000\",\"2019-11-26 00:00:00.000000\",\"2019-11-27 00:00:00.000000\",\"2019-11-29 00:00:00.000000\",\"2019-12-02 00:00:00.000000\",\"2019-12-03 00:00:00.000000\",\"2019-12-04 00:00:00.000000\",\"2019-12-05 00:00:00.000000\",\"2019-12-06 00:00:00.000000\",\"2019-12-09 00:00:00.000000\",\"2019-12-10 00:00:00.000000\",\"2019-12-11 00:00:00.000000\",\"2019-12-12 00:00:00.000000\",\"2019-12-13 00:00:00.000000\",\"2019-12-16 00:00:00.000000\",\"2019-12-17 00:00:00.000000\",\"2019-12-18 00:00:00.000000\",\"2019-12-19 00:00:00.000000\",\"2019-12-20 00:00:00.000000\",\"2019-12-23 00:00:00.000000\",\"2019-12-24 00:00:00.000000\",\"2019-12-26 00:00:00.000000\",\"2019-12-27 00:00:00.000000\",\"2019-12-30 00:00:00.000000\",\"2019-12-31 00:00:00.000000\",\"2020-01-02 00:00:00.000000\",\"2020-01-03 00:00:00.000000\",\"2020-01-06 00:00:00.000000\",\"2020-01-07 00:00:00.000000\",\"2020-01-08 00:00:00.000000\",\"2020-01-09 00:00:00.000000\",\"2020-01-10 00:00:00.000000\",\"2020-01-13 00:00:00.000000\",\"2020-01-14 00:00:00.000000\",\"2020-01-15 00:00:00.000000\",\"2020-01-16 00:00:00.000000\",\"2020-01-17 00:00:00.000000\",\"2020-01-21 00:00:00.000000\",\"2020-01-22 00:00:00.000000\",\"2020-01-23 00:00:00.000000\",\"2020-01-24 00:00:00.000000\",\"2020-01-27 00:00:00.000000\",\"2020-01-28 00:00:00.000000\",\"2020-01-29 00:00:00.000000\",\"2020-01-30 00:00:00.000000\",\"2020-01-31 00:00:00.000000\",\"2020-02-03 00:00:00.000000\",\"2020-02-04 00:00:00.000000\",\"2020-02-05 00:00:00.000000\",\"2020-02-06 00:00:00.000000\",\"2020-02-07 00:00:00.000000\",\"2020-02-10 00:00:00.000000\",\"2020-02-11 00:00:00.000000\",\"2020-02-12 00:00:00.000000\",\"2020-02-13 00:00:00.000000\",\"2020-02-14 00:00:00.000000\",\"2020-02-18 00:00:00.000000\",\"2020-02-19 00:00:00.000000\",\"2020-02-20 00:00:00.000000\",\"2020-02-21 00:00:00.000000\",\"2020-02-24 00:00:00.000000\",\"2020-02-25 00:00:00.000000\",\"2020-02-26 00:00:00.000000\",\"2020-02-27 00:00:00.000000\",\"2020-02-28 00:00:00.000000\",\"2020-03-02 00:00:00.000000\",\"2020-03-03 00:00:00.000000\",\"2020-03-04 00:00:00.000000\",\"2020-03-05 00:00:00.000000\",\"2020-03-06 00:00:00.000000\",\"2020-03-09 00:00:00.000000\",\"2020-03-10 00:00:00.000000\",\"2020-03-11 00:00:00.000000\",\"2020-03-12 00:00:00.000000\",\"2020-03-13 00:00:00.000000\",\"2020-03-16 00:00:00.000000\",\"2020-03-17 00:00:00.000000\",\"2020-03-18 00:00:00.000000\",\"2020-03-19 00:00:00.000000\",\"2020-03-20 00:00:00.000000\",\"2020-03-23 00:00:00.000000\",\"2020-03-24 00:00:00.000000\",\"2020-03-25 00:00:00.000000\",\"2020-03-26 00:00:00.000000\",\"2020-03-27 00:00:00.000000\",\"2020-03-30 00:00:00.000000\",\"2020-03-31 00:00:00.000000\",\"2020-04-01 00:00:00.000000\",\"2020-04-02 00:00:00.000000\",\"2020-04-03 00:00:00.000000\",\"2020-04-06 00:00:00.000000\",\"2020-04-07 00:00:00.000000\",\"2020-04-08 00:00:00.000000\",\"2020-04-09 00:00:00.000000\",\"2020-04-13 00:00:00.000000\",\"2020-04-14 00:00:00.000000\",\"2020-04-15 00:00:00.000000\",\"2020-04-16 00:00:00.000000\",\"2020-04-17 00:00:00.000000\",\"2020-04-20 00:00:00.000000\",\"2020-04-21 00:00:00.000000\",\"2020-04-22 00:00:00.000000\",\"2020-04-23 00:00:00.000000\",\"2020-04-24 00:00:00.000000\",\"2020-04-27 00:00:00.000000\",\"2020-04-28 00:00:00.000000\",\"2020-04-29 00:00:00.000000\",\"2020-04-30 00:00:00.000000\",\"2020-05-01 00:00:00.000000\",\"2020-05-04 00:00:00.000000\",\"2020-05-05 00:00:00.000000\",\"2020-05-06 00:00:00.000000\",\"2020-05-07 00:00:00.000000\",\"2020-05-08 00:00:00.000000\",\"2020-05-11 00:00:00.000000\",\"2020-05-12 00:00:00.000000\",\"2020-05-13 00:00:00.000000\",\"2020-05-14 00:00:00.000000\",\"2020-05-15 00:00:00.000000\",\"2020-05-18 00:00:00.000000\",\"2020-05-19 00:00:00.000000\",\"2020-05-20 00:00:00.000000\",\"2020-05-21 00:00:00.000000\",\"2020-05-22 00:00:00.000000\",\"2020-05-26 00:00:00.000000\",\"2020-05-27 00:00:00.000000\",\"2020-05-28 00:00:00.000000\",\"2020-05-29 00:00:00.000000\",\"2020-06-01 00:00:00.000000\",\"2020-06-02 00:00:00.000000\",\"2020-06-03 00:00:00.000000\",\"2020-06-04 00:00:00.000000\",\"2020-06-05 00:00:00.000000\",\"2020-06-08 00:00:00.000000\",\"2020-06-09 00:00:00.000000\",\"2020-06-10 00:00:00.000000\",\"2020-06-11 00:00:00.000000\",\"2020-06-12 00:00:00.000000\",\"2020-06-15 00:00:00.000000\",\"2020-06-16 00:00:00.000000\",\"2020-06-17 00:00:00.000000\",\"2020-06-18 00:00:00.000000\",\"2020-06-19 00:00:00.000000\",\"2020-06-22 00:00:00.000000\",\"2020-06-23 00:00:00.000000\",\"2020-06-24 00:00:00.000000\",\"2020-06-25 00:00:00.000000\",\"2020-06-26 00:00:00.000000\",\"2020-06-29 00:00:00.000000\",\"2020-06-30 00:00:00.000000\",\"2020-07-01 00:00:00.000000\",\"2020-07-02 00:00:00.000000\",\"2020-07-06 00:00:00.000000\",\"2020-07-07 00:00:00.000000\",\"2020-07-08 00:00:00.000000\",\"2020-07-09 00:00:00.000000\",\"2020-07-10 00:00:00.000000\",\"2020-07-13 00:00:00.000000\",\"2020-07-14 00:00:00.000000\",\"2020-07-15 00:00:00.000000\",\"2020-07-16 00:00:00.000000\",\"2020-07-17 00:00:00.000000\",\"2020-07-20 00:00:00.000000\",\"2020-07-21 00:00:00.000000\",\"2020-07-22 00:00:00.000000\",\"2020-07-23 00:00:00.000000\",\"2020-07-24 00:00:00.000000\",\"2020-07-27 00:00:00.000000\",\"2020-07-28 00:00:00.000000\",\"2020-07-29 00:00:00.000000\",\"2020-07-30 00:00:00.000000\",\"2020-07-31 00:00:00.000000\",\"2020-08-03 00:00:00.000000\",\"2020-08-04 00:00:00.000000\",\"2020-08-05 00:00:00.000000\",\"2020-08-06 00:00:00.000000\",\"2020-08-07 00:00:00.000000\",\"2020-08-10 00:00:00.000000\",\"2020-08-11 00:00:00.000000\",\"2020-08-12 00:00:00.000000\",\"2020-08-13 00:00:00.000000\",\"2020-08-14 00:00:00.000000\",\"2020-08-17 00:00:00.000000\",\"2020-08-18 00:00:00.000000\",\"2020-08-19 00:00:00.000000\",\"2020-08-20 00:00:00.000000\",\"2020-08-21 00:00:00.000000\",\"2020-08-24 00:00:00.000000\",\"2020-08-25 00:00:00.000000\",\"2020-08-26 00:00:00.000000\",\"2020-08-27 00:00:00.000000\",\"2020-08-28 00:00:00.000000\",\"2020-08-31 00:00:00.000000\",\"2020-09-01 00:00:00.000000\",\"2020-09-02 00:00:00.000000\",\"2020-09-03 00:00:00.000000\",\"2020-09-04 00:00:00.000000\",\"2020-09-08 00:00:00.000000\",\"2020-09-09 00:00:00.000000\",\"2020-09-10 00:00:00.000000\",\"2020-09-11 00:00:00.000000\",\"2020-09-14 00:00:00.000000\",\"2020-09-15 00:00:00.000000\",\"2020-09-16 00:00:00.000000\",\"2020-09-17 00:00:00.000000\",\"2020-09-18 00:00:00.000000\",\"2020-09-21 00:00:00.000000\",\"2020-09-22 00:00:00.000000\",\"2020-09-23 00:00:00.000000\",\"2020-09-24 00:00:00.000000\",\"2020-09-25 00:00:00.000000\",\"2020-09-28 00:00:00.000000\",\"2020-09-29 00:00:00.000000\",\"2020-09-30 00:00:00.000000\",\"2020-10-01 00:00:00.000000\",\"2020-10-02 00:00:00.000000\",\"2020-10-05 00:00:00.000000\",\"2020-10-06 00:00:00.000000\",\"2020-10-07 00:00:00.000000\",\"2020-10-08 00:00:00.000000\",\"2020-10-09 00:00:00.000000\",\"2020-10-12 00:00:00.000000\",\"2020-10-13 00:00:00.000000\",\"2020-10-14 00:00:00.000000\",\"2020-10-15 00:00:00.000000\",\"2020-10-16 00:00:00.000000\",\"2020-10-19 00:00:00.000000\",\"2020-10-20 00:00:00.000000\",\"2020-10-21 00:00:00.000000\",\"2020-10-22 00:00:00.000000\",\"2020-10-23 00:00:00.000000\",\"2020-10-26 00:00:00.000000\",\"2020-10-27 00:00:00.000000\",\"2020-10-28 00:00:00.000000\",\"2020-10-29 00:00:00.000000\",\"2020-10-30 00:00:00.000000\",\"2020-11-02 00:00:00.000000\",\"2020-11-03 00:00:00.000000\",\"2020-11-04 00:00:00.000000\",\"2020-11-05 00:00:00.000000\",\"2020-11-06 00:00:00.000000\",\"2020-11-09 00:00:00.000000\",\"2020-11-10 00:00:00.000000\",\"2020-11-11 00:00:00.000000\",\"2020-11-12 00:00:00.000000\",\"2020-11-13 00:00:00.000000\",\"2020-11-16 00:00:00.000000\",\"2020-11-17 00:00:00.000000\",\"2020-11-18 00:00:00.000000\",\"2020-11-19 00:00:00.000000\",\"2020-11-20 00:00:00.000000\",\"2020-11-23 00:00:00.000000\",\"2020-11-24 00:00:00.000000\",\"2020-11-25 00:00:00.000000\",\"2020-11-27 00:00:00.000000\",\"2020-11-30 00:00:00.000000\",\"2020-12-01 00:00:00.000000\",\"2020-12-02 00:00:00.000000\",\"2020-12-03 00:00:00.000000\",\"2020-12-04 00:00:00.000000\"]},\"selected\":{\"id\":\"3223\"},\"selection_policy\":{\"id\":\"3244\"}},\"id\":\"3222\",\"type\":\"ColumnDataSource\"},{\"attributes\":{\"overlay\":{\"id\":\"3214\"}},\"id\":\"3212\",\"type\":\"BoxZoomTool\"},{\"attributes\":{\"below\":[{\"id\":\"3202\"}],\"center\":[{\"id\":\"3204\"},{\"id\":\"3208\"}],\"height\":300,\"left\":[{\"id\":\"3205\"}],\"margin\":[5,5,5,5],\"min_border_bottom\":10,\"min_border_left\":10,\"min_border_right\":10,\"min_border_top\":10,\"renderers\":[{\"id\":\"3228\"}],\"sizing_mode\":\"fixed\",\"title\":{\"id\":\"3194\"},\"toolbar\":{\"id\":\"3215\"},\"width\":700,\"x_range\":{\"id\":\"3190\"},\"x_scale\":{\"id\":\"3198\"},\"y_range\":{\"id\":\"3191\"},\"y_scale\":{\"id\":\"3200\"}},\"id\":\"3193\",\"subtype\":\"Figure\",\"type\":\"Plot\"},{\"attributes\":{},\"id\":\"3213\",\"type\":\"ResetTool\"},{\"attributes\":{\"bottom_units\":\"screen\",\"coordinates\":null,\"fill_alpha\":0.5,\"fill_color\":\"lightgrey\",\"group\":null,\"left_units\":\"screen\",\"level\":\"overlay\",\"line_alpha\":1.0,\"line_color\":\"black\",\"line_dash\":[4,4],\"line_width\":2,\"right_units\":\"screen\",\"syncable\":false,\"top_units\":\"screen\"},\"id\":\"3214\",\"type\":\"BoxAnnotation\"},{\"attributes\":{\"line_color\":\"#30a2da\",\"line_width\":2,\"x\":{\"field\":\"time\"},\"y\":{\"field\":\"daily_returns\"}},\"id\":\"3225\",\"type\":\"Line\"},{\"attributes\":{\"source\":{\"id\":\"3222\"}},\"id\":\"3229\",\"type\":\"CDSView\"},{\"attributes\":{},\"id\":\"3198\",\"type\":\"CategoricalScale\"},{\"attributes\":{\"axis\":{\"id\":\"3202\"},\"coordinates\":null,\"grid_line_color\":null,\"group\":null,\"ticker\":null},\"id\":\"3204\",\"type\":\"Grid\"},{\"attributes\":{\"axis_label\":\"daily_returns\",\"coordinates\":null,\"formatter\":{\"id\":\"3235\"},\"group\":null,\"major_label_policy\":{\"id\":\"3236\"},\"ticker\":{\"id\":\"3206\"}},\"id\":\"3205\",\"type\":\"LinearAxis\"},{\"attributes\":{},\"id\":\"3223\",\"type\":\"Selection\"},{\"attributes\":{},\"id\":\"3200\",\"type\":\"LinearScale\"},{\"attributes\":{},\"id\":\"3244\",\"type\":\"UnionRenderers\"},{\"attributes\":{\"tools\":[{\"id\":\"3192\"},{\"id\":\"3209\"},{\"id\":\"3210\"},{\"id\":\"3211\"},{\"id\":\"3212\"},{\"id\":\"3213\"}]},\"id\":\"3215\",\"type\":\"Toolbar\"},{\"attributes\":{},\"id\":\"3232\",\"type\":\"CategoricalTickFormatter\"},{\"attributes\":{},\"id\":\"3233\",\"type\":\"AllLabels\"},{\"attributes\":{\"margin\":[5,5,5,5],\"name\":\"HSpacer05355\",\"sizing_mode\":\"stretch_width\"},\"id\":\"3189\",\"type\":\"Spacer\"},{\"attributes\":{\"line_alpha\":0.2,\"line_color\":\"#30a2da\",\"line_width\":2,\"x\":{\"field\":\"time\"},\"y\":{\"field\":\"daily_returns\"}},\"id\":\"3227\",\"type\":\"Line\"},{\"attributes\":{\"axis\":{\"id\":\"3205\"},\"coordinates\":null,\"dimension\":1,\"grid_line_color\":null,\"group\":null,\"ticker\":null},\"id\":\"3208\",\"type\":\"Grid\"},{\"attributes\":{},\"id\":\"3235\",\"type\":\"BasicTickFormatter\"},{\"attributes\":{\"margin\":[5,5,5,5],\"name\":\"HSpacer05356\",\"sizing_mode\":\"stretch_width\"},\"id\":\"3257\",\"type\":\"Spacer\"},{\"attributes\":{},\"id\":\"3206\",\"type\":\"BasicTicker\"},{\"attributes\":{\"children\":[{\"id\":\"3189\"},{\"id\":\"3193\"},{\"id\":\"3257\"}],\"margin\":[0,0,0,0],\"name\":\"Row05351\",\"tags\":[\"embedded\"]},\"id\":\"3188\",\"type\":\"Row\"},{\"attributes\":{},\"id\":\"3236\",\"type\":\"AllLabels\"},{\"attributes\":{\"line_color\":\"#30a2da\",\"line_width\":2,\"x\":{\"field\":\"time\"},\"y\":{\"field\":\"daily_returns\"}},\"id\":\"3230\",\"type\":\"Line\"},{\"attributes\":{\"line_alpha\":0.1,\"line_color\":\"#30a2da\",\"line_width\":2,\"x\":{\"field\":\"time\"},\"y\":{\"field\":\"daily_returns\"}},\"id\":\"3226\",\"type\":\"Line\"},{\"attributes\":{},\"id\":\"3203\",\"type\":\"CategoricalTicker\"},{\"attributes\":{\"coordinates\":null,\"data_source\":{\"id\":\"3222\"},\"glyph\":{\"id\":\"3225\"},\"group\":null,\"hover_glyph\":null,\"muted_glyph\":{\"id\":\"3227\"},\"nonselection_glyph\":{\"id\":\"3226\"},\"selection_glyph\":{\"id\":\"3230\"},\"view\":{\"id\":\"3229\"}},\"id\":\"3228\",\"type\":\"GlyphRenderer\"},{\"attributes\":{\"axis_label\":\"time\",\"coordinates\":null,\"formatter\":{\"id\":\"3232\"},\"group\":null,\"major_label_orientation\":1.5707963267948966,\"major_label_policy\":{\"id\":\"3233\"},\"ticker\":{\"id\":\"3203\"}},\"id\":\"3202\",\"type\":\"CategoricalAxis\"},{\"attributes\":{\"coordinates\":null,\"group\":null,\"text_color\":\"black\",\"text_font_size\":\"12pt\"},\"id\":\"3194\",\"type\":\"Title\"},{\"attributes\":{\"callback\":null,\"renderers\":[{\"id\":\"3228\"}],\"tags\":[\"hv_created\"],\"tooltips\":[[\"time\",\"@{time}\"],[\"daily_returns\",\"@{daily_returns}\"]]},\"id\":\"3192\",\"type\":\"HoverTool\"}],\"root_ids\":[\"3188\"]},\"title\":\"Bokeh Application\",\"version\":\"2.4.1\"}};\n",
       "    var render_items = [{\"docid\":\"92fb10ce-63f5-47e7-982e-e9c3be10ff06\",\"root_ids\":[\"3188\"],\"roots\":{\"3188\":\"2b1ba219-d9a3-4673-ba91-af3338ddf78e\"}}];\n",
       "    root.Bokeh.embed.embed_items_notebook(docs_json, render_items);\n",
       "  }\n",
       "  if (root.Bokeh !== undefined && root.Bokeh.Panel !== undefined) {\n",
       "    embed_document(root);\n",
       "  } else {\n",
       "    var attempts = 0;\n",
       "    var timer = setInterval(function(root) {\n",
       "      if (root.Bokeh !== undefined && root.Bokeh.Panel !== undefined) {\n",
       "        clearInterval(timer);\n",
       "        embed_document(root);\n",
       "      } else if (document.readyState == \"complete\") {\n",
       "        attempts++;\n",
       "        if (attempts > 200) {\n",
       "          clearInterval(timer);\n",
       "          console.log(\"Bokeh: ERROR: Unable to run BokehJS code because BokehJS library is missing\");\n",
       "        }\n",
       "      }\n",
       "    }, 25, root)\n",
       "  }\n",
       "})(window);</script>"
      ],
      "text/plain": [
       ":Curve   [time]   (daily_returns)"
      ]
     },
     "execution_count": 206,
     "metadata": {
      "application/vnd.holoviews_exec.v0+json": {
       "id": "3188"
      }
     },
     "output_type": "execute_result"
    }
   ],
   "source": [
    "# Create an interactive visualization with hvplot to plot the daily returns for PYPL.\n",
    "pypl_dataframe.hvplot(\n",
    "    x='time',\n",
    "    y=['daily_returns'],\n",
    ").opts(xrotation=90)\n",
    "\n"
   ]
  },
  {
   "cell_type": "markdown",
   "metadata": {
    "tags": []
   },
   "source": [
    "### Step 4: Using hvPlot, create an interactive visualization for the PYPL cumulative returns. Reflect the “time” column of the DataFrame on the x-axis. Make sure that you professionally style and format your visualization to enhance its readability."
   ]
  },
  {
   "cell_type": "code",
   "execution_count": 207,
   "metadata": {},
   "outputs": [
    {
     "data": {
      "text/plain": [
       "time\n",
       "2016-12-16 00:00:00.000000    0.994436\n",
       "2016-12-19 00:00:00.000000    0.997724\n",
       "2016-12-20 00:00:00.000000    1.005058\n",
       "2016-12-21 00:00:00.000000    1.013910\n",
       "2016-12-22 00:00:00.000000    1.003541\n",
       "Name: daily_returns, dtype: float64"
      ]
     },
     "execution_count": 207,
     "metadata": {},
     "output_type": "execute_result"
    }
   ],
   "source": [
    "# Create an interactive visaulization with hvplot to plot the cumulative returns for PYPL.\n",
    "pypl_dataframe1 = ((pypl_dataframe['daily_returns'])+1).cumprod()\n",
    "\n",
    "pypl_dataframe1.head()\n"
   ]
  },
  {
   "cell_type": "code",
   "execution_count": 208,
   "metadata": {},
   "outputs": [
    {
     "data": {},
     "metadata": {},
     "output_type": "display_data"
    },
    {
     "data": {
      "application/vnd.holoviews_exec.v0+json": "",
      "text/html": [
       "<div id='3309'>\n",
       "\n",
       "\n",
       "\n",
       "\n",
       "\n",
       "  <div class=\"bk-root\" id=\"87b56337-0f80-446c-86f0-44c64f7851b7\" data-root-id=\"3309\"></div>\n",
       "</div>\n",
       "<script type=\"application/javascript\">(function(root) {\n",
       "  function embed_document(root) {\n",
       "    var docs_json = {\"2f5340ae-88a9-4bfa-8b42-b1b15af11162\":{\"defs\":[{\"extends\":null,\"module\":null,\"name\":\"ReactiveHTML1\",\"overrides\":[],\"properties\":[]},{\"extends\":null,\"module\":null,\"name\":\"FlexBox1\",\"overrides\":[],\"properties\":[{\"default\":\"flex-start\",\"kind\":null,\"name\":\"align_content\"},{\"default\":\"flex-start\",\"kind\":null,\"name\":\"align_items\"},{\"default\":\"row\",\"kind\":null,\"name\":\"flex_direction\"},{\"default\":\"wrap\",\"kind\":null,\"name\":\"flex_wrap\"},{\"default\":\"flex-start\",\"kind\":null,\"name\":\"justify_content\"}]},{\"extends\":null,\"module\":null,\"name\":\"GridStack1\",\"overrides\":[],\"properties\":[{\"default\":\"warn\",\"kind\":null,\"name\":\"mode\"},{\"default\":null,\"kind\":null,\"name\":\"ncols\"},{\"default\":null,\"kind\":null,\"name\":\"nrows\"},{\"default\":true,\"kind\":null,\"name\":\"allow_resize\"},{\"default\":true,\"kind\":null,\"name\":\"allow_drag\"},{\"default\":[],\"kind\":null,\"name\":\"state\"}]},{\"extends\":null,\"module\":null,\"name\":\"click1\",\"overrides\":[],\"properties\":[{\"default\":\"\",\"kind\":null,\"name\":\"terminal_output\"},{\"default\":\"\",\"kind\":null,\"name\":\"debug_name\"},{\"default\":0,\"kind\":null,\"name\":\"clears\"}]},{\"extends\":null,\"module\":null,\"name\":\"TemplateActions1\",\"overrides\":[],\"properties\":[{\"default\":0,\"kind\":null,\"name\":\"open_modal\"},{\"default\":0,\"kind\":null,\"name\":\"close_modal\"}]},{\"extends\":null,\"module\":null,\"name\":\"MaterialTemplateActions1\",\"overrides\":[],\"properties\":[{\"default\":0,\"kind\":null,\"name\":\"open_modal\"},{\"default\":0,\"kind\":null,\"name\":\"close_modal\"}]}],\"roots\":{\"references\":[{\"attributes\":{\"factors\":[\"2016-12-16 00:00:00.000000\",\"2016-12-19 00:00:00.000000\",\"2016-12-20 00:00:00.000000\",\"2016-12-21 00:00:00.000000\",\"2016-12-22 00:00:00.000000\",\"2016-12-23 00:00:00.000000\",\"2016-12-27 00:00:00.000000\",\"2016-12-28 00:00:00.000000\",\"2016-12-29 00:00:00.000000\",\"2016-12-30 00:00:00.000000\",\"2017-01-03 00:00:00.000000\",\"2017-01-04 00:00:00.000000\",\"2017-01-05 00:00:00.000000\",\"2017-01-06 00:00:00.000000\",\"2017-01-09 00:00:00.000000\",\"2017-01-10 00:00:00.000000\",\"2017-01-11 00:00:00.000000\",\"2017-01-12 00:00:00.000000\",\"2017-01-13 00:00:00.000000\",\"2017-01-17 00:00:00.000000\",\"2017-01-18 00:00:00.000000\",\"2017-01-19 00:00:00.000000\",\"2017-01-20 00:00:00.000000\",\"2017-01-23 00:00:00.000000\",\"2017-01-24 00:00:00.000000\",\"2017-01-25 00:00:00.000000\",\"2017-01-26 00:00:00.000000\",\"2017-01-27 00:00:00.000000\",\"2017-01-30 00:00:00.000000\",\"2017-01-31 00:00:00.000000\",\"2017-02-01 00:00:00.000000\",\"2017-02-02 00:00:00.000000\",\"2017-02-03 00:00:00.000000\",\"2017-02-06 00:00:00.000000\",\"2017-02-07 00:00:00.000000\",\"2017-02-08 00:00:00.000000\",\"2017-02-09 00:00:00.000000\",\"2017-02-10 00:00:00.000000\",\"2017-02-13 00:00:00.000000\",\"2017-02-14 00:00:00.000000\",\"2017-02-15 00:00:00.000000\",\"2017-02-16 00:00:00.000000\",\"2017-02-17 00:00:00.000000\",\"2017-02-21 00:00:00.000000\",\"2017-02-22 00:00:00.000000\",\"2017-02-23 00:00:00.000000\",\"2017-02-24 00:00:00.000000\",\"2017-02-27 00:00:00.000000\",\"2017-02-28 00:00:00.000000\",\"2017-03-01 00:00:00.000000\",\"2017-03-02 00:00:00.000000\",\"2017-03-03 00:00:00.000000\",\"2017-03-06 00:00:00.000000\",\"2017-03-07 00:00:00.000000\",\"2017-03-08 00:00:00.000000\",\"2017-03-09 00:00:00.000000\",\"2017-03-10 00:00:00.000000\",\"2017-03-13 00:00:00.000000\",\"2017-03-14 00:00:00.000000\",\"2017-03-15 00:00:00.000000\",\"2017-03-16 00:00:00.000000\",\"2017-03-17 00:00:00.000000\",\"2017-03-20 00:00:00.000000\",\"2017-03-21 00:00:00.000000\",\"2017-03-22 00:00:00.000000\",\"2017-03-23 00:00:00.000000\",\"2017-03-24 00:00:00.000000\",\"2017-03-27 00:00:00.000000\",\"2017-03-28 00:00:00.000000\",\"2017-03-29 00:00:00.000000\",\"2017-03-30 00:00:00.000000\",\"2017-03-31 00:00:00.000000\",\"2017-04-03 00:00:00.000000\",\"2017-04-04 00:00:00.000000\",\"2017-04-05 00:00:00.000000\",\"2017-04-06 00:00:00.000000\",\"2017-04-07 00:00:00.000000\",\"2017-04-10 00:00:00.000000\",\"2017-04-11 00:00:00.000000\",\"2017-04-12 00:00:00.000000\",\"2017-04-13 00:00:00.000000\",\"2017-04-17 00:00:00.000000\",\"2017-04-18 00:00:00.000000\",\"2017-04-19 00:00:00.000000\",\"2017-04-20 00:00:00.000000\",\"2017-04-21 00:00:00.000000\",\"2017-04-24 00:00:00.000000\",\"2017-04-25 00:00:00.000000\",\"2017-04-26 00:00:00.000000\",\"2017-04-27 00:00:00.000000\",\"2017-04-28 00:00:00.000000\",\"2017-05-01 00:00:00.000000\",\"2017-05-02 00:00:00.000000\",\"2017-05-03 00:00:00.000000\",\"2017-05-04 00:00:00.000000\",\"2017-05-05 00:00:00.000000\",\"2017-05-08 00:00:00.000000\",\"2017-05-09 00:00:00.000000\",\"2017-05-10 00:00:00.000000\",\"2017-05-11 00:00:00.000000\",\"2017-05-12 00:00:00.000000\",\"2017-05-15 00:00:00.000000\",\"2017-05-16 00:00:00.000000\",\"2017-05-17 00:00:00.000000\",\"2017-05-18 00:00:00.000000\",\"2017-05-19 00:00:00.000000\",\"2017-05-22 00:00:00.000000\",\"2017-05-23 00:00:00.000000\",\"2017-05-24 00:00:00.000000\",\"2017-05-25 00:00:00.000000\",\"2017-05-26 00:00:00.000000\",\"2017-05-30 00:00:00.000000\",\"2017-05-31 00:00:00.000000\",\"2017-06-01 00:00:00.000000\",\"2017-06-02 00:00:00.000000\",\"2017-06-05 00:00:00.000000\",\"2017-06-06 00:00:00.000000\",\"2017-06-07 00:00:00.000000\",\"2017-06-08 00:00:00.000000\",\"2017-06-09 00:00:00.000000\",\"2017-06-12 00:00:00.000000\",\"2017-06-13 00:00:00.000000\",\"2017-06-14 00:00:00.000000\",\"2017-06-15 00:00:00.000000\",\"2017-06-16 00:00:00.000000\",\"2017-06-19 00:00:00.000000\",\"2017-06-20 00:00:00.000000\",\"2017-06-21 00:00:00.000000\",\"2017-06-22 00:00:00.000000\",\"2017-06-23 00:00:00.000000\",\"2017-06-26 00:00:00.000000\",\"2017-06-27 00:00:00.000000\",\"2017-06-28 00:00:00.000000\",\"2017-06-29 00:00:00.000000\",\"2017-06-30 00:00:00.000000\",\"2017-07-03 00:00:00.000000\",\"2017-07-05 00:00:00.000000\",\"2017-07-06 00:00:00.000000\",\"2017-07-07 00:00:00.000000\",\"2017-07-10 00:00:00.000000\",\"2017-07-11 00:00:00.000000\",\"2017-07-12 00:00:00.000000\",\"2017-07-13 00:00:00.000000\",\"2017-07-14 00:00:00.000000\",\"2017-07-17 00:00:00.000000\",\"2017-07-18 00:00:00.000000\",\"2017-07-19 00:00:00.000000\",\"2017-07-20 00:00:00.000000\",\"2017-07-21 00:00:00.000000\",\"2017-07-24 00:00:00.000000\",\"2017-07-25 00:00:00.000000\",\"2017-07-26 00:00:00.000000\",\"2017-07-27 00:00:00.000000\",\"2017-07-28 00:00:00.000000\",\"2017-07-31 00:00:00.000000\",\"2017-08-01 00:00:00.000000\",\"2017-08-02 00:00:00.000000\",\"2017-08-03 00:00:00.000000\",\"2017-08-04 00:00:00.000000\",\"2017-08-07 00:00:00.000000\",\"2017-08-08 00:00:00.000000\",\"2017-08-09 00:00:00.000000\",\"2017-08-10 00:00:00.000000\",\"2017-08-11 00:00:00.000000\",\"2017-08-14 00:00:00.000000\",\"2017-08-15 00:00:00.000000\",\"2017-08-16 00:00:00.000000\",\"2017-08-17 00:00:00.000000\",\"2017-08-18 00:00:00.000000\",\"2017-08-21 00:00:00.000000\",\"2017-08-22 00:00:00.000000\",\"2017-08-23 00:00:00.000000\",\"2017-08-24 00:00:00.000000\",\"2017-08-25 00:00:00.000000\",\"2017-08-28 00:00:00.000000\",\"2017-08-29 00:00:00.000000\",\"2017-08-30 00:00:00.000000\",\"2017-08-31 00:00:00.000000\",\"2017-09-01 00:00:00.000000\",\"2017-09-05 00:00:00.000000\",\"2017-09-06 00:00:00.000000\",\"2017-09-07 00:00:00.000000\",\"2017-09-08 00:00:00.000000\",\"2017-09-11 00:00:00.000000\",\"2017-09-12 00:00:00.000000\",\"2017-09-13 00:00:00.000000\",\"2017-09-14 00:00:00.000000\",\"2017-09-15 00:00:00.000000\",\"2017-09-18 00:00:00.000000\",\"2017-09-19 00:00:00.000000\",\"2017-09-20 00:00:00.000000\",\"2017-09-21 00:00:00.000000\",\"2017-09-22 00:00:00.000000\",\"2017-09-25 00:00:00.000000\",\"2017-09-26 00:00:00.000000\",\"2017-09-27 00:00:00.000000\",\"2017-09-28 00:00:00.000000\",\"2017-09-29 00:00:00.000000\",\"2017-10-02 00:00:00.000000\",\"2017-10-03 00:00:00.000000\",\"2017-10-04 00:00:00.000000\",\"2017-10-05 00:00:00.000000\",\"2017-10-06 00:00:00.000000\",\"2017-10-09 00:00:00.000000\",\"2017-10-10 00:00:00.000000\",\"2017-10-11 00:00:00.000000\",\"2017-10-12 00:00:00.000000\",\"2017-10-13 00:00:00.000000\",\"2017-10-16 00:00:00.000000\",\"2017-10-17 00:00:00.000000\",\"2017-10-18 00:00:00.000000\",\"2017-10-19 00:00:00.000000\",\"2017-10-20 00:00:00.000000\",\"2017-10-23 00:00:00.000000\",\"2017-10-24 00:00:00.000000\",\"2017-10-25 00:00:00.000000\",\"2017-10-26 00:00:00.000000\",\"2017-10-27 00:00:00.000000\",\"2017-10-30 00:00:00.000000\",\"2017-10-31 00:00:00.000000\",\"2017-11-01 00:00:00.000000\",\"2017-11-02 00:00:00.000000\",\"2017-11-03 00:00:00.000000\",\"2017-11-06 00:00:00.000000\",\"2017-11-07 00:00:00.000000\",\"2017-11-08 00:00:00.000000\",\"2017-11-09 00:00:00.000000\",\"2017-11-10 00:00:00.000000\",\"2017-11-13 00:00:00.000000\",\"2017-11-14 00:00:00.000000\",\"2017-11-15 00:00:00.000000\",\"2017-11-16 00:00:00.000000\",\"2017-11-17 00:00:00.000000\",\"2017-11-20 00:00:00.000000\",\"2017-11-21 00:00:00.000000\",\"2017-11-22 00:00:00.000000\",\"2017-11-24 00:00:00.000000\",\"2017-11-27 00:00:00.000000\",\"2017-11-28 00:00:00.000000\",\"2017-11-29 00:00:00.000000\",\"2017-11-30 00:00:00.000000\",\"2017-12-01 00:00:00.000000\",\"2017-12-04 00:00:00.000000\",\"2017-12-05 00:00:00.000000\",\"2017-12-06 00:00:00.000000\",\"2017-12-07 00:00:00.000000\",\"2017-12-08 00:00:00.000000\",\"2017-12-11 00:00:00.000000\",\"2017-12-12 00:00:00.000000\",\"2017-12-13 00:00:00.000000\",\"2017-12-14 00:00:00.000000\",\"2017-12-15 00:00:00.000000\",\"2017-12-18 00:00:00.000000\",\"2017-12-19 00:00:00.000000\",\"2017-12-20 00:00:00.000000\",\"2017-12-21 00:00:00.000000\",\"2017-12-22 00:00:00.000000\",\"2017-12-26 00:00:00.000000\",\"2017-12-27 00:00:00.000000\",\"2017-12-28 00:00:00.000000\",\"2017-12-29 00:00:00.000000\",\"2018-01-02 00:00:00.000000\",\"2018-01-03 00:00:00.000000\",\"2018-01-04 00:00:00.000000\",\"2018-01-05 00:00:00.000000\",\"2018-01-08 00:00:00.000000\",\"2018-01-09 00:00:00.000000\",\"2018-01-10 00:00:00.000000\",\"2018-01-11 00:00:00.000000\",\"2018-01-12 00:00:00.000000\",\"2018-01-16 00:00:00.000000\",\"2018-01-17 00:00:00.000000\",\"2018-01-18 00:00:00.000000\",\"2018-01-19 00:00:00.000000\",\"2018-01-22 00:00:00.000000\",\"2018-01-23 00:00:00.000000\",\"2018-01-24 00:00:00.000000\",\"2018-01-25 00:00:00.000000\",\"2018-01-26 00:00:00.000000\",\"2018-01-29 00:00:00.000000\",\"2018-01-30 00:00:00.000000\",\"2018-01-31 00:00:00.000000\",\"2018-02-01 00:00:00.000000\",\"2018-02-02 00:00:00.000000\",\"2018-02-05 00:00:00.000000\",\"2018-02-06 00:00:00.000000\",\"2018-02-07 00:00:00.000000\",\"2018-02-08 00:00:00.000000\",\"2018-02-09 00:00:00.000000\",\"2018-02-12 00:00:00.000000\",\"2018-02-13 00:00:00.000000\",\"2018-02-14 00:00:00.000000\",\"2018-02-15 00:00:00.000000\",\"2018-02-16 00:00:00.000000\",\"2018-02-20 00:00:00.000000\",\"2018-02-21 00:00:00.000000\",\"2018-02-22 00:00:00.000000\",\"2018-02-23 00:00:00.000000\",\"2018-02-26 00:00:00.000000\",\"2018-02-27 00:00:00.000000\",\"2018-02-28 00:00:00.000000\",\"2018-03-01 00:00:00.000000\",\"2018-03-02 00:00:00.000000\",\"2018-03-05 00:00:00.000000\",\"2018-03-06 00:00:00.000000\",\"2018-03-07 00:00:00.000000\",\"2018-03-08 00:00:00.000000\",\"2018-03-09 00:00:00.000000\",\"2018-03-12 00:00:00.000000\",\"2018-03-13 00:00:00.000000\",\"2018-03-14 00:00:00.000000\",\"2018-03-15 00:00:00.000000\",\"2018-03-16 00:00:00.000000\",\"2018-03-19 00:00:00.000000\",\"2018-03-20 00:00:00.000000\",\"2018-03-21 00:00:00.000000\",\"2018-03-22 00:00:00.000000\",\"2018-03-23 00:00:00.000000\",\"2018-03-26 00:00:00.000000\",\"2018-03-27 00:00:00.000000\",\"2018-03-28 00:00:00.000000\",\"2018-03-29 00:00:00.000000\",\"2018-04-02 00:00:00.000000\",\"2018-04-03 00:00:00.000000\",\"2018-04-04 00:00:00.000000\",\"2018-04-05 00:00:00.000000\",\"2018-04-06 00:00:00.000000\",\"2018-04-09 00:00:00.000000\",\"2018-04-10 00:00:00.000000\",\"2018-04-11 00:00:00.000000\",\"2018-04-12 00:00:00.000000\",\"2018-04-13 00:00:00.000000\",\"2018-04-16 00:00:00.000000\",\"2018-04-17 00:00:00.000000\",\"2018-04-18 00:00:00.000000\",\"2018-04-19 00:00:00.000000\",\"2018-04-20 00:00:00.000000\",\"2018-04-23 00:00:00.000000\",\"2018-04-24 00:00:00.000000\",\"2018-04-25 00:00:00.000000\",\"2018-04-26 00:00:00.000000\",\"2018-04-27 00:00:00.000000\",\"2018-04-30 00:00:00.000000\",\"2018-05-01 00:00:00.000000\",\"2018-05-02 00:00:00.000000\",\"2018-05-03 00:00:00.000000\",\"2018-05-04 00:00:00.000000\",\"2018-05-07 00:00:00.000000\",\"2018-05-08 00:00:00.000000\",\"2018-05-09 00:00:00.000000\",\"2018-05-10 00:00:00.000000\",\"2018-05-11 00:00:00.000000\",\"2018-05-14 00:00:00.000000\",\"2018-05-15 00:00:00.000000\",\"2018-05-16 00:00:00.000000\",\"2018-05-17 00:00:00.000000\",\"2018-05-18 00:00:00.000000\",\"2018-05-21 00:00:00.000000\",\"2018-05-22 00:00:00.000000\",\"2018-05-23 00:00:00.000000\",\"2018-05-24 00:00:00.000000\",\"2018-05-25 00:00:00.000000\",\"2018-05-29 00:00:00.000000\",\"2018-05-30 00:00:00.000000\",\"2018-05-31 00:00:00.000000\",\"2018-06-01 00:00:00.000000\",\"2018-06-04 00:00:00.000000\",\"2018-06-05 00:00:00.000000\",\"2018-06-06 00:00:00.000000\",\"2018-06-07 00:00:00.000000\",\"2018-06-08 00:00:00.000000\",\"2018-06-11 00:00:00.000000\",\"2018-06-12 00:00:00.000000\",\"2018-06-13 00:00:00.000000\",\"2018-06-14 00:00:00.000000\",\"2018-06-15 00:00:00.000000\",\"2018-06-18 00:00:00.000000\",\"2018-06-19 00:00:00.000000\",\"2018-06-20 00:00:00.000000\",\"2018-06-21 00:00:00.000000\",\"2018-06-22 00:00:00.000000\",\"2018-06-25 00:00:00.000000\",\"2018-06-26 00:00:00.000000\",\"2018-06-27 00:00:00.000000\",\"2018-06-28 00:00:00.000000\",\"2018-06-29 00:00:00.000000\",\"2018-07-02 00:00:00.000000\",\"2018-07-03 00:00:00.000000\",\"2018-07-05 00:00:00.000000\",\"2018-07-06 00:00:00.000000\",\"2018-07-09 00:00:00.000000\",\"2018-07-10 00:00:00.000000\",\"2018-07-11 00:00:00.000000\",\"2018-07-12 00:00:00.000000\",\"2018-07-13 00:00:00.000000\",\"2018-07-16 00:00:00.000000\",\"2018-07-17 00:00:00.000000\",\"2018-07-18 00:00:00.000000\",\"2018-07-19 00:00:00.000000\",\"2018-07-20 00:00:00.000000\",\"2018-07-23 00:00:00.000000\",\"2018-07-24 00:00:00.000000\",\"2018-07-25 00:00:00.000000\",\"2018-07-26 00:00:00.000000\",\"2018-07-27 00:00:00.000000\",\"2018-07-30 00:00:00.000000\",\"2018-07-31 00:00:00.000000\",\"2018-08-01 00:00:00.000000\",\"2018-08-02 00:00:00.000000\",\"2018-08-03 00:00:00.000000\",\"2018-08-06 00:00:00.000000\",\"2018-08-07 00:00:00.000000\",\"2018-08-08 00:00:00.000000\",\"2018-08-09 00:00:00.000000\",\"2018-08-10 00:00:00.000000\",\"2018-08-13 00:00:00.000000\",\"2018-08-14 00:00:00.000000\",\"2018-08-15 00:00:00.000000\",\"2018-08-16 00:00:00.000000\",\"2018-08-17 00:00:00.000000\",\"2018-08-20 00:00:00.000000\",\"2018-08-21 00:00:00.000000\",\"2018-08-22 00:00:00.000000\",\"2018-08-23 00:00:00.000000\",\"2018-08-24 00:00:00.000000\",\"2018-08-27 00:00:00.000000\",\"2018-08-28 00:00:00.000000\",\"2018-08-29 00:00:00.000000\",\"2018-08-30 00:00:00.000000\",\"2018-08-31 00:00:00.000000\",\"2018-09-04 00:00:00.000000\",\"2018-09-05 00:00:00.000000\",\"2018-09-06 00:00:00.000000\",\"2018-09-07 00:00:00.000000\",\"2018-09-10 00:00:00.000000\",\"2018-09-11 00:00:00.000000\",\"2018-09-12 00:00:00.000000\",\"2018-09-13 00:00:00.000000\",\"2018-09-14 00:00:00.000000\",\"2018-09-17 00:00:00.000000\",\"2018-09-18 00:00:00.000000\",\"2018-09-19 00:00:00.000000\",\"2018-09-20 00:00:00.000000\",\"2018-09-21 00:00:00.000000\",\"2018-09-24 00:00:00.000000\",\"2018-09-25 00:00:00.000000\",\"2018-09-26 00:00:00.000000\",\"2018-09-27 00:00:00.000000\",\"2018-09-28 00:00:00.000000\",\"2018-10-01 00:00:00.000000\",\"2018-10-02 00:00:00.000000\",\"2018-10-03 00:00:00.000000\",\"2018-10-04 00:00:00.000000\",\"2018-10-05 00:00:00.000000\",\"2018-10-08 00:00:00.000000\",\"2018-10-09 00:00:00.000000\",\"2018-10-10 00:00:00.000000\",\"2018-10-11 00:00:00.000000\",\"2018-10-12 00:00:00.000000\",\"2018-10-15 00:00:00.000000\",\"2018-10-16 00:00:00.000000\",\"2018-10-17 00:00:00.000000\",\"2018-10-18 00:00:00.000000\",\"2018-10-19 00:00:00.000000\",\"2018-10-22 00:00:00.000000\",\"2018-10-23 00:00:00.000000\",\"2018-10-24 00:00:00.000000\",\"2018-10-25 00:00:00.000000\",\"2018-10-26 00:00:00.000000\",\"2018-10-29 00:00:00.000000\",\"2018-10-30 00:00:00.000000\",\"2018-10-31 00:00:00.000000\",\"2018-11-01 00:00:00.000000\",\"2018-11-02 00:00:00.000000\",\"2018-11-05 00:00:00.000000\",\"2018-11-06 00:00:00.000000\",\"2018-11-07 00:00:00.000000\",\"2018-11-08 00:00:00.000000\",\"2018-11-09 00:00:00.000000\",\"2018-11-12 00:00:00.000000\",\"2018-11-13 00:00:00.000000\",\"2018-11-14 00:00:00.000000\",\"2018-11-15 00:00:00.000000\",\"2018-11-16 00:00:00.000000\",\"2018-11-19 00:00:00.000000\",\"2018-11-20 00:00:00.000000\",\"2018-11-21 00:00:00.000000\",\"2018-11-23 00:00:00.000000\",\"2018-11-26 00:00:00.000000\",\"2018-11-27 00:00:00.000000\",\"2018-11-28 00:00:00.000000\",\"2018-11-29 00:00:00.000000\",\"2018-11-30 00:00:00.000000\",\"2018-12-03 00:00:00.000000\",\"2018-12-04 00:00:00.000000\",\"2018-12-06 00:00:00.000000\",\"2018-12-07 00:00:00.000000\",\"2018-12-10 00:00:00.000000\",\"2018-12-11 00:00:00.000000\",\"2018-12-12 00:00:00.000000\",\"2018-12-13 00:00:00.000000\",\"2018-12-14 00:00:00.000000\",\"2018-12-17 00:00:00.000000\",\"2018-12-18 00:00:00.000000\",\"2018-12-19 00:00:00.000000\",\"2018-12-20 00:00:00.000000\",\"2018-12-21 00:00:00.000000\",\"2018-12-24 00:00:00.000000\",\"2018-12-26 00:00:00.000000\",\"2018-12-27 00:00:00.000000\",\"2018-12-28 00:00:00.000000\",\"2018-12-31 00:00:00.000000\",\"2019-01-02 00:00:00.000000\",\"2019-01-03 00:00:00.000000\",\"2019-01-04 00:00:00.000000\",\"2019-01-07 00:00:00.000000\",\"2019-01-08 00:00:00.000000\",\"2019-01-09 00:00:00.000000\",\"2019-01-10 00:00:00.000000\",\"2019-01-11 00:00:00.000000\",\"2019-01-14 00:00:00.000000\",\"2019-01-15 00:00:00.000000\",\"2019-01-16 00:00:00.000000\",\"2019-01-17 00:00:00.000000\",\"2019-01-18 00:00:00.000000\",\"2019-01-22 00:00:00.000000\",\"2019-01-23 00:00:00.000000\",\"2019-01-24 00:00:00.000000\",\"2019-01-25 00:00:00.000000\",\"2019-01-28 00:00:00.000000\",\"2019-01-29 00:00:00.000000\",\"2019-01-30 00:00:00.000000\",\"2019-01-31 00:00:00.000000\",\"2019-02-01 00:00:00.000000\",\"2019-02-04 00:00:00.000000\",\"2019-02-05 00:00:00.000000\",\"2019-02-06 00:00:00.000000\",\"2019-02-07 00:00:00.000000\",\"2019-02-08 00:00:00.000000\",\"2019-02-11 00:00:00.000000\",\"2019-02-12 00:00:00.000000\",\"2019-02-13 00:00:00.000000\",\"2019-02-14 00:00:00.000000\",\"2019-02-15 00:00:00.000000\",\"2019-02-19 00:00:00.000000\",\"2019-02-20 00:00:00.000000\",\"2019-02-21 00:00:00.000000\",\"2019-02-22 00:00:00.000000\",\"2019-02-25 00:00:00.000000\",\"2019-02-26 00:00:00.000000\",\"2019-02-27 00:00:00.000000\",\"2019-02-28 00:00:00.000000\",\"2019-03-01 00:00:00.000000\",\"2019-03-04 00:00:00.000000\",\"2019-03-05 00:00:00.000000\",\"2019-03-06 00:00:00.000000\",\"2019-03-07 00:00:00.000000\",\"2019-03-08 00:00:00.000000\",\"2019-03-11 00:00:00.000000\",\"2019-03-12 00:00:00.000000\",\"2019-03-13 00:00:00.000000\",\"2019-03-14 00:00:00.000000\",\"2019-03-15 00:00:00.000000\",\"2019-03-18 00:00:00.000000\",\"2019-03-19 00:00:00.000000\",\"2019-03-20 00:00:00.000000\",\"2019-03-21 00:00:00.000000\",\"2019-03-22 00:00:00.000000\",\"2019-03-25 00:00:00.000000\",\"2019-03-26 00:00:00.000000\",\"2019-03-27 00:00:00.000000\",\"2019-03-28 00:00:00.000000\",\"2019-03-29 00:00:00.000000\",\"2019-04-01 00:00:00.000000\",\"2019-04-02 00:00:00.000000\",\"2019-04-03 00:00:00.000000\",\"2019-04-04 00:00:00.000000\",\"2019-04-05 00:00:00.000000\",\"2019-04-08 00:00:00.000000\",\"2019-04-09 00:00:00.000000\",\"2019-04-10 00:00:00.000000\",\"2019-04-11 00:00:00.000000\",\"2019-04-12 00:00:00.000000\",\"2019-04-15 00:00:00.000000\",\"2019-04-16 00:00:00.000000\",\"2019-04-17 00:00:00.000000\",\"2019-04-18 00:00:00.000000\",\"2019-04-22 00:00:00.000000\",\"2019-04-23 00:00:00.000000\",\"2019-04-24 00:00:00.000000\",\"2019-04-25 00:00:00.000000\",\"2019-04-26 00:00:00.000000\",\"2019-04-29 00:00:00.000000\",\"2019-04-30 00:00:00.000000\",\"2019-05-01 00:00:00.000000\",\"2019-05-02 00:00:00.000000\",\"2019-05-03 00:00:00.000000\",\"2019-05-06 00:00:00.000000\",\"2019-05-07 00:00:00.000000\",\"2019-05-08 00:00:00.000000\",\"2019-05-09 00:00:00.000000\",\"2019-05-10 00:00:00.000000\",\"2019-05-13 00:00:00.000000\",\"2019-05-14 00:00:00.000000\",\"2019-05-15 00:00:00.000000\",\"2019-05-16 00:00:00.000000\",\"2019-05-17 00:00:00.000000\",\"2019-05-20 00:00:00.000000\",\"2019-05-21 00:00:00.000000\",\"2019-05-22 00:00:00.000000\",\"2019-05-23 00:00:00.000000\",\"2019-05-24 00:00:00.000000\",\"2019-05-28 00:00:00.000000\",\"2019-05-29 00:00:00.000000\",\"2019-05-30 00:00:00.000000\",\"2019-05-31 00:00:00.000000\",\"2019-06-03 00:00:00.000000\",\"2019-06-04 00:00:00.000000\",\"2019-06-05 00:00:00.000000\",\"2019-06-06 00:00:00.000000\",\"2019-06-07 00:00:00.000000\",\"2019-06-10 00:00:00.000000\",\"2019-06-11 00:00:00.000000\",\"2019-06-12 00:00:00.000000\",\"2019-06-13 00:00:00.000000\",\"2019-06-14 00:00:00.000000\",\"2019-06-17 00:00:00.000000\",\"2019-06-18 00:00:00.000000\",\"2019-06-19 00:00:00.000000\",\"2019-06-20 00:00:00.000000\",\"2019-06-21 00:00:00.000000\",\"2019-06-24 00:00:00.000000\",\"2019-06-25 00:00:00.000000\",\"2019-06-26 00:00:00.000000\",\"2019-06-27 00:00:00.000000\",\"2019-06-28 00:00:00.000000\",\"2019-07-01 00:00:00.000000\",\"2019-07-02 00:00:00.000000\",\"2019-07-03 00:00:00.000000\",\"2019-07-05 00:00:00.000000\",\"2019-07-08 00:00:00.000000\",\"2019-07-09 00:00:00.000000\",\"2019-07-10 00:00:00.000000\",\"2019-07-11 00:00:00.000000\",\"2019-07-12 00:00:00.000000\",\"2019-07-15 00:00:00.000000\",\"2019-07-16 00:00:00.000000\",\"2019-07-17 00:00:00.000000\",\"2019-07-18 00:00:00.000000\",\"2019-07-19 00:00:00.000000\",\"2019-07-22 00:00:00.000000\",\"2019-07-23 00:00:00.000000\",\"2019-07-24 00:00:00.000000\",\"2019-07-25 00:00:00.000000\",\"2019-07-26 00:00:00.000000\",\"2019-07-29 00:00:00.000000\",\"2019-07-30 00:00:00.000000\",\"2019-07-31 00:00:00.000000\",\"2019-08-01 00:00:00.000000\",\"2019-08-02 00:00:00.000000\",\"2019-08-05 00:00:00.000000\",\"2019-08-06 00:00:00.000000\",\"2019-08-07 00:00:00.000000\",\"2019-08-08 00:00:00.000000\",\"2019-08-09 00:00:00.000000\",\"2019-08-12 00:00:00.000000\",\"2019-08-13 00:00:00.000000\",\"2019-08-14 00:00:00.000000\",\"2019-08-15 00:00:00.000000\",\"2019-08-16 00:00:00.000000\",\"2019-08-19 00:00:00.000000\",\"2019-08-20 00:00:00.000000\",\"2019-08-21 00:00:00.000000\",\"2019-08-22 00:00:00.000000\",\"2019-08-23 00:00:00.000000\",\"2019-08-26 00:00:00.000000\",\"2019-08-27 00:00:00.000000\",\"2019-08-28 00:00:00.000000\",\"2019-08-29 00:00:00.000000\",\"2019-08-30 00:00:00.000000\",\"2019-09-03 00:00:00.000000\",\"2019-09-04 00:00:00.000000\",\"2019-09-05 00:00:00.000000\",\"2019-09-06 00:00:00.000000\",\"2019-09-09 00:00:00.000000\",\"2019-09-10 00:00:00.000000\",\"2019-09-11 00:00:00.000000\",\"2019-09-12 00:00:00.000000\",\"2019-09-13 00:00:00.000000\",\"2019-09-16 00:00:00.000000\",\"2019-09-17 00:00:00.000000\",\"2019-09-18 00:00:00.000000\",\"2019-09-19 00:00:00.000000\",\"2019-09-20 00:00:00.000000\",\"2019-09-23 00:00:00.000000\",\"2019-09-24 00:00:00.000000\",\"2019-09-25 00:00:00.000000\",\"2019-09-26 00:00:00.000000\",\"2019-09-27 00:00:00.000000\",\"2019-09-30 00:00:00.000000\",\"2019-10-01 00:00:00.000000\",\"2019-10-02 00:00:00.000000\",\"2019-10-03 00:00:00.000000\",\"2019-10-04 00:00:00.000000\",\"2019-10-07 00:00:00.000000\",\"2019-10-08 00:00:00.000000\",\"2019-10-09 00:00:00.000000\",\"2019-10-10 00:00:00.000000\",\"2019-10-11 00:00:00.000000\",\"2019-10-14 00:00:00.000000\",\"2019-10-15 00:00:00.000000\",\"2019-10-16 00:00:00.000000\",\"2019-10-17 00:00:00.000000\",\"2019-10-18 00:00:00.000000\",\"2019-10-21 00:00:00.000000\",\"2019-10-22 00:00:00.000000\",\"2019-10-23 00:00:00.000000\",\"2019-10-24 00:00:00.000000\",\"2019-10-25 00:00:00.000000\",\"2019-10-28 00:00:00.000000\",\"2019-10-29 00:00:00.000000\",\"2019-10-30 00:00:00.000000\",\"2019-10-31 00:00:00.000000\",\"2019-11-01 00:00:00.000000\",\"2019-11-04 00:00:00.000000\",\"2019-11-05 00:00:00.000000\",\"2019-11-06 00:00:00.000000\",\"2019-11-07 00:00:00.000000\",\"2019-11-08 00:00:00.000000\",\"2019-11-11 00:00:00.000000\",\"2019-11-12 00:00:00.000000\",\"2019-11-13 00:00:00.000000\",\"2019-11-14 00:00:00.000000\",\"2019-11-15 00:00:00.000000\",\"2019-11-18 00:00:00.000000\",\"2019-11-19 00:00:00.000000\",\"2019-11-20 00:00:00.000000\",\"2019-11-21 00:00:00.000000\",\"2019-11-22 00:00:00.000000\",\"2019-11-25 00:00:00.000000\",\"2019-11-26 00:00:00.000000\",\"2019-11-27 00:00:00.000000\",\"2019-11-29 00:00:00.000000\",\"2019-12-02 00:00:00.000000\",\"2019-12-03 00:00:00.000000\",\"2019-12-04 00:00:00.000000\",\"2019-12-05 00:00:00.000000\",\"2019-12-06 00:00:00.000000\",\"2019-12-09 00:00:00.000000\",\"2019-12-10 00:00:00.000000\",\"2019-12-11 00:00:00.000000\",\"2019-12-12 00:00:00.000000\",\"2019-12-13 00:00:00.000000\",\"2019-12-16 00:00:00.000000\",\"2019-12-17 00:00:00.000000\",\"2019-12-18 00:00:00.000000\",\"2019-12-19 00:00:00.000000\",\"2019-12-20 00:00:00.000000\",\"2019-12-23 00:00:00.000000\",\"2019-12-24 00:00:00.000000\",\"2019-12-26 00:00:00.000000\",\"2019-12-27 00:00:00.000000\",\"2019-12-30 00:00:00.000000\",\"2019-12-31 00:00:00.000000\",\"2020-01-02 00:00:00.000000\",\"2020-01-03 00:00:00.000000\",\"2020-01-06 00:00:00.000000\",\"2020-01-07 00:00:00.000000\",\"2020-01-08 00:00:00.000000\",\"2020-01-09 00:00:00.000000\",\"2020-01-10 00:00:00.000000\",\"2020-01-13 00:00:00.000000\",\"2020-01-14 00:00:00.000000\",\"2020-01-15 00:00:00.000000\",\"2020-01-16 00:00:00.000000\",\"2020-01-17 00:00:00.000000\",\"2020-01-21 00:00:00.000000\",\"2020-01-22 00:00:00.000000\",\"2020-01-23 00:00:00.000000\",\"2020-01-24 00:00:00.000000\",\"2020-01-27 00:00:00.000000\",\"2020-01-28 00:00:00.000000\",\"2020-01-29 00:00:00.000000\",\"2020-01-30 00:00:00.000000\",\"2020-01-31 00:00:00.000000\",\"2020-02-03 00:00:00.000000\",\"2020-02-04 00:00:00.000000\",\"2020-02-05 00:00:00.000000\",\"2020-02-06 00:00:00.000000\",\"2020-02-07 00:00:00.000000\",\"2020-02-10 00:00:00.000000\",\"2020-02-11 00:00:00.000000\",\"2020-02-12 00:00:00.000000\",\"2020-02-13 00:00:00.000000\",\"2020-02-14 00:00:00.000000\",\"2020-02-18 00:00:00.000000\",\"2020-02-19 00:00:00.000000\",\"2020-02-20 00:00:00.000000\",\"2020-02-21 00:00:00.000000\",\"2020-02-24 00:00:00.000000\",\"2020-02-25 00:00:00.000000\",\"2020-02-26 00:00:00.000000\",\"2020-02-27 00:00:00.000000\",\"2020-02-28 00:00:00.000000\",\"2020-03-02 00:00:00.000000\",\"2020-03-03 00:00:00.000000\",\"2020-03-04 00:00:00.000000\",\"2020-03-05 00:00:00.000000\",\"2020-03-06 00:00:00.000000\",\"2020-03-09 00:00:00.000000\",\"2020-03-10 00:00:00.000000\",\"2020-03-11 00:00:00.000000\",\"2020-03-12 00:00:00.000000\",\"2020-03-13 00:00:00.000000\",\"2020-03-16 00:00:00.000000\",\"2020-03-17 00:00:00.000000\",\"2020-03-18 00:00:00.000000\",\"2020-03-19 00:00:00.000000\",\"2020-03-20 00:00:00.000000\",\"2020-03-23 00:00:00.000000\",\"2020-03-24 00:00:00.000000\",\"2020-03-25 00:00:00.000000\",\"2020-03-26 00:00:00.000000\",\"2020-03-27 00:00:00.000000\",\"2020-03-30 00:00:00.000000\",\"2020-03-31 00:00:00.000000\",\"2020-04-01 00:00:00.000000\",\"2020-04-02 00:00:00.000000\",\"2020-04-03 00:00:00.000000\",\"2020-04-06 00:00:00.000000\",\"2020-04-07 00:00:00.000000\",\"2020-04-08 00:00:00.000000\",\"2020-04-09 00:00:00.000000\",\"2020-04-13 00:00:00.000000\",\"2020-04-14 00:00:00.000000\",\"2020-04-15 00:00:00.000000\",\"2020-04-16 00:00:00.000000\",\"2020-04-17 00:00:00.000000\",\"2020-04-20 00:00:00.000000\",\"2020-04-21 00:00:00.000000\",\"2020-04-22 00:00:00.000000\",\"2020-04-23 00:00:00.000000\",\"2020-04-24 00:00:00.000000\",\"2020-04-27 00:00:00.000000\",\"2020-04-28 00:00:00.000000\",\"2020-04-29 00:00:00.000000\",\"2020-04-30 00:00:00.000000\",\"2020-05-01 00:00:00.000000\",\"2020-05-04 00:00:00.000000\",\"2020-05-05 00:00:00.000000\",\"2020-05-06 00:00:00.000000\",\"2020-05-07 00:00:00.000000\",\"2020-05-08 00:00:00.000000\",\"2020-05-11 00:00:00.000000\",\"2020-05-12 00:00:00.000000\",\"2020-05-13 00:00:00.000000\",\"2020-05-14 00:00:00.000000\",\"2020-05-15 00:00:00.000000\",\"2020-05-18 00:00:00.000000\",\"2020-05-19 00:00:00.000000\",\"2020-05-20 00:00:00.000000\",\"2020-05-21 00:00:00.000000\",\"2020-05-22 00:00:00.000000\",\"2020-05-26 00:00:00.000000\",\"2020-05-27 00:00:00.000000\",\"2020-05-28 00:00:00.000000\",\"2020-05-29 00:00:00.000000\",\"2020-06-01 00:00:00.000000\",\"2020-06-02 00:00:00.000000\",\"2020-06-03 00:00:00.000000\",\"2020-06-04 00:00:00.000000\",\"2020-06-05 00:00:00.000000\",\"2020-06-08 00:00:00.000000\",\"2020-06-09 00:00:00.000000\",\"2020-06-10 00:00:00.000000\",\"2020-06-11 00:00:00.000000\",\"2020-06-12 00:00:00.000000\",\"2020-06-15 00:00:00.000000\",\"2020-06-16 00:00:00.000000\",\"2020-06-17 00:00:00.000000\",\"2020-06-18 00:00:00.000000\",\"2020-06-19 00:00:00.000000\",\"2020-06-22 00:00:00.000000\",\"2020-06-23 00:00:00.000000\",\"2020-06-24 00:00:00.000000\",\"2020-06-25 00:00:00.000000\",\"2020-06-26 00:00:00.000000\",\"2020-06-29 00:00:00.000000\",\"2020-06-30 00:00:00.000000\",\"2020-07-01 00:00:00.000000\",\"2020-07-02 00:00:00.000000\",\"2020-07-06 00:00:00.000000\",\"2020-07-07 00:00:00.000000\",\"2020-07-08 00:00:00.000000\",\"2020-07-09 00:00:00.000000\",\"2020-07-10 00:00:00.000000\",\"2020-07-13 00:00:00.000000\",\"2020-07-14 00:00:00.000000\",\"2020-07-15 00:00:00.000000\",\"2020-07-16 00:00:00.000000\",\"2020-07-17 00:00:00.000000\",\"2020-07-20 00:00:00.000000\",\"2020-07-21 00:00:00.000000\",\"2020-07-22 00:00:00.000000\",\"2020-07-23 00:00:00.000000\",\"2020-07-24 00:00:00.000000\",\"2020-07-27 00:00:00.000000\",\"2020-07-28 00:00:00.000000\",\"2020-07-29 00:00:00.000000\",\"2020-07-30 00:00:00.000000\",\"2020-07-31 00:00:00.000000\",\"2020-08-03 00:00:00.000000\",\"2020-08-04 00:00:00.000000\",\"2020-08-05 00:00:00.000000\",\"2020-08-06 00:00:00.000000\",\"2020-08-07 00:00:00.000000\",\"2020-08-10 00:00:00.000000\",\"2020-08-11 00:00:00.000000\",\"2020-08-12 00:00:00.000000\",\"2020-08-13 00:00:00.000000\",\"2020-08-14 00:00:00.000000\",\"2020-08-17 00:00:00.000000\",\"2020-08-18 00:00:00.000000\",\"2020-08-19 00:00:00.000000\",\"2020-08-20 00:00:00.000000\",\"2020-08-21 00:00:00.000000\",\"2020-08-24 00:00:00.000000\",\"2020-08-25 00:00:00.000000\",\"2020-08-26 00:00:00.000000\",\"2020-08-27 00:00:00.000000\",\"2020-08-28 00:00:00.000000\",\"2020-08-31 00:00:00.000000\",\"2020-09-01 00:00:00.000000\",\"2020-09-02 00:00:00.000000\",\"2020-09-03 00:00:00.000000\",\"2020-09-04 00:00:00.000000\",\"2020-09-08 00:00:00.000000\",\"2020-09-09 00:00:00.000000\",\"2020-09-10 00:00:00.000000\",\"2020-09-11 00:00:00.000000\",\"2020-09-14 00:00:00.000000\",\"2020-09-15 00:00:00.000000\",\"2020-09-16 00:00:00.000000\",\"2020-09-17 00:00:00.000000\",\"2020-09-18 00:00:00.000000\",\"2020-09-21 00:00:00.000000\",\"2020-09-22 00:00:00.000000\",\"2020-09-23 00:00:00.000000\",\"2020-09-24 00:00:00.000000\",\"2020-09-25 00:00:00.000000\",\"2020-09-28 00:00:00.000000\",\"2020-09-29 00:00:00.000000\",\"2020-09-30 00:00:00.000000\",\"2020-10-01 00:00:00.000000\",\"2020-10-02 00:00:00.000000\",\"2020-10-05 00:00:00.000000\",\"2020-10-06 00:00:00.000000\",\"2020-10-07 00:00:00.000000\",\"2020-10-08 00:00:00.000000\",\"2020-10-09 00:00:00.000000\",\"2020-10-12 00:00:00.000000\",\"2020-10-13 00:00:00.000000\",\"2020-10-14 00:00:00.000000\",\"2020-10-15 00:00:00.000000\",\"2020-10-16 00:00:00.000000\",\"2020-10-19 00:00:00.000000\",\"2020-10-20 00:00:00.000000\",\"2020-10-21 00:00:00.000000\",\"2020-10-22 00:00:00.000000\",\"2020-10-23 00:00:00.000000\",\"2020-10-26 00:00:00.000000\",\"2020-10-27 00:00:00.000000\",\"2020-10-28 00:00:00.000000\",\"2020-10-29 00:00:00.000000\",\"2020-10-30 00:00:00.000000\",\"2020-11-02 00:00:00.000000\",\"2020-11-03 00:00:00.000000\",\"2020-11-04 00:00:00.000000\",\"2020-11-05 00:00:00.000000\",\"2020-11-06 00:00:00.000000\",\"2020-11-09 00:00:00.000000\",\"2020-11-10 00:00:00.000000\",\"2020-11-11 00:00:00.000000\",\"2020-11-12 00:00:00.000000\",\"2020-11-13 00:00:00.000000\",\"2020-11-16 00:00:00.000000\",\"2020-11-17 00:00:00.000000\",\"2020-11-18 00:00:00.000000\",\"2020-11-19 00:00:00.000000\",\"2020-11-20 00:00:00.000000\",\"2020-11-23 00:00:00.000000\",\"2020-11-24 00:00:00.000000\",\"2020-11-25 00:00:00.000000\",\"2020-11-27 00:00:00.000000\",\"2020-11-30 00:00:00.000000\",\"2020-12-01 00:00:00.000000\",\"2020-12-02 00:00:00.000000\",\"2020-12-03 00:00:00.000000\",\"2020-12-04 00:00:00.000000\"],\"tags\":[[[\"time\",\"time\",null]]]},\"id\":\"3311\",\"type\":\"FactorRange\"},{\"attributes\":{},\"id\":\"3365\",\"type\":\"UnionRenderers\"},{\"attributes\":{},\"id\":\"3357\",\"type\":\"AllLabels\"},{\"attributes\":{},\"id\":\"3353\",\"type\":\"CategoricalTickFormatter\"},{\"attributes\":{},\"id\":\"3321\",\"type\":\"LinearScale\"},{\"attributes\":{\"data\":{\"daily_returns\":{\"__ndarray__\":\"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\",\"dtype\":\"float64\",\"order\":\"little\",\"shape\":[999]},\"time\":[\"2016-12-16 00:00:00.000000\",\"2016-12-19 00:00:00.000000\",\"2016-12-20 00:00:00.000000\",\"2016-12-21 00:00:00.000000\",\"2016-12-22 00:00:00.000000\",\"2016-12-23 00:00:00.000000\",\"2016-12-27 00:00:00.000000\",\"2016-12-28 00:00:00.000000\",\"2016-12-29 00:00:00.000000\",\"2016-12-30 00:00:00.000000\",\"2017-01-03 00:00:00.000000\",\"2017-01-04 00:00:00.000000\",\"2017-01-05 00:00:00.000000\",\"2017-01-06 00:00:00.000000\",\"2017-01-09 00:00:00.000000\",\"2017-01-10 00:00:00.000000\",\"2017-01-11 00:00:00.000000\",\"2017-01-12 00:00:00.000000\",\"2017-01-13 00:00:00.000000\",\"2017-01-17 00:00:00.000000\",\"2017-01-18 00:00:00.000000\",\"2017-01-19 00:00:00.000000\",\"2017-01-20 00:00:00.000000\",\"2017-01-23 00:00:00.000000\",\"2017-01-24 00:00:00.000000\",\"2017-01-25 00:00:00.000000\",\"2017-01-26 00:00:00.000000\",\"2017-01-27 00:00:00.000000\",\"2017-01-30 00:00:00.000000\",\"2017-01-31 00:00:00.000000\",\"2017-02-01 00:00:00.000000\",\"2017-02-02 00:00:00.000000\",\"2017-02-03 00:00:00.000000\",\"2017-02-06 00:00:00.000000\",\"2017-02-07 00:00:00.000000\",\"2017-02-08 00:00:00.000000\",\"2017-02-09 00:00:00.000000\",\"2017-02-10 00:00:00.000000\",\"2017-02-13 00:00:00.000000\",\"2017-02-14 00:00:00.000000\",\"2017-02-15 00:00:00.000000\",\"2017-02-16 00:00:00.000000\",\"2017-02-17 00:00:00.000000\",\"2017-02-21 00:00:00.000000\",\"2017-02-22 00:00:00.000000\",\"2017-02-23 00:00:00.000000\",\"2017-02-24 00:00:00.000000\",\"2017-02-27 00:00:00.000000\",\"2017-02-28 00:00:00.000000\",\"2017-03-01 00:00:00.000000\",\"2017-03-02 00:00:00.000000\",\"2017-03-03 00:00:00.000000\",\"2017-03-06 00:00:00.000000\",\"2017-03-07 00:00:00.000000\",\"2017-03-08 00:00:00.000000\",\"2017-03-09 00:00:00.000000\",\"2017-03-10 00:00:00.000000\",\"2017-03-13 00:00:00.000000\",\"2017-03-14 00:00:00.000000\",\"2017-03-15 00:00:00.000000\",\"2017-03-16 00:00:00.000000\",\"2017-03-17 00:00:00.000000\",\"2017-03-20 00:00:00.000000\",\"2017-03-21 00:00:00.000000\",\"2017-03-22 00:00:00.000000\",\"2017-03-23 00:00:00.000000\",\"2017-03-24 00:00:00.000000\",\"2017-03-27 00:00:00.000000\",\"2017-03-28 00:00:00.000000\",\"2017-03-29 00:00:00.000000\",\"2017-03-30 00:00:00.000000\",\"2017-03-31 00:00:00.000000\",\"2017-04-03 00:00:00.000000\",\"2017-04-04 00:00:00.000000\",\"2017-04-05 00:00:00.000000\",\"2017-04-06 00:00:00.000000\",\"2017-04-07 00:00:00.000000\",\"2017-04-10 00:00:00.000000\",\"2017-04-11 00:00:00.000000\",\"2017-04-12 00:00:00.000000\",\"2017-04-13 00:00:00.000000\",\"2017-04-17 00:00:00.000000\",\"2017-04-18 00:00:00.000000\",\"2017-04-19 00:00:00.000000\",\"2017-04-20 00:00:00.000000\",\"2017-04-21 00:00:00.000000\",\"2017-04-24 00:00:00.000000\",\"2017-04-25 00:00:00.000000\",\"2017-04-26 00:00:00.000000\",\"2017-04-27 00:00:00.000000\",\"2017-04-28 00:00:00.000000\",\"2017-05-01 00:00:00.000000\",\"2017-05-02 00:00:00.000000\",\"2017-05-03 00:00:00.000000\",\"2017-05-04 00:00:00.000000\",\"2017-05-05 00:00:00.000000\",\"2017-05-08 00:00:00.000000\",\"2017-05-09 00:00:00.000000\",\"2017-05-10 00:00:00.000000\",\"2017-05-11 00:00:00.000000\",\"2017-05-12 00:00:00.000000\",\"2017-05-15 00:00:00.000000\",\"2017-05-16 00:00:00.000000\",\"2017-05-17 00:00:00.000000\",\"2017-05-18 00:00:00.000000\",\"2017-05-19 00:00:00.000000\",\"2017-05-22 00:00:00.000000\",\"2017-05-23 00:00:00.000000\",\"2017-05-24 00:00:00.000000\",\"2017-05-25 00:00:00.000000\",\"2017-05-26 00:00:00.000000\",\"2017-05-30 00:00:00.000000\",\"2017-05-31 00:00:00.000000\",\"2017-06-01 00:00:00.000000\",\"2017-06-02 00:00:00.000000\",\"2017-06-05 00:00:00.000000\",\"2017-06-06 00:00:00.000000\",\"2017-06-07 00:00:00.000000\",\"2017-06-08 00:00:00.000000\",\"2017-06-09 00:00:00.000000\",\"2017-06-12 00:00:00.000000\",\"2017-06-13 00:00:00.000000\",\"2017-06-14 00:00:00.000000\",\"2017-06-15 00:00:00.000000\",\"2017-06-16 00:00:00.000000\",\"2017-06-19 00:00:00.000000\",\"2017-06-20 00:00:00.000000\",\"2017-06-21 00:00:00.000000\",\"2017-06-22 00:00:00.000000\",\"2017-06-23 00:00:00.000000\",\"2017-06-26 00:00:00.000000\",\"2017-06-27 00:00:00.000000\",\"2017-06-28 00:00:00.000000\",\"2017-06-29 00:00:00.000000\",\"2017-06-30 00:00:00.000000\",\"2017-07-03 00:00:00.000000\",\"2017-07-05 00:00:00.000000\",\"2017-07-06 00:00:00.000000\",\"2017-07-07 00:00:00.000000\",\"2017-07-10 00:00:00.000000\",\"2017-07-11 00:00:00.000000\",\"2017-07-12 00:00:00.000000\",\"2017-07-13 00:00:00.000000\",\"2017-07-14 00:00:00.000000\",\"2017-07-17 00:00:00.000000\",\"2017-07-18 00:00:00.000000\",\"2017-07-19 00:00:00.000000\",\"2017-07-20 00:00:00.000000\",\"2017-07-21 00:00:00.000000\",\"2017-07-24 00:00:00.000000\",\"2017-07-25 00:00:00.000000\",\"2017-07-26 00:00:00.000000\",\"2017-07-27 00:00:00.000000\",\"2017-07-28 00:00:00.000000\",\"2017-07-31 00:00:00.000000\",\"2017-08-01 00:00:00.000000\",\"2017-08-02 00:00:00.000000\",\"2017-08-03 00:00:00.000000\",\"2017-08-04 00:00:00.000000\",\"2017-08-07 00:00:00.000000\",\"2017-08-08 00:00:00.000000\",\"2017-08-09 00:00:00.000000\",\"2017-08-10 00:00:00.000000\",\"2017-08-11 00:00:00.000000\",\"2017-08-14 00:00:00.000000\",\"2017-08-15 00:00:00.000000\",\"2017-08-16 00:00:00.000000\",\"2017-08-17 00:00:00.000000\",\"2017-08-18 00:00:00.000000\",\"2017-08-21 00:00:00.000000\",\"2017-08-22 00:00:00.000000\",\"2017-08-23 00:00:00.000000\",\"2017-08-24 00:00:00.000000\",\"2017-08-25 00:00:00.000000\",\"2017-08-28 00:00:00.000000\",\"2017-08-29 00:00:00.000000\",\"2017-08-30 00:00:00.000000\",\"2017-08-31 00:00:00.000000\",\"2017-09-01 00:00:00.000000\",\"2017-09-05 00:00:00.000000\",\"2017-09-06 00:00:00.000000\",\"2017-09-07 00:00:00.000000\",\"2017-09-08 00:00:00.000000\",\"2017-09-11 00:00:00.000000\",\"2017-09-12 00:00:00.000000\",\"2017-09-13 00:00:00.000000\",\"2017-09-14 00:00:00.000000\",\"2017-09-15 00:00:00.000000\",\"2017-09-18 00:00:00.000000\",\"2017-09-19 00:00:00.000000\",\"2017-09-20 00:00:00.000000\",\"2017-09-21 00:00:00.000000\",\"2017-09-22 00:00:00.000000\",\"2017-09-25 00:00:00.000000\",\"2017-09-26 00:00:00.000000\",\"2017-09-27 00:00:00.000000\",\"2017-09-28 00:00:00.000000\",\"2017-09-29 00:00:00.000000\",\"2017-10-02 00:00:00.000000\",\"2017-10-03 00:00:00.000000\",\"2017-10-04 00:00:00.000000\",\"2017-10-05 00:00:00.000000\",\"2017-10-06 00:00:00.000000\",\"2017-10-09 00:00:00.000000\",\"2017-10-10 00:00:00.000000\",\"2017-10-11 00:00:00.000000\",\"2017-10-12 00:00:00.000000\",\"2017-10-13 00:00:00.000000\",\"2017-10-16 00:00:00.000000\",\"2017-10-17 00:00:00.000000\",\"2017-10-18 00:00:00.000000\",\"2017-10-19 00:00:00.000000\",\"2017-10-20 00:00:00.000000\",\"2017-10-23 00:00:00.000000\",\"2017-10-24 00:00:00.000000\",\"2017-10-25 00:00:00.000000\",\"2017-10-26 00:00:00.000000\",\"2017-10-27 00:00:00.000000\",\"2017-10-30 00:00:00.000000\",\"2017-10-31 00:00:00.000000\",\"2017-11-01 00:00:00.000000\",\"2017-11-02 00:00:00.000000\",\"2017-11-03 00:00:00.000000\",\"2017-11-06 00:00:00.000000\",\"2017-11-07 00:00:00.000000\",\"2017-11-08 00:00:00.000000\",\"2017-11-09 00:00:00.000000\",\"2017-11-10 00:00:00.000000\",\"2017-11-13 00:00:00.000000\",\"2017-11-14 00:00:00.000000\",\"2017-11-15 00:00:00.000000\",\"2017-11-16 00:00:00.000000\",\"2017-11-17 00:00:00.000000\",\"2017-11-20 00:00:00.000000\",\"2017-11-21 00:00:00.000000\",\"2017-11-22 00:00:00.000000\",\"2017-11-24 00:00:00.000000\",\"2017-11-27 00:00:00.000000\",\"2017-11-28 00:00:00.000000\",\"2017-11-29 00:00:00.000000\",\"2017-11-30 00:00:00.000000\",\"2017-12-01 00:00:00.000000\",\"2017-12-04 00:00:00.000000\",\"2017-12-05 00:00:00.000000\",\"2017-12-06 00:00:00.000000\",\"2017-12-07 00:00:00.000000\",\"2017-12-08 00:00:00.000000\",\"2017-12-11 00:00:00.000000\",\"2017-12-12 00:00:00.000000\",\"2017-12-13 00:00:00.000000\",\"2017-12-14 00:00:00.000000\",\"2017-12-15 00:00:00.000000\",\"2017-12-18 00:00:00.000000\",\"2017-12-19 00:00:00.000000\",\"2017-12-20 00:00:00.000000\",\"2017-12-21 00:00:00.000000\",\"2017-12-22 00:00:00.000000\",\"2017-12-26 00:00:00.000000\",\"2017-12-27 00:00:00.000000\",\"2017-12-28 00:00:00.000000\",\"2017-12-29 00:00:00.000000\",\"2018-01-02 00:00:00.000000\",\"2018-01-03 00:00:00.000000\",\"2018-01-04 00:00:00.000000\",\"2018-01-05 00:00:00.000000\",\"2018-01-08 00:00:00.000000\",\"2018-01-09 00:00:00.000000\",\"2018-01-10 00:00:00.000000\",\"2018-01-11 00:00:00.000000\",\"2018-01-12 00:00:00.000000\",\"2018-01-16 00:00:00.000000\",\"2018-01-17 00:00:00.000000\",\"2018-01-18 00:00:00.000000\",\"2018-01-19 00:00:00.000000\",\"2018-01-22 00:00:00.000000\",\"2018-01-23 00:00:00.000000\",\"2018-01-24 00:00:00.000000\",\"2018-01-25 00:00:00.000000\",\"2018-01-26 00:00:00.000000\",\"2018-01-29 00:00:00.000000\",\"2018-01-30 00:00:00.000000\",\"2018-01-31 00:00:00.000000\",\"2018-02-01 00:00:00.000000\",\"2018-02-02 00:00:00.000000\",\"2018-02-05 00:00:00.000000\",\"2018-02-06 00:00:00.000000\",\"2018-02-07 00:00:00.000000\",\"2018-02-08 00:00:00.000000\",\"2018-02-09 00:00:00.000000\",\"2018-02-12 00:00:00.000000\",\"2018-02-13 00:00:00.000000\",\"2018-02-14 00:00:00.000000\",\"2018-02-15 00:00:00.000000\",\"2018-02-16 00:00:00.000000\",\"2018-02-20 00:00:00.000000\",\"2018-02-21 00:00:00.000000\",\"2018-02-22 00:00:00.000000\",\"2018-02-23 00:00:00.000000\",\"2018-02-26 00:00:00.000000\",\"2018-02-27 00:00:00.000000\",\"2018-02-28 00:00:00.000000\",\"2018-03-01 00:00:00.000000\",\"2018-03-02 00:00:00.000000\",\"2018-03-05 00:00:00.000000\",\"2018-03-06 00:00:00.000000\",\"2018-03-07 00:00:00.000000\",\"2018-03-08 00:00:00.000000\",\"2018-03-09 00:00:00.000000\",\"2018-03-12 00:00:00.000000\",\"2018-03-13 00:00:00.000000\",\"2018-03-14 00:00:00.000000\",\"2018-03-15 00:00:00.000000\",\"2018-03-16 00:00:00.000000\",\"2018-03-19 00:00:00.000000\",\"2018-03-20 00:00:00.000000\",\"2018-03-21 00:00:00.000000\",\"2018-03-22 00:00:00.000000\",\"2018-03-23 00:00:00.000000\",\"2018-03-26 00:00:00.000000\",\"2018-03-27 00:00:00.000000\",\"2018-03-28 00:00:00.000000\",\"2018-03-29 00:00:00.000000\",\"2018-04-02 00:00:00.000000\",\"2018-04-03 00:00:00.000000\",\"2018-04-04 00:00:00.000000\",\"2018-04-05 00:00:00.000000\",\"2018-04-06 00:00:00.000000\",\"2018-04-09 00:00:00.000000\",\"2018-04-10 00:00:00.000000\",\"2018-04-11 00:00:00.000000\",\"2018-04-12 00:00:00.000000\",\"2018-04-13 00:00:00.000000\",\"2018-04-16 00:00:00.000000\",\"2018-04-17 00:00:00.000000\",\"2018-04-18 00:00:00.000000\",\"2018-04-19 00:00:00.000000\",\"2018-04-20 00:00:00.000000\",\"2018-04-23 00:00:00.000000\",\"2018-04-24 00:00:00.000000\",\"2018-04-25 00:00:00.000000\",\"2018-04-26 00:00:00.000000\",\"2018-04-27 00:00:00.000000\",\"2018-04-30 00:00:00.000000\",\"2018-05-01 00:00:00.000000\",\"2018-05-02 00:00:00.000000\",\"2018-05-03 00:00:00.000000\",\"2018-05-04 00:00:00.000000\",\"2018-05-07 00:00:00.000000\",\"2018-05-08 00:00:00.000000\",\"2018-05-09 00:00:00.000000\",\"2018-05-10 00:00:00.000000\",\"2018-05-11 00:00:00.000000\",\"2018-05-14 00:00:00.000000\",\"2018-05-15 00:00:00.000000\",\"2018-05-16 00:00:00.000000\",\"2018-05-17 00:00:00.000000\",\"2018-05-18 00:00:00.000000\",\"2018-05-21 00:00:00.000000\",\"2018-05-22 00:00:00.000000\",\"2018-05-23 00:00:00.000000\",\"2018-05-24 00:00:00.000000\",\"2018-05-25 00:00:00.000000\",\"2018-05-29 00:00:00.000000\",\"2018-05-30 00:00:00.000000\",\"2018-05-31 00:00:00.000000\",\"2018-06-01 00:00:00.000000\",\"2018-06-04 00:00:00.000000\",\"2018-06-05 00:00:00.000000\",\"2018-06-06 00:00:00.000000\",\"2018-06-07 00:00:00.000000\",\"2018-06-08 00:00:00.000000\",\"2018-06-11 00:00:00.000000\",\"2018-06-12 00:00:00.000000\",\"2018-06-13 00:00:00.000000\",\"2018-06-14 00:00:00.000000\",\"2018-06-15 00:00:00.000000\",\"2018-06-18 00:00:00.000000\",\"2018-06-19 00:00:00.000000\",\"2018-06-20 00:00:00.000000\",\"2018-06-21 00:00:00.000000\",\"2018-06-22 00:00:00.000000\",\"2018-06-25 00:00:00.000000\",\"2018-06-26 00:00:00.000000\",\"2018-06-27 00:00:00.000000\",\"2018-06-28 00:00:00.000000\",\"2018-06-29 00:00:00.000000\",\"2018-07-02 00:00:00.000000\",\"2018-07-03 00:00:00.000000\",\"2018-07-05 00:00:00.000000\",\"2018-07-06 00:00:00.000000\",\"2018-07-09 00:00:00.000000\",\"2018-07-10 00:00:00.000000\",\"2018-07-11 00:00:00.000000\",\"2018-07-12 00:00:00.000000\",\"2018-07-13 00:00:00.000000\",\"2018-07-16 00:00:00.000000\",\"2018-07-17 00:00:00.000000\",\"2018-07-18 00:00:00.000000\",\"2018-07-19 00:00:00.000000\",\"2018-07-20 00:00:00.000000\",\"2018-07-23 00:00:00.000000\",\"2018-07-24 00:00:00.000000\",\"2018-07-25 00:00:00.000000\",\"2018-07-26 00:00:00.000000\",\"2018-07-27 00:00:00.000000\",\"2018-07-30 00:00:00.000000\",\"2018-07-31 00:00:00.000000\",\"2018-08-01 00:00:00.000000\",\"2018-08-02 00:00:00.000000\",\"2018-08-03 00:00:00.000000\",\"2018-08-06 00:00:00.000000\",\"2018-08-07 00:00:00.000000\",\"2018-08-08 00:00:00.000000\",\"2018-08-09 00:00:00.000000\",\"2018-08-10 00:00:00.000000\",\"2018-08-13 00:00:00.000000\",\"2018-08-14 00:00:00.000000\",\"2018-08-15 00:00:00.000000\",\"2018-08-16 00:00:00.000000\",\"2018-08-17 00:00:00.000000\",\"2018-08-20 00:00:00.000000\",\"2018-08-21 00:00:00.000000\",\"2018-08-22 00:00:00.000000\",\"2018-08-23 00:00:00.000000\",\"2018-08-24 00:00:00.000000\",\"2018-08-27 00:00:00.000000\",\"2018-08-28 00:00:00.000000\",\"2018-08-29 00:00:00.000000\",\"2018-08-30 00:00:00.000000\",\"2018-08-31 00:00:00.000000\",\"2018-09-04 00:00:00.000000\",\"2018-09-05 00:00:00.000000\",\"2018-09-06 00:00:00.000000\",\"2018-09-07 00:00:00.000000\",\"2018-09-10 00:00:00.000000\",\"2018-09-11 00:00:00.000000\",\"2018-09-12 00:00:00.000000\",\"2018-09-13 00:00:00.000000\",\"2018-09-14 00:00:00.000000\",\"2018-09-17 00:00:00.000000\",\"2018-09-18 00:00:00.000000\",\"2018-09-19 00:00:00.000000\",\"2018-09-20 00:00:00.000000\",\"2018-09-21 00:00:00.000000\",\"2018-09-24 00:00:00.000000\",\"2018-09-25 00:00:00.000000\",\"2018-09-26 00:00:00.000000\",\"2018-09-27 00:00:00.000000\",\"2018-09-28 00:00:00.000000\",\"2018-10-01 00:00:00.000000\",\"2018-10-02 00:00:00.000000\",\"2018-10-03 00:00:00.000000\",\"2018-10-04 00:00:00.000000\",\"2018-10-05 00:00:00.000000\",\"2018-10-08 00:00:00.000000\",\"2018-10-09 00:00:00.000000\",\"2018-10-10 00:00:00.000000\",\"2018-10-11 00:00:00.000000\",\"2018-10-12 00:00:00.000000\",\"2018-10-15 00:00:00.000000\",\"2018-10-16 00:00:00.000000\",\"2018-10-17 00:00:00.000000\",\"2018-10-18 00:00:00.000000\",\"2018-10-19 00:00:00.000000\",\"2018-10-22 00:00:00.000000\",\"2018-10-23 00:00:00.000000\",\"2018-10-24 00:00:00.000000\",\"2018-10-25 00:00:00.000000\",\"2018-10-26 00:00:00.000000\",\"2018-10-29 00:00:00.000000\",\"2018-10-30 00:00:00.000000\",\"2018-10-31 00:00:00.000000\",\"2018-11-01 00:00:00.000000\",\"2018-11-02 00:00:00.000000\",\"2018-11-05 00:00:00.000000\",\"2018-11-06 00:00:00.000000\",\"2018-11-07 00:00:00.000000\",\"2018-11-08 00:00:00.000000\",\"2018-11-09 00:00:00.000000\",\"2018-11-12 00:00:00.000000\",\"2018-11-13 00:00:00.000000\",\"2018-11-14 00:00:00.000000\",\"2018-11-15 00:00:00.000000\",\"2018-11-16 00:00:00.000000\",\"2018-11-19 00:00:00.000000\",\"2018-11-20 00:00:00.000000\",\"2018-11-21 00:00:00.000000\",\"2018-11-23 00:00:00.000000\",\"2018-11-26 00:00:00.000000\",\"2018-11-27 00:00:00.000000\",\"2018-11-28 00:00:00.000000\",\"2018-11-29 00:00:00.000000\",\"2018-11-30 00:00:00.000000\",\"2018-12-03 00:00:00.000000\",\"2018-12-04 00:00:00.000000\",\"2018-12-06 00:00:00.000000\",\"2018-12-07 00:00:00.000000\",\"2018-12-10 00:00:00.000000\",\"2018-12-11 00:00:00.000000\",\"2018-12-12 00:00:00.000000\",\"2018-12-13 00:00:00.000000\",\"2018-12-14 00:00:00.000000\",\"2018-12-17 00:00:00.000000\",\"2018-12-18 00:00:00.000000\",\"2018-12-19 00:00:00.000000\",\"2018-12-20 00:00:00.000000\",\"2018-12-21 00:00:00.000000\",\"2018-12-24 00:00:00.000000\",\"2018-12-26 00:00:00.000000\",\"2018-12-27 00:00:00.000000\",\"2018-12-28 00:00:00.000000\",\"2018-12-31 00:00:00.000000\",\"2019-01-02 00:00:00.000000\",\"2019-01-03 00:00:00.000000\",\"2019-01-04 00:00:00.000000\",\"2019-01-07 00:00:00.000000\",\"2019-01-08 00:00:00.000000\",\"2019-01-09 00:00:00.000000\",\"2019-01-10 00:00:00.000000\",\"2019-01-11 00:00:00.000000\",\"2019-01-14 00:00:00.000000\",\"2019-01-15 00:00:00.000000\",\"2019-01-16 00:00:00.000000\",\"2019-01-17 00:00:00.000000\",\"2019-01-18 00:00:00.000000\",\"2019-01-22 00:00:00.000000\",\"2019-01-23 00:00:00.000000\",\"2019-01-24 00:00:00.000000\",\"2019-01-25 00:00:00.000000\",\"2019-01-28 00:00:00.000000\",\"2019-01-29 00:00:00.000000\",\"2019-01-30 00:00:00.000000\",\"2019-01-31 00:00:00.000000\",\"2019-02-01 00:00:00.000000\",\"2019-02-04 00:00:00.000000\",\"2019-02-05 00:00:00.000000\",\"2019-02-06 00:00:00.000000\",\"2019-02-07 00:00:00.000000\",\"2019-02-08 00:00:00.000000\",\"2019-02-11 00:00:00.000000\",\"2019-02-12 00:00:00.000000\",\"2019-02-13 00:00:00.000000\",\"2019-02-14 00:00:00.000000\",\"2019-02-15 00:00:00.000000\",\"2019-02-19 00:00:00.000000\",\"2019-02-20 00:00:00.000000\",\"2019-02-21 00:00:00.000000\",\"2019-02-22 00:00:00.000000\",\"2019-02-25 00:00:00.000000\",\"2019-02-26 00:00:00.000000\",\"2019-02-27 00:00:00.000000\",\"2019-02-28 00:00:00.000000\",\"2019-03-01 00:00:00.000000\",\"2019-03-04 00:00:00.000000\",\"2019-03-05 00:00:00.000000\",\"2019-03-06 00:00:00.000000\",\"2019-03-07 00:00:00.000000\",\"2019-03-08 00:00:00.000000\",\"2019-03-11 00:00:00.000000\",\"2019-03-12 00:00:00.000000\",\"2019-03-13 00:00:00.000000\",\"2019-03-14 00:00:00.000000\",\"2019-03-15 00:00:00.000000\",\"2019-03-18 00:00:00.000000\",\"2019-03-19 00:00:00.000000\",\"2019-03-20 00:00:00.000000\",\"2019-03-21 00:00:00.000000\",\"2019-03-22 00:00:00.000000\",\"2019-03-25 00:00:00.000000\",\"2019-03-26 00:00:00.000000\",\"2019-03-27 00:00:00.000000\",\"2019-03-28 00:00:00.000000\",\"2019-03-29 00:00:00.000000\",\"2019-04-01 00:00:00.000000\",\"2019-04-02 00:00:00.000000\",\"2019-04-03 00:00:00.000000\",\"2019-04-04 00:00:00.000000\",\"2019-04-05 00:00:00.000000\",\"2019-04-08 00:00:00.000000\",\"2019-04-09 00:00:00.000000\",\"2019-04-10 00:00:00.000000\",\"2019-04-11 00:00:00.000000\",\"2019-04-12 00:00:00.000000\",\"2019-04-15 00:00:00.000000\",\"2019-04-16 00:00:00.000000\",\"2019-04-17 00:00:00.000000\",\"2019-04-18 00:00:00.000000\",\"2019-04-22 00:00:00.000000\",\"2019-04-23 00:00:00.000000\",\"2019-04-24 00:00:00.000000\",\"2019-04-25 00:00:00.000000\",\"2019-04-26 00:00:00.000000\",\"2019-04-29 00:00:00.000000\",\"2019-04-30 00:00:00.000000\",\"2019-05-01 00:00:00.000000\",\"2019-05-02 00:00:00.000000\",\"2019-05-03 00:00:00.000000\",\"2019-05-06 00:00:00.000000\",\"2019-05-07 00:00:00.000000\",\"2019-05-08 00:00:00.000000\",\"2019-05-09 00:00:00.000000\",\"2019-05-10 00:00:00.000000\",\"2019-05-13 00:00:00.000000\",\"2019-05-14 00:00:00.000000\",\"2019-05-15 00:00:00.000000\",\"2019-05-16 00:00:00.000000\",\"2019-05-17 00:00:00.000000\",\"2019-05-20 00:00:00.000000\",\"2019-05-21 00:00:00.000000\",\"2019-05-22 00:00:00.000000\",\"2019-05-23 00:00:00.000000\",\"2019-05-24 00:00:00.000000\",\"2019-05-28 00:00:00.000000\",\"2019-05-29 00:00:00.000000\",\"2019-05-30 00:00:00.000000\",\"2019-05-31 00:00:00.000000\",\"2019-06-03 00:00:00.000000\",\"2019-06-04 00:00:00.000000\",\"2019-06-05 00:00:00.000000\",\"2019-06-06 00:00:00.000000\",\"2019-06-07 00:00:00.000000\",\"2019-06-10 00:00:00.000000\",\"2019-06-11 00:00:00.000000\",\"2019-06-12 00:00:00.000000\",\"2019-06-13 00:00:00.000000\",\"2019-06-14 00:00:00.000000\",\"2019-06-17 00:00:00.000000\",\"2019-06-18 00:00:00.000000\",\"2019-06-19 00:00:00.000000\",\"2019-06-20 00:00:00.000000\",\"2019-06-21 00:00:00.000000\",\"2019-06-24 00:00:00.000000\",\"2019-06-25 00:00:00.000000\",\"2019-06-26 00:00:00.000000\",\"2019-06-27 00:00:00.000000\",\"2019-06-28 00:00:00.000000\",\"2019-07-01 00:00:00.000000\",\"2019-07-02 00:00:00.000000\",\"2019-07-03 00:00:00.000000\",\"2019-07-05 00:00:00.000000\",\"2019-07-08 00:00:00.000000\",\"2019-07-09 00:00:00.000000\",\"2019-07-10 00:00:00.000000\",\"2019-07-11 00:00:00.000000\",\"2019-07-12 00:00:00.000000\",\"2019-07-15 00:00:00.000000\",\"2019-07-16 00:00:00.000000\",\"2019-07-17 00:00:00.000000\",\"2019-07-18 00:00:00.000000\",\"2019-07-19 00:00:00.000000\",\"2019-07-22 00:00:00.000000\",\"2019-07-23 00:00:00.000000\",\"2019-07-24 00:00:00.000000\",\"2019-07-25 00:00:00.000000\",\"2019-07-26 00:00:00.000000\",\"2019-07-29 00:00:00.000000\",\"2019-07-30 00:00:00.000000\",\"2019-07-31 00:00:00.000000\",\"2019-08-01 00:00:00.000000\",\"2019-08-02 00:00:00.000000\",\"2019-08-05 00:00:00.000000\",\"2019-08-06 00:00:00.000000\",\"2019-08-07 00:00:00.000000\",\"2019-08-08 00:00:00.000000\",\"2019-08-09 00:00:00.000000\",\"2019-08-12 00:00:00.000000\",\"2019-08-13 00:00:00.000000\",\"2019-08-14 00:00:00.000000\",\"2019-08-15 00:00:00.000000\",\"2019-08-16 00:00:00.000000\",\"2019-08-19 00:00:00.000000\",\"2019-08-20 00:00:00.000000\",\"2019-08-21 00:00:00.000000\",\"2019-08-22 00:00:00.000000\",\"2019-08-23 00:00:00.000000\",\"2019-08-26 00:00:00.000000\",\"2019-08-27 00:00:00.000000\",\"2019-08-28 00:00:00.000000\",\"2019-08-29 00:00:00.000000\",\"2019-08-30 00:00:00.000000\",\"2019-09-03 00:00:00.000000\",\"2019-09-04 00:00:00.000000\",\"2019-09-05 00:00:00.000000\",\"2019-09-06 00:00:00.000000\",\"2019-09-09 00:00:00.000000\",\"2019-09-10 00:00:00.000000\",\"2019-09-11 00:00:00.000000\",\"2019-09-12 00:00:00.000000\",\"2019-09-13 00:00:00.000000\",\"2019-09-16 00:00:00.000000\",\"2019-09-17 00:00:00.000000\",\"2019-09-18 00:00:00.000000\",\"2019-09-19 00:00:00.000000\",\"2019-09-20 00:00:00.000000\",\"2019-09-23 00:00:00.000000\",\"2019-09-24 00:00:00.000000\",\"2019-09-25 00:00:00.000000\",\"2019-09-26 00:00:00.000000\",\"2019-09-27 00:00:00.000000\",\"2019-09-30 00:00:00.000000\",\"2019-10-01 00:00:00.000000\",\"2019-10-02 00:00:00.000000\",\"2019-10-03 00:00:00.000000\",\"2019-10-04 00:00:00.000000\",\"2019-10-07 00:00:00.000000\",\"2019-10-08 00:00:00.000000\",\"2019-10-09 00:00:00.000000\",\"2019-10-10 00:00:00.000000\",\"2019-10-11 00:00:00.000000\",\"2019-10-14 00:00:00.000000\",\"2019-10-15 00:00:00.000000\",\"2019-10-16 00:00:00.000000\",\"2019-10-17 00:00:00.000000\",\"2019-10-18 00:00:00.000000\",\"2019-10-21 00:00:00.000000\",\"2019-10-22 00:00:00.000000\",\"2019-10-23 00:00:00.000000\",\"2019-10-24 00:00:00.000000\",\"2019-10-25 00:00:00.000000\",\"2019-10-28 00:00:00.000000\",\"2019-10-29 00:00:00.000000\",\"2019-10-30 00:00:00.000000\",\"2019-10-31 00:00:00.000000\",\"2019-11-01 00:00:00.000000\",\"2019-11-04 00:00:00.000000\",\"2019-11-05 00:00:00.000000\",\"2019-11-06 00:00:00.000000\",\"2019-11-07 00:00:00.000000\",\"2019-11-08 00:00:00.000000\",\"2019-11-11 00:00:00.000000\",\"2019-11-12 00:00:00.000000\",\"2019-11-13 00:00:00.000000\",\"2019-11-14 00:00:00.000000\",\"2019-11-15 00:00:00.000000\",\"2019-11-18 00:00:00.000000\",\"2019-11-19 00:00:00.000000\",\"2019-11-20 00:00:00.000000\",\"2019-11-21 00:00:00.000000\",\"2019-11-22 00:00:00.000000\",\"2019-11-25 00:00:00.000000\",\"2019-11-26 00:00:00.000000\",\"2019-11-27 00:00:00.000000\",\"2019-11-29 00:00:00.000000\",\"2019-12-02 00:00:00.000000\",\"2019-12-03 00:00:00.000000\",\"2019-12-04 00:00:00.000000\",\"2019-12-05 00:00:00.000000\",\"2019-12-06 00:00:00.000000\",\"2019-12-09 00:00:00.000000\",\"2019-12-10 00:00:00.000000\",\"2019-12-11 00:00:00.000000\",\"2019-12-12 00:00:00.000000\",\"2019-12-13 00:00:00.000000\",\"2019-12-16 00:00:00.000000\",\"2019-12-17 00:00:00.000000\",\"2019-12-18 00:00:00.000000\",\"2019-12-19 00:00:00.000000\",\"2019-12-20 00:00:00.000000\",\"2019-12-23 00:00:00.000000\",\"2019-12-24 00:00:00.000000\",\"2019-12-26 00:00:00.000000\",\"2019-12-27 00:00:00.000000\",\"2019-12-30 00:00:00.000000\",\"2019-12-31 00:00:00.000000\",\"2020-01-02 00:00:00.000000\",\"2020-01-03 00:00:00.000000\",\"2020-01-06 00:00:00.000000\",\"2020-01-07 00:00:00.000000\",\"2020-01-08 00:00:00.000000\",\"2020-01-09 00:00:00.000000\",\"2020-01-10 00:00:00.000000\",\"2020-01-13 00:00:00.000000\",\"2020-01-14 00:00:00.000000\",\"2020-01-15 00:00:00.000000\",\"2020-01-16 00:00:00.000000\",\"2020-01-17 00:00:00.000000\",\"2020-01-21 00:00:00.000000\",\"2020-01-22 00:00:00.000000\",\"2020-01-23 00:00:00.000000\",\"2020-01-24 00:00:00.000000\",\"2020-01-27 00:00:00.000000\",\"2020-01-28 00:00:00.000000\",\"2020-01-29 00:00:00.000000\",\"2020-01-30 00:00:00.000000\",\"2020-01-31 00:00:00.000000\",\"2020-02-03 00:00:00.000000\",\"2020-02-04 00:00:00.000000\",\"2020-02-05 00:00:00.000000\",\"2020-02-06 00:00:00.000000\",\"2020-02-07 00:00:00.000000\",\"2020-02-10 00:00:00.000000\",\"2020-02-11 00:00:00.000000\",\"2020-02-12 00:00:00.000000\",\"2020-02-13 00:00:00.000000\",\"2020-02-14 00:00:00.000000\",\"2020-02-18 00:00:00.000000\",\"2020-02-19 00:00:00.000000\",\"2020-02-20 00:00:00.000000\",\"2020-02-21 00:00:00.000000\",\"2020-02-24 00:00:00.000000\",\"2020-02-25 00:00:00.000000\",\"2020-02-26 00:00:00.000000\",\"2020-02-27 00:00:00.000000\",\"2020-02-28 00:00:00.000000\",\"2020-03-02 00:00:00.000000\",\"2020-03-03 00:00:00.000000\",\"2020-03-04 00:00:00.000000\",\"2020-03-05 00:00:00.000000\",\"2020-03-06 00:00:00.000000\",\"2020-03-09 00:00:00.000000\",\"2020-03-10 00:00:00.000000\",\"2020-03-11 00:00:00.000000\",\"2020-03-12 00:00:00.000000\",\"2020-03-13 00:00:00.000000\",\"2020-03-16 00:00:00.000000\",\"2020-03-17 00:00:00.000000\",\"2020-03-18 00:00:00.000000\",\"2020-03-19 00:00:00.000000\",\"2020-03-20 00:00:00.000000\",\"2020-03-23 00:00:00.000000\",\"2020-03-24 00:00:00.000000\",\"2020-03-25 00:00:00.000000\",\"2020-03-26 00:00:00.000000\",\"2020-03-27 00:00:00.000000\",\"2020-03-30 00:00:00.000000\",\"2020-03-31 00:00:00.000000\",\"2020-04-01 00:00:00.000000\",\"2020-04-02 00:00:00.000000\",\"2020-04-03 00:00:00.000000\",\"2020-04-06 00:00:00.000000\",\"2020-04-07 00:00:00.000000\",\"2020-04-08 00:00:00.000000\",\"2020-04-09 00:00:00.000000\",\"2020-04-13 00:00:00.000000\",\"2020-04-14 00:00:00.000000\",\"2020-04-15 00:00:00.000000\",\"2020-04-16 00:00:00.000000\",\"2020-04-17 00:00:00.000000\",\"2020-04-20 00:00:00.000000\",\"2020-04-21 00:00:00.000000\",\"2020-04-22 00:00:00.000000\",\"2020-04-23 00:00:00.000000\",\"2020-04-24 00:00:00.000000\",\"2020-04-27 00:00:00.000000\",\"2020-04-28 00:00:00.000000\",\"2020-04-29 00:00:00.000000\",\"2020-04-30 00:00:00.000000\",\"2020-05-01 00:00:00.000000\",\"2020-05-04 00:00:00.000000\",\"2020-05-05 00:00:00.000000\",\"2020-05-06 00:00:00.000000\",\"2020-05-07 00:00:00.000000\",\"2020-05-08 00:00:00.000000\",\"2020-05-11 00:00:00.000000\",\"2020-05-12 00:00:00.000000\",\"2020-05-13 00:00:00.000000\",\"2020-05-14 00:00:00.000000\",\"2020-05-15 00:00:00.000000\",\"2020-05-18 00:00:00.000000\",\"2020-05-19 00:00:00.000000\",\"2020-05-20 00:00:00.000000\",\"2020-05-21 00:00:00.000000\",\"2020-05-22 00:00:00.000000\",\"2020-05-26 00:00:00.000000\",\"2020-05-27 00:00:00.000000\",\"2020-05-28 00:00:00.000000\",\"2020-05-29 00:00:00.000000\",\"2020-06-01 00:00:00.000000\",\"2020-06-02 00:00:00.000000\",\"2020-06-03 00:00:00.000000\",\"2020-06-04 00:00:00.000000\",\"2020-06-05 00:00:00.000000\",\"2020-06-08 00:00:00.000000\",\"2020-06-09 00:00:00.000000\",\"2020-06-10 00:00:00.000000\",\"2020-06-11 00:00:00.000000\",\"2020-06-12 00:00:00.000000\",\"2020-06-15 00:00:00.000000\",\"2020-06-16 00:00:00.000000\",\"2020-06-17 00:00:00.000000\",\"2020-06-18 00:00:00.000000\",\"2020-06-19 00:00:00.000000\",\"2020-06-22 00:00:00.000000\",\"2020-06-23 00:00:00.000000\",\"2020-06-24 00:00:00.000000\",\"2020-06-25 00:00:00.000000\",\"2020-06-26 00:00:00.000000\",\"2020-06-29 00:00:00.000000\",\"2020-06-30 00:00:00.000000\",\"2020-07-01 00:00:00.000000\",\"2020-07-02 00:00:00.000000\",\"2020-07-06 00:00:00.000000\",\"2020-07-07 00:00:00.000000\",\"2020-07-08 00:00:00.000000\",\"2020-07-09 00:00:00.000000\",\"2020-07-10 00:00:00.000000\",\"2020-07-13 00:00:00.000000\",\"2020-07-14 00:00:00.000000\",\"2020-07-15 00:00:00.000000\",\"2020-07-16 00:00:00.000000\",\"2020-07-17 00:00:00.000000\",\"2020-07-20 00:00:00.000000\",\"2020-07-21 00:00:00.000000\",\"2020-07-22 00:00:00.000000\",\"2020-07-23 00:00:00.000000\",\"2020-07-24 00:00:00.000000\",\"2020-07-27 00:00:00.000000\",\"2020-07-28 00:00:00.000000\",\"2020-07-29 00:00:00.000000\",\"2020-07-30 00:00:00.000000\",\"2020-07-31 00:00:00.000000\",\"2020-08-03 00:00:00.000000\",\"2020-08-04 00:00:00.000000\",\"2020-08-05 00:00:00.000000\",\"2020-08-06 00:00:00.000000\",\"2020-08-07 00:00:00.000000\",\"2020-08-10 00:00:00.000000\",\"2020-08-11 00:00:00.000000\",\"2020-08-12 00:00:00.000000\",\"2020-08-13 00:00:00.000000\",\"2020-08-14 00:00:00.000000\",\"2020-08-17 00:00:00.000000\",\"2020-08-18 00:00:00.000000\",\"2020-08-19 00:00:00.000000\",\"2020-08-20 00:00:00.000000\",\"2020-08-21 00:00:00.000000\",\"2020-08-24 00:00:00.000000\",\"2020-08-25 00:00:00.000000\",\"2020-08-26 00:00:00.000000\",\"2020-08-27 00:00:00.000000\",\"2020-08-28 00:00:00.000000\",\"2020-08-31 00:00:00.000000\",\"2020-09-01 00:00:00.000000\",\"2020-09-02 00:00:00.000000\",\"2020-09-03 00:00:00.000000\",\"2020-09-04 00:00:00.000000\",\"2020-09-08 00:00:00.000000\",\"2020-09-09 00:00:00.000000\",\"2020-09-10 00:00:00.000000\",\"2020-09-11 00:00:00.000000\",\"2020-09-14 00:00:00.000000\",\"2020-09-15 00:00:00.000000\",\"2020-09-16 00:00:00.000000\",\"2020-09-17 00:00:00.000000\",\"2020-09-18 00:00:00.000000\",\"2020-09-21 00:00:00.000000\",\"2020-09-22 00:00:00.000000\",\"2020-09-23 00:00:00.000000\",\"2020-09-24 00:00:00.000000\",\"2020-09-25 00:00:00.000000\",\"2020-09-28 00:00:00.000000\",\"2020-09-29 00:00:00.000000\",\"2020-09-30 00:00:00.000000\",\"2020-10-01 00:00:00.000000\",\"2020-10-02 00:00:00.000000\",\"2020-10-05 00:00:00.000000\",\"2020-10-06 00:00:00.000000\",\"2020-10-07 00:00:00.000000\",\"2020-10-08 00:00:00.000000\",\"2020-10-09 00:00:00.000000\",\"2020-10-12 00:00:00.000000\",\"2020-10-13 00:00:00.000000\",\"2020-10-14 00:00:00.000000\",\"2020-10-15 00:00:00.000000\",\"2020-10-16 00:00:00.000000\",\"2020-10-19 00:00:00.000000\",\"2020-10-20 00:00:00.000000\",\"2020-10-21 00:00:00.000000\",\"2020-10-22 00:00:00.000000\",\"2020-10-23 00:00:00.000000\",\"2020-10-26 00:00:00.000000\",\"2020-10-27 00:00:00.000000\",\"2020-10-28 00:00:00.000000\",\"2020-10-29 00:00:00.000000\",\"2020-10-30 00:00:00.000000\",\"2020-11-02 00:00:00.000000\",\"2020-11-03 00:00:00.000000\",\"2020-11-04 00:00:00.000000\",\"2020-11-05 00:00:00.000000\",\"2020-11-06 00:00:00.000000\",\"2020-11-09 00:00:00.000000\",\"2020-11-10 00:00:00.000000\",\"2020-11-11 00:00:00.000000\",\"2020-11-12 00:00:00.000000\",\"2020-11-13 00:00:00.000000\",\"2020-11-16 00:00:00.000000\",\"2020-11-17 00:00:00.000000\",\"2020-11-18 00:00:00.000000\",\"2020-11-19 00:00:00.000000\",\"2020-11-20 00:00:00.000000\",\"2020-11-23 00:00:00.000000\",\"2020-11-24 00:00:00.000000\",\"2020-11-25 00:00:00.000000\",\"2020-11-27 00:00:00.000000\",\"2020-11-30 00:00:00.000000\",\"2020-12-01 00:00:00.000000\",\"2020-12-02 00:00:00.000000\",\"2020-12-03 00:00:00.000000\",\"2020-12-04 00:00:00.000000\"]},\"selected\":{\"id\":\"3344\"},\"selection_policy\":{\"id\":\"3365\"}},\"id\":\"3343\",\"type\":\"ColumnDataSource\"},{\"attributes\":{\"axis\":{\"id\":\"3323\"},\"coordinates\":null,\"grid_line_color\":null,\"group\":null,\"ticker\":null},\"id\":\"3325\",\"type\":\"Grid\"},{\"attributes\":{\"children\":[{\"id\":\"3310\"},{\"id\":\"3314\"},{\"id\":\"3378\"}],\"margin\":[0,0,0,0],\"name\":\"Row05530\",\"tags\":[\"embedded\"]},\"id\":\"3309\",\"type\":\"Row\"},{\"attributes\":{\"line_alpha\":0.2,\"line_color\":\"#30a2da\",\"line_width\":2,\"x\":{\"field\":\"time\"},\"y\":{\"field\":\"daily_returns\"}},\"id\":\"3348\",\"type\":\"Line\"},{\"attributes\":{},\"id\":\"3354\",\"type\":\"AllLabels\"},{\"attributes\":{},\"id\":\"3331\",\"type\":\"PanTool\"},{\"attributes\":{\"line_color\":\"#30a2da\",\"line_width\":2,\"x\":{\"field\":\"time\"},\"y\":{\"field\":\"daily_returns\"}},\"id\":\"3351\",\"type\":\"Line\"},{\"attributes\":{},\"id\":\"3324\",\"type\":\"CategoricalTicker\"},{\"attributes\":{\"margin\":[5,5,5,5],\"name\":\"HSpacer05534\",\"sizing_mode\":\"stretch_width\"},\"id\":\"3310\",\"type\":\"Spacer\"},{\"attributes\":{},\"id\":\"3344\",\"type\":\"Selection\"},{\"attributes\":{\"callback\":null,\"renderers\":[{\"id\":\"3349\"}],\"tags\":[\"hv_created\"],\"tooltips\":[[\"time\",\"@{time}\"],[\"daily_returns\",\"@{daily_returns}\"]]},\"id\":\"3313\",\"type\":\"HoverTool\"},{\"attributes\":{},\"id\":\"3356\",\"type\":\"BasicTickFormatter\"},{\"attributes\":{\"margin\":[5,5,5,5],\"name\":\"HSpacer05535\",\"sizing_mode\":\"stretch_width\"},\"id\":\"3378\",\"type\":\"Spacer\"},{\"attributes\":{\"axis_label\":\"time\",\"coordinates\":null,\"formatter\":{\"id\":\"3353\"},\"group\":null,\"major_label_policy\":{\"id\":\"3354\"},\"ticker\":{\"id\":\"3324\"}},\"id\":\"3323\",\"type\":\"CategoricalAxis\"},{\"attributes\":{\"coordinates\":null,\"group\":null,\"text\":\"daily_returns\",\"text_color\":\"black\",\"text_font_size\":\"12pt\"},\"id\":\"3315\",\"type\":\"Title\"},{\"attributes\":{\"tools\":[{\"id\":\"3313\"},{\"id\":\"3330\"},{\"id\":\"3331\"},{\"id\":\"3332\"},{\"id\":\"3333\"},{\"id\":\"3334\"}]},\"id\":\"3336\",\"type\":\"Toolbar\"},{\"attributes\":{\"axis\":{\"id\":\"3326\"},\"coordinates\":null,\"dimension\":1,\"grid_line_color\":null,\"group\":null,\"ticker\":null},\"id\":\"3329\",\"type\":\"Grid\"},{\"attributes\":{\"axis_label\":\"\",\"coordinates\":null,\"formatter\":{\"id\":\"3356\"},\"group\":null,\"major_label_policy\":{\"id\":\"3357\"},\"ticker\":{\"id\":\"3327\"}},\"id\":\"3326\",\"type\":\"LinearAxis\"},{\"attributes\":{},\"id\":\"3327\",\"type\":\"BasicTicker\"},{\"attributes\":{},\"id\":\"3332\",\"type\":\"WheelZoomTool\"},{\"attributes\":{\"line_alpha\":0.1,\"line_color\":\"#30a2da\",\"line_width\":2,\"x\":{\"field\":\"time\"},\"y\":{\"field\":\"daily_returns\"}},\"id\":\"3347\",\"type\":\"Line\"},{\"attributes\":{\"below\":[{\"id\":\"3323\"}],\"center\":[{\"id\":\"3325\"},{\"id\":\"3329\"}],\"height\":300,\"left\":[{\"id\":\"3326\"}],\"margin\":[5,5,5,5],\"min_border_bottom\":10,\"min_border_left\":10,\"min_border_right\":10,\"min_border_top\":10,\"renderers\":[{\"id\":\"3349\"}],\"sizing_mode\":\"fixed\",\"title\":{\"id\":\"3315\"},\"toolbar\":{\"id\":\"3336\"},\"width\":700,\"x_range\":{\"id\":\"3311\"},\"x_scale\":{\"id\":\"3319\"},\"y_range\":{\"id\":\"3312\"},\"y_scale\":{\"id\":\"3321\"}},\"id\":\"3314\",\"subtype\":\"Figure\",\"type\":\"Plot\"},{\"attributes\":{\"end\":5.9440440060697854,\"reset_end\":5.9440440060697854,\"reset_start\":0.5441957511380894,\"start\":0.5441957511380894,\"tags\":[[[\"daily_returns\",\"daily_returns\",null]]]},\"id\":\"3312\",\"type\":\"Range1d\"},{\"attributes\":{},\"id\":\"3330\",\"type\":\"SaveTool\"},{\"attributes\":{\"overlay\":{\"id\":\"3335\"}},\"id\":\"3333\",\"type\":\"BoxZoomTool\"},{\"attributes\":{\"line_color\":\"#30a2da\",\"line_width\":2,\"x\":{\"field\":\"time\"},\"y\":{\"field\":\"daily_returns\"}},\"id\":\"3346\",\"type\":\"Line\"},{\"attributes\":{},\"id\":\"3334\",\"type\":\"ResetTool\"},{\"attributes\":{\"bottom_units\":\"screen\",\"coordinates\":null,\"fill_alpha\":0.5,\"fill_color\":\"lightgrey\",\"group\":null,\"left_units\":\"screen\",\"level\":\"overlay\",\"line_alpha\":1.0,\"line_color\":\"black\",\"line_dash\":[4,4],\"line_width\":2,\"right_units\":\"screen\",\"syncable\":false,\"top_units\":\"screen\"},\"id\":\"3335\",\"type\":\"BoxAnnotation\"},{\"attributes\":{},\"id\":\"3319\",\"type\":\"CategoricalScale\"},{\"attributes\":{\"source\":{\"id\":\"3343\"}},\"id\":\"3350\",\"type\":\"CDSView\"},{\"attributes\":{\"coordinates\":null,\"data_source\":{\"id\":\"3343\"},\"glyph\":{\"id\":\"3346\"},\"group\":null,\"hover_glyph\":null,\"muted_glyph\":{\"id\":\"3348\"},\"nonselection_glyph\":{\"id\":\"3347\"},\"selection_glyph\":{\"id\":\"3351\"},\"view\":{\"id\":\"3350\"}},\"id\":\"3349\",\"type\":\"GlyphRenderer\"}],\"root_ids\":[\"3309\"]},\"title\":\"Bokeh Application\",\"version\":\"2.4.1\"}};\n",
       "    var render_items = [{\"docid\":\"2f5340ae-88a9-4bfa-8b42-b1b15af11162\",\"root_ids\":[\"3309\"],\"roots\":{\"3309\":\"87b56337-0f80-446c-86f0-44c64f7851b7\"}}];\n",
       "    root.Bokeh.embed.embed_items_notebook(docs_json, render_items);\n",
       "  }\n",
       "  if (root.Bokeh !== undefined && root.Bokeh.Panel !== undefined) {\n",
       "    embed_document(root);\n",
       "  } else {\n",
       "    var attempts = 0;\n",
       "    var timer = setInterval(function(root) {\n",
       "      if (root.Bokeh !== undefined && root.Bokeh.Panel !== undefined) {\n",
       "        clearInterval(timer);\n",
       "        embed_document(root);\n",
       "      } else if (document.readyState == \"complete\") {\n",
       "        attempts++;\n",
       "        if (attempts > 200) {\n",
       "          clearInterval(timer);\n",
       "          console.log(\"Bokeh: ERROR: Unable to run BokehJS code because BokehJS library is missing\");\n",
       "        }\n",
       "      }\n",
       "    }, 25, root)\n",
       "  }\n",
       "})(window);</script>"
      ],
      "text/plain": [
       ":Curve   [time]   (daily_returns)"
      ]
     },
     "execution_count": 208,
     "metadata": {
      "application/vnd.holoviews_exec.v0+json": {
       "id": "3309"
      }
     },
     "output_type": "execute_result"
    }
   ],
   "source": [
    "pypl_dataframe1.hvplot()"
   ]
  },
  {
   "cell_type": "code",
   "execution_count": null,
   "metadata": {},
   "outputs": [],
   "source": []
  },
  {
   "cell_type": "markdown",
   "metadata": {},
   "source": [
    "## Optimize the SQL Queries\n",
    "\n",
    "For this part of the assignment, you’ll continue to analyze a single asset (PYPL) from the ETF. You’ll use advanced SQL queries to optimize the efficiency of accessing data from the database.\n",
    "\n",
    "Complete the following steps:\n",
    "\n",
    "1. Access the closing prices for PYPL that are greater than 200 by completing the following steps:\n",
    "\n",
    "1. Access the closing prices for PYPL that are greater than 200 by completing the following steps:\n",
    "\n",
    "    - Write a SQL `SELECT` statement to select the dates where the PYPL closing price was higher than 200.0.\n",
    "\n",
    "    - Select the “time” and “close” columns for those dates where the closing price was higher than 200.0.\n",
    "\n",
    "    - Using the SQL statement, read the data from the database into a Pandas DataFrame, and then review the resulting DataFrame.\n",
    "\n",
    "2. Find the top 10 daily returns for PYPL by completing the following steps:\n",
    "\n",
    "    -  Write a SQL statement to find the top 10 PYPL daily returns. Make sure to do the following:\n",
    "\n",
    "        * Use `SELECT` to select only the “time” and “daily_returns” columns.\n",
    "\n",
    "        * Use `ORDER` to sort the results in descending order by the “daily_returns” column.\n",
    "\n",
    "        * Use `LIMIT` to limit the results to the top 10 daily return values.\n",
    "\n",
    "    - Using the SQL statement, read the data from the database into a Pandas DataFrame, and then review the resulting DataFrame.\n"
   ]
  },
  {
   "cell_type": "markdown",
   "metadata": {},
   "source": [
    "### Step 1: Access the closing prices for PYPL that are greater than 200 by completing the following steps:\n",
    "\n",
    "    - Write a SQL `SELECT` statement to select the dates where the PYPL closing price was higher than 200.0.\n",
    "\n",
    "    - Select the “time” and “close” columns for those dates where the closing price was higher than 200.0.\n",
    "\n",
    "    - Using the SQL statement, read the data from the database into a Pandas DataFrame, and then review the resulting DataFrame.\n"
   ]
  },
  {
   "cell_type": "code",
   "execution_count": 209,
   "metadata": {},
   "outputs": [],
   "source": [
    "# pypl_dataframe.to_sql('pypl_dataframe', engine)\n",
    "# engine.table_names()"
   ]
  },
  {
   "cell_type": "code",
   "execution_count": 210,
   "metadata": {
    "scrolled": true
   },
   "outputs": [
    {
     "data": {
      "text/plain": [
       "[('2020-08-05 00:00:00.000000', 202.92),\n",
       " ('2020-08-06 00:00:00.000000', 204.09),\n",
       " ('2020-08-25 00:00:00.000000', 201.71),\n",
       " ('2020-08-26 00:00:00.000000', 203.53),\n",
       " ('2020-08-27 00:00:00.000000', 204.34),\n",
       " ('2020-08-28 00:00:00.000000', 204.48),\n",
       " ('2020-08-31 00:00:00.000000', 203.95),\n",
       " ('2020-09-01 00:00:00.000000', 208.92),\n",
       " ('2020-09-02 00:00:00.000000', 210.82),\n",
       " ('2020-09-03 00:00:00.000000', 205.07),\n",
       " ('2020-10-12 00:00:00.000000', 201.5),\n",
       " ('2020-10-13 00:00:00.000000', 207.73),\n",
       " ('2020-10-14 00:00:00.000000', 203.66),\n",
       " ('2020-10-15 00:00:00.000000', 203.17),\n",
       " ('2020-10-16 00:00:00.000000', 204.54),\n",
       " ('2020-10-19 00:00:00.000000', 200.05),\n",
       " ('2020-10-20 00:00:00.000000', 201.96),\n",
       " ('2020-10-21 00:00:00.000000', 213.06),\n",
       " ('2020-10-22 00:00:00.000000', 203.88),\n",
       " ('2020-10-23 00:00:00.000000', 203.04),\n",
       " ('2020-10-27 00:00:00.000000', 200.44),\n",
       " ('2020-11-05 00:00:00.000000', 204.59),\n",
       " ('2020-11-06 00:00:00.000000', 202.72),\n",
       " ('2020-11-23 00:00:00.000000', 200.82),\n",
       " ('2020-11-24 00:00:00.000000', 206.0),\n",
       " ('2020-11-25 00:00:00.000000', 214.38),\n",
       " ('2020-11-27 00:00:00.000000', 211.32),\n",
       " ('2020-11-30 00:00:00.000000', 214.2),\n",
       " ('2020-12-01 00:00:00.000000', 216.52),\n",
       " ('2020-12-02 00:00:00.000000', 212.66),\n",
       " ('2020-12-03 00:00:00.000000', 214.68),\n",
       " ('2020-12-04 00:00:00.000000', 217.235)]"
      ]
     },
     "execution_count": 210,
     "metadata": {},
     "output_type": "execute_result"
    }
   ],
   "source": [
    "# Write a SQL SELECT statement to select the time and close columns \n",
    "# where the PYPL closing price was higher than 200.0.\n",
    "\n",
    "# query = \"\"\"\n",
    "# SELECT \"time\", \"close\" FROM pypl_dataframe;\n",
    "# \"\"\"\n",
    "\n",
    "# Using the query, read the data from the database into a Pandas DataFrame\n",
    "pypl_higher_than_200 = \"\"\"\n",
    "SELECT \"time\", \"close\" FROM pypl_dataframe\n",
    "WHERE close >=200\n",
    "\"\"\"\n",
    "# Review the resulting DataFrame\n",
    "results= engine.execute(pypl_higher_than_200)\n",
    "list(results)"
   ]
  },
  {
   "cell_type": "markdown",
   "metadata": {},
   "source": [
    "### Step 2: Find the top 10 daily returns for PYPL by completing the following steps:\n",
    "\n",
    "    -  Write a SQL statement to find the top 10 PYPL daily returns. Make sure to do the following:\n",
    "\n",
    "        * Use `SELECT` to select only the “time” and “daily_returns” columns.\n",
    "\n",
    "        * Use `ORDER` to sort the results in descending order by the “daily_returns” column.\n",
    "\n",
    "        * Use `LIMIT` to limit the results to the top 10 daily return values.\n",
    "\n",
    "    - Using the SQL statement, read the data from the database into a Pandas DataFrame, and then review the resulting DataFrame.\n"
   ]
  },
  {
   "cell_type": "code",
   "execution_count": 211,
   "metadata": {
    "tags": []
   },
   "outputs": [
    {
     "data": {
      "text/html": [
       "<div>\n",
       "<style scoped>\n",
       "    .dataframe tbody tr th:only-of-type {\n",
       "        vertical-align: middle;\n",
       "    }\n",
       "\n",
       "    .dataframe tbody tr th {\n",
       "        vertical-align: top;\n",
       "    }\n",
       "\n",
       "    .dataframe thead th {\n",
       "        text-align: right;\n",
       "    }\n",
       "</style>\n",
       "<table border=\"1\" class=\"dataframe\">\n",
       "  <thead>\n",
       "    <tr style=\"text-align: right;\">\n",
       "      <th></th>\n",
       "      <th>time</th>\n",
       "      <th>daily_returns</th>\n",
       "    </tr>\n",
       "  </thead>\n",
       "  <tbody>\n",
       "    <tr>\n",
       "      <th>0</th>\n",
       "      <td>2020-03-24 00:00:00.000000</td>\n",
       "      <td>0.140981</td>\n",
       "    </tr>\n",
       "    <tr>\n",
       "      <th>1</th>\n",
       "      <td>2020-05-07 00:00:00.000000</td>\n",
       "      <td>0.140318</td>\n",
       "    </tr>\n",
       "    <tr>\n",
       "      <th>2</th>\n",
       "      <td>2020-03-13 00:00:00.000000</td>\n",
       "      <td>0.138700</td>\n",
       "    </tr>\n",
       "    <tr>\n",
       "      <th>3</th>\n",
       "      <td>2020-04-06 00:00:00.000000</td>\n",
       "      <td>0.100877</td>\n",
       "    </tr>\n",
       "    <tr>\n",
       "      <th>4</th>\n",
       "      <td>2018-10-19 00:00:00.000000</td>\n",
       "      <td>0.093371</td>\n",
       "    </tr>\n",
       "  </tbody>\n",
       "</table>\n",
       "</div>"
      ],
      "text/plain": [
       "                         time  daily_returns\n",
       "0  2020-03-24 00:00:00.000000       0.140981\n",
       "1  2020-05-07 00:00:00.000000       0.140318\n",
       "2  2020-03-13 00:00:00.000000       0.138700\n",
       "3  2020-04-06 00:00:00.000000       0.100877\n",
       "4  2018-10-19 00:00:00.000000       0.093371"
      ]
     },
     "execution_count": 211,
     "metadata": {},
     "output_type": "execute_result"
    }
   ],
   "source": [
    "# Write a SQL SELECT statement to select the time and daily_returns columns\n",
    "# Sort the results in descending order and return only the top 10 return values\n",
    "query = \"\"\"\n",
    "SELECT \"time\", \"daily_returns\"\n",
    "FROM pypl_dataframe\n",
    "ORDER BY \"daily_returns\" DESC\n",
    "LIMIT 10;\n",
    "\"\"\"\n",
    "\n",
    "# Using the query, read the data from the database into a Pandas DataFrame\n",
    "pypl_top_10_returns =  pd.read_sql(query, engine)\n",
    "# Review the resulting DataFrame\n",
    "\n",
    "pypl_top_10_returns.head()"
   ]
  },
  {
   "cell_type": "markdown",
   "metadata": {
    "tags": []
   },
   "source": [
    "## Analyze the Fintech ETF Portfolio\n",
    "\n",
    "For this part of the assignment, you’ll build the entire ETF portfolio and then evaluate its performance. To do so, you’ll build the ETF portfolio by using SQL joins to combine all the data for each asset.\n",
    "\n",
    "Complete the following steps:\n",
    "\n",
    "1. Write a SQL query to join each table in the portfolio into a single DataFrame. To do so, complete the following steps:\n",
    "\n",
    "    - Use a SQL inner join to join each table on the “time” column. Access the “time” column in the `GDOT` table via the `GDOT.time` syntax. Access the “time” columns from the other tables via similar syntax.\n",
    "\n",
    "    - Using the SQL query, read the data from the database into a Pandas DataFrame. Review the resulting DataFrame.\n",
    "\n",
    "2. Create a DataFrame that averages the “daily_returns” columns for all four assets. Review the resulting DataFrame.\n",
    "\n",
    "    > **Hint** Assuming that this ETF contains equally weighted returns, you can average the returns for each asset to get the average returns of the portfolio. You can then use the average returns of the portfolio to calculate the annualized returns and the cumulative returns. For the calculation to get the average daily returns for the portfolio, use the following code:\n",
    "    >\n",
    "    > ```python\n",
    "    > etf_portfolio_returns = etf_portfolio['daily_returns'].mean(axis=1)\n",
    "    > ```\n",
    "    >\n",
    "    > You can use the average daily returns of the portfolio the same way that you used the daily returns of a single asset.\n",
    "\n",
    "3. Use the average daily returns in the `etf_portfolio_returns` DataFrame to calculate the annualized returns for the portfolio. Display the annualized return value of the ETF portfolio.\n",
    "\n",
    "> **Hint**  To calculate the annualized returns, multiply the mean of the `etf_portfolio_returns` values by 252.\n",
    ">\n",
    "> To convert the decimal values to percentages, multiply the results by 100.\n",
    "\n",
    "4. Use the average daily returns in the `etf_portfolio_returns` DataFrame to calculate the cumulative returns of the ETF portfolio.\n",
    "\n",
    "5. Using hvPlot, create an interactive line plot that visualizes the cumulative return values of the ETF portfolio. Reflect the “time” column of the DataFrame on the x-axis. Make sure that you professionally style and format your visualization to enhance its readability.\n"
   ]
  },
  {
   "cell_type": "markdown",
   "metadata": {},
   "source": [
    "### Step 1: Write a SQL query to join each table in the portfolio into a single DataFrame. To do so, complete the following steps:\n",
    "\n",
    "    - Use a SQL inner join to join each table on the “time” column. Access the “time” column in the `GDOT` table via the `GDOT.time` syntax. Access the “time” columns from the other tables via similar syntax.\n",
    "\n",
    "    - Using the SQL query, read the data from the database into a Pandas DataFrame. Review the resulting DataFrame."
   ]
  },
  {
   "cell_type": "code",
   "execution_count": 212,
   "metadata": {
    "scrolled": true,
    "tags": []
   },
   "outputs": [
    {
     "data": {
      "text/html": [
       "<div>\n",
       "<style scoped>\n",
       "    .dataframe tbody tr th:only-of-type {\n",
       "        vertical-align: middle;\n",
       "    }\n",
       "\n",
       "    .dataframe tbody tr th {\n",
       "        vertical-align: top;\n",
       "    }\n",
       "\n",
       "    .dataframe thead th {\n",
       "        text-align: right;\n",
       "    }\n",
       "</style>\n",
       "<table border=\"1\" class=\"dataframe\">\n",
       "  <thead>\n",
       "    <tr style=\"text-align: right;\">\n",
       "      <th></th>\n",
       "      <th>time</th>\n",
       "      <th>open</th>\n",
       "      <th>high</th>\n",
       "      <th>low</th>\n",
       "      <th>close</th>\n",
       "      <th>volume</th>\n",
       "      <th>daily_returns</th>\n",
       "      <th>time</th>\n",
       "      <th>open</th>\n",
       "      <th>high</th>\n",
       "      <th>...</th>\n",
       "      <th>close</th>\n",
       "      <th>volume</th>\n",
       "      <th>daily_returns</th>\n",
       "      <th>time</th>\n",
       "      <th>open</th>\n",
       "      <th>high</th>\n",
       "      <th>low</th>\n",
       "      <th>close</th>\n",
       "      <th>volume</th>\n",
       "      <th>daily_returns</th>\n",
       "    </tr>\n",
       "  </thead>\n",
       "  <tbody>\n",
       "    <tr>\n",
       "      <th>0</th>\n",
       "      <td>2016-12-16 00:00:00.000000</td>\n",
       "      <td>24.41</td>\n",
       "      <td>24.73</td>\n",
       "      <td>23.94</td>\n",
       "      <td>23.980</td>\n",
       "      <td>483544</td>\n",
       "      <td>-0.023218</td>\n",
       "      <td>2016-12-16 00:00:00.000000</td>\n",
       "      <td>242.80</td>\n",
       "      <td>243.19</td>\n",
       "      <td>...</td>\n",
       "      <td>39.32</td>\n",
       "      <td>7298861</td>\n",
       "      <td>-0.005564</td>\n",
       "      <td>2016-12-16 00:00:00.000000</td>\n",
       "      <td>14.29</td>\n",
       "      <td>14.47</td>\n",
       "      <td>14.2300</td>\n",
       "      <td>14.375</td>\n",
       "      <td>4516341</td>\n",
       "      <td>0.017339</td>\n",
       "    </tr>\n",
       "    <tr>\n",
       "      <th>1</th>\n",
       "      <td>2016-12-19 00:00:00.000000</td>\n",
       "      <td>24.00</td>\n",
       "      <td>24.01</td>\n",
       "      <td>23.55</td>\n",
       "      <td>23.790</td>\n",
       "      <td>288149</td>\n",
       "      <td>-0.007923</td>\n",
       "      <td>2016-12-19 00:00:00.000000</td>\n",
       "      <td>238.34</td>\n",
       "      <td>239.74</td>\n",
       "      <td>...</td>\n",
       "      <td>39.45</td>\n",
       "      <td>3436478</td>\n",
       "      <td>0.003306</td>\n",
       "      <td>2016-12-19 00:00:00.000000</td>\n",
       "      <td>14.34</td>\n",
       "      <td>14.60</td>\n",
       "      <td>14.3000</td>\n",
       "      <td>14.360</td>\n",
       "      <td>3944657</td>\n",
       "      <td>-0.001043</td>\n",
       "    </tr>\n",
       "    <tr>\n",
       "      <th>2</th>\n",
       "      <td>2016-12-20 00:00:00.000000</td>\n",
       "      <td>23.75</td>\n",
       "      <td>23.94</td>\n",
       "      <td>23.58</td>\n",
       "      <td>23.820</td>\n",
       "      <td>220341</td>\n",
       "      <td>0.001261</td>\n",
       "      <td>2016-12-20 00:00:00.000000</td>\n",
       "      <td>240.52</td>\n",
       "      <td>243.65</td>\n",
       "      <td>...</td>\n",
       "      <td>39.74</td>\n",
       "      <td>2940991</td>\n",
       "      <td>0.007351</td>\n",
       "      <td>2016-12-20 00:00:00.000000</td>\n",
       "      <td>14.73</td>\n",
       "      <td>14.82</td>\n",
       "      <td>14.4100</td>\n",
       "      <td>14.490</td>\n",
       "      <td>5207412</td>\n",
       "      <td>0.009053</td>\n",
       "    </tr>\n",
       "    <tr>\n",
       "      <th>3</th>\n",
       "      <td>2016-12-21 00:00:00.000000</td>\n",
       "      <td>23.90</td>\n",
       "      <td>23.97</td>\n",
       "      <td>23.69</td>\n",
       "      <td>23.860</td>\n",
       "      <td>249189</td>\n",
       "      <td>0.001679</td>\n",
       "      <td>2016-12-21 00:00:00.000000</td>\n",
       "      <td>242.24</td>\n",
       "      <td>242.40</td>\n",
       "      <td>...</td>\n",
       "      <td>40.09</td>\n",
       "      <td>5826704</td>\n",
       "      <td>0.008807</td>\n",
       "      <td>2016-12-21 00:00:00.000000</td>\n",
       "      <td>14.45</td>\n",
       "      <td>14.54</td>\n",
       "      <td>14.2701</td>\n",
       "      <td>14.380</td>\n",
       "      <td>3901738</td>\n",
       "      <td>-0.007591</td>\n",
       "    </tr>\n",
       "    <tr>\n",
       "      <th>4</th>\n",
       "      <td>2016-12-22 00:00:00.000000</td>\n",
       "      <td>23.90</td>\n",
       "      <td>24.01</td>\n",
       "      <td>23.70</td>\n",
       "      <td>24.005</td>\n",
       "      <td>383139</td>\n",
       "      <td>0.006077</td>\n",
       "      <td>2016-12-22 00:00:00.000000</td>\n",
       "      <td>241.23</td>\n",
       "      <td>242.86</td>\n",
       "      <td>...</td>\n",
       "      <td>39.68</td>\n",
       "      <td>4338385</td>\n",
       "      <td>-0.010227</td>\n",
       "      <td>2016-12-22 00:00:00.000000</td>\n",
       "      <td>14.33</td>\n",
       "      <td>14.34</td>\n",
       "      <td>13.9301</td>\n",
       "      <td>14.040</td>\n",
       "      <td>3874004</td>\n",
       "      <td>-0.023644</td>\n",
       "    </tr>\n",
       "  </tbody>\n",
       "</table>\n",
       "<p>5 rows × 28 columns</p>\n",
       "</div>"
      ],
      "text/plain": [
       "                         time   open   high    low   close  volume  \\\n",
       "0  2016-12-16 00:00:00.000000  24.41  24.73  23.94  23.980  483544   \n",
       "1  2016-12-19 00:00:00.000000  24.00  24.01  23.55  23.790  288149   \n",
       "2  2016-12-20 00:00:00.000000  23.75  23.94  23.58  23.820  220341   \n",
       "3  2016-12-21 00:00:00.000000  23.90  23.97  23.69  23.860  249189   \n",
       "4  2016-12-22 00:00:00.000000  23.90  24.01  23.70  24.005  383139   \n",
       "\n",
       "   daily_returns                        time    open    high  ...  close  \\\n",
       "0      -0.023218  2016-12-16 00:00:00.000000  242.80  243.19  ...  39.32   \n",
       "1      -0.007923  2016-12-19 00:00:00.000000  238.34  239.74  ...  39.45   \n",
       "2       0.001261  2016-12-20 00:00:00.000000  240.52  243.65  ...  39.74   \n",
       "3       0.001679  2016-12-21 00:00:00.000000  242.24  242.40  ...  40.09   \n",
       "4       0.006077  2016-12-22 00:00:00.000000  241.23  242.86  ...  39.68   \n",
       "\n",
       "    volume  daily_returns                        time   open   high      low  \\\n",
       "0  7298861      -0.005564  2016-12-16 00:00:00.000000  14.29  14.47  14.2300   \n",
       "1  3436478       0.003306  2016-12-19 00:00:00.000000  14.34  14.60  14.3000   \n",
       "2  2940991       0.007351  2016-12-20 00:00:00.000000  14.73  14.82  14.4100   \n",
       "3  5826704       0.008807  2016-12-21 00:00:00.000000  14.45  14.54  14.2701   \n",
       "4  4338385      -0.010227  2016-12-22 00:00:00.000000  14.33  14.34  13.9301   \n",
       "\n",
       "    close   volume  daily_returns  \n",
       "0  14.375  4516341       0.017339  \n",
       "1  14.360  3944657      -0.001043  \n",
       "2  14.490  5207412       0.009053  \n",
       "3  14.380  3901738      -0.007591  \n",
       "4  14.040  3874004      -0.023644  \n",
       "\n",
       "[5 rows x 28 columns]"
      ]
     },
     "execution_count": 212,
     "metadata": {},
     "output_type": "execute_result"
    }
   ],
   "source": [
    "# Wreate a SQL query to join each table in the portfolio into a single DataFrame \n",
    "# Use the time column from each table as the basis for the join\n",
    "query = \"\"\"\n",
    "SELECT GDOT.*, GS.*, PYPL.*, SQ.*\n",
    "FROM PYPL \n",
    "INNER JOIN GDOT ON PYPL.time = GDOT.time\n",
    "INNER JOIN GS ON PYPL.time = GS.time\n",
    "INNER JOIN SQ ON PYPL.time = SQ.time\n",
    "\"\"\"\n",
    "# Using the query, read the data from the database into a Pandas DataFrame\n",
    "etf_portfolio = pd.read_sql_query(query,con=engine)\n",
    "    \n",
    "\n",
    "# Review the resulting DataFrame\n",
    "etf_portfolio.head()\n"
   ]
  },
  {
   "cell_type": "code",
   "execution_count": 213,
   "metadata": {
    "tags": []
   },
   "outputs": [],
   "source": [
    "# etf_portfolio1 = etf_portfolio.drop(['open', 'high','close','low','volume'],axis=1,inplace= True)\n",
    "# etf_portfolio1.head()\n",
    "# query1 = \"\"\"\n",
    "# SELECT \"time\", \"daily_returns\"\n",
    "# FROM query\n",
    "# \"\"\"\n",
    "# etf_portfolio1 = pd.read_sql_query(query1,con=engine)\n",
    "# etf_portfolio1.head()"
   ]
  },
  {
   "cell_type": "markdown",
   "metadata": {},
   "source": [
    "### Step 2: Create a DataFrame that averages the “daily_returns” columns for all four assets. Review the resulting DataFrame."
   ]
  },
  {
   "cell_type": "code",
   "execution_count": 214,
   "metadata": {
    "scrolled": true,
    "tags": []
   },
   "outputs": [
    {
     "data": {
      "text/plain": [
       "daily_returns    0.001504\n",
       "daily_returns    0.000196\n",
       "daily_returns    0.001957\n",
       "daily_returns    0.003300\n",
       "dtype: float64"
      ]
     },
     "execution_count": 214,
     "metadata": {},
     "output_type": "execute_result"
    }
   ],
   "source": [
    "# Create a DataFrame that displays the mean value of the “daily_returns” columns for all four assets.\n",
    "etf_portfolio_returns = etf_portfolio[['daily_returns']].mean()\n",
    "# # Review the resulting DataFrame\n",
    "etf_portfolio_returns.head()\n"
   ]
  },
  {
   "cell_type": "markdown",
   "metadata": {},
   "source": [
    "### Step 3: Use the average daily returns in the etf_portfolio_returns DataFrame to calculate the annualized returns for the portfolio. Display the annualized return value of the ETF portfolio."
   ]
  },
  {
   "cell_type": "code",
   "execution_count": 215,
   "metadata": {},
   "outputs": [
    {
     "data": {
      "text/plain": [
       "daily_returns    0.023871\n",
       "daily_returns    0.003104\n",
       "daily_returns    0.031070\n",
       "daily_returns    0.052389\n",
       "dtype: float64"
      ]
     },
     "execution_count": 215,
     "metadata": {},
     "output_type": "execute_result"
    }
   ],
   "source": [
    "# Use the average daily returns provided by the etf_portfolio_returns DataFrame \n",
    "# to calculate the annualized return for the portfolio. \n",
    "annualized_etf_portfolio_returns = etf_portfolio_returns * np.sqrt(252)\n",
    "\n",
    "# Display the annualized return value of the ETF portfolio.\n",
    "annualized_etf_portfolio_returns\n"
   ]
  },
  {
   "cell_type": "markdown",
   "metadata": {},
   "source": [
    "### Step 4: Use the average daily returns in the `etf_portfolio_returns` DataFrame to calculate the cumulative returns of the ETF portfolio."
   ]
  },
  {
   "cell_type": "code",
   "execution_count": 216,
   "metadata": {},
   "outputs": [
    {
     "data": {
      "text/plain": [
       "daily_returns    1.001504\n",
       "daily_returns    1.001700\n",
       "daily_returns    1.003660\n",
       "daily_returns    1.006972\n",
       "dtype: float64"
      ]
     },
     "execution_count": 216,
     "metadata": {},
     "output_type": "execute_result"
    }
   ],
   "source": [
    "# Use the average daily returns provided by the etf_portfolio_returns DataFrame \n",
    "# to calculate the cumulative returns\n",
    "etf_cumulative_returns = (etf_portfolio_returns+1).cumprod()\n",
    "# etf_cumulative_returns = pd.DataFrame((etf_portfolio['daily_returns'])+1).mean().cumprod()\n",
    "\n",
    "\n",
    "# Display the final cumulative return value\n",
    "etf_cumulative_returns\n"
   ]
  },
  {
   "cell_type": "markdown",
   "metadata": {},
   "source": [
    "### Step 5: Using hvPlot, create an interactive line plot that visualizes the cumulative return values of the ETF portfolio. Reflect the “time” column of the DataFrame on the x-axis. Make sure that you professionally style and format your visualization to enhance its readability."
   ]
  },
  {
   "cell_type": "code",
   "execution_count": 217,
   "metadata": {},
   "outputs": [
    {
     "data": {},
     "metadata": {},
     "output_type": "display_data"
    },
    {
     "data": {
      "application/vnd.holoviews_exec.v0+json": "",
      "text/html": [
       "<div id='3430'>\n",
       "\n",
       "\n",
       "\n",
       "\n",
       "\n",
       "  <div class=\"bk-root\" id=\"18bbb8dd-6c34-442f-9125-0cdbe2ccaf5a\" data-root-id=\"3430\"></div>\n",
       "</div>\n",
       "<script type=\"application/javascript\">(function(root) {\n",
       "  function embed_document(root) {\n",
       "    var docs_json = {\"2efc46b9-292d-4616-b67b-c99a086352d0\":{\"defs\":[{\"extends\":null,\"module\":null,\"name\":\"ReactiveHTML1\",\"overrides\":[],\"properties\":[]},{\"extends\":null,\"module\":null,\"name\":\"FlexBox1\",\"overrides\":[],\"properties\":[{\"default\":\"flex-start\",\"kind\":null,\"name\":\"align_content\"},{\"default\":\"flex-start\",\"kind\":null,\"name\":\"align_items\"},{\"default\":\"row\",\"kind\":null,\"name\":\"flex_direction\"},{\"default\":\"wrap\",\"kind\":null,\"name\":\"flex_wrap\"},{\"default\":\"flex-start\",\"kind\":null,\"name\":\"justify_content\"}]},{\"extends\":null,\"module\":null,\"name\":\"GridStack1\",\"overrides\":[],\"properties\":[{\"default\":\"warn\",\"kind\":null,\"name\":\"mode\"},{\"default\":null,\"kind\":null,\"name\":\"ncols\"},{\"default\":null,\"kind\":null,\"name\":\"nrows\"},{\"default\":true,\"kind\":null,\"name\":\"allow_resize\"},{\"default\":true,\"kind\":null,\"name\":\"allow_drag\"},{\"default\":[],\"kind\":null,\"name\":\"state\"}]},{\"extends\":null,\"module\":null,\"name\":\"click1\",\"overrides\":[],\"properties\":[{\"default\":\"\",\"kind\":null,\"name\":\"terminal_output\"},{\"default\":\"\",\"kind\":null,\"name\":\"debug_name\"},{\"default\":0,\"kind\":null,\"name\":\"clears\"}]},{\"extends\":null,\"module\":null,\"name\":\"TemplateActions1\",\"overrides\":[],\"properties\":[{\"default\":0,\"kind\":null,\"name\":\"open_modal\"},{\"default\":0,\"kind\":null,\"name\":\"close_modal\"}]},{\"extends\":null,\"module\":null,\"name\":\"MaterialTemplateActions1\",\"overrides\":[],\"properties\":[{\"default\":0,\"kind\":null,\"name\":\"open_modal\"},{\"default\":0,\"kind\":null,\"name\":\"close_modal\"}]}],\"roots\":{\"references\":[{\"attributes\":{\"overlay\":{\"id\":\"3456\"}},\"id\":\"3454\",\"type\":\"BoxZoomTool\"},{\"attributes\":{\"callback\":null,\"renderers\":[{\"id\":\"3470\"}],\"tags\":[\"hv_created\"],\"tooltips\":[[\"index\",\"@{index}\"],[\"0\",\"@{A_0}\"]]},\"id\":\"3434\",\"type\":\"HoverTool\"},{\"attributes\":{\"tools\":[{\"id\":\"3434\"},{\"id\":\"3451\"},{\"id\":\"3452\"},{\"id\":\"3453\"},{\"id\":\"3454\"},{\"id\":\"3455\"}]},\"id\":\"3457\",\"type\":\"Toolbar\"},{\"attributes\":{\"line_alpha\":0.2,\"line_color\":\"#30a2da\",\"line_width\":2,\"x\":{\"field\":\"index\"},\"y\":{\"field\":\"0\"}},\"id\":\"3469\",\"type\":\"Line\"},{\"attributes\":{\"factors\":[\"daily_returns\"],\"tags\":[[[\"index\",\"index\",null]]]},\"id\":\"3432\",\"type\":\"FactorRange\"},{\"attributes\":{\"line_alpha\":0.1,\"line_color\":\"#30a2da\",\"line_width\":2,\"x\":{\"field\":\"index\"},\"y\":{\"field\":\"0\"}},\"id\":\"3468\",\"type\":\"Line\"},{\"attributes\":{\"margin\":[5,5,5,5],\"name\":\"HSpacer05712\",\"sizing_mode\":\"stretch_width\"},\"id\":\"3431\",\"type\":\"Spacer\"},{\"attributes\":{},\"id\":\"3451\",\"type\":\"SaveTool\"},{\"attributes\":{},\"id\":\"3465\",\"type\":\"Selection\"},{\"attributes\":{},\"id\":\"3474\",\"type\":\"CategoricalTickFormatter\"},{\"attributes\":{\"below\":[{\"id\":\"3444\"}],\"center\":[{\"id\":\"3446\"},{\"id\":\"3450\"}],\"height\":300,\"left\":[{\"id\":\"3447\"}],\"margin\":[5,5,5,5],\"min_border_bottom\":10,\"min_border_left\":10,\"min_border_right\":10,\"min_border_top\":10,\"renderers\":[{\"id\":\"3470\"}],\"sizing_mode\":\"fixed\",\"title\":{\"id\":\"3436\"},\"toolbar\":{\"id\":\"3457\"},\"width\":700,\"x_range\":{\"id\":\"3432\"},\"x_scale\":{\"id\":\"3440\"},\"y_range\":{\"id\":\"3433\"},\"y_scale\":{\"id\":\"3442\"}},\"id\":\"3435\",\"subtype\":\"Figure\",\"type\":\"Plot\"},{\"attributes\":{\"source\":{\"id\":\"3464\"}},\"id\":\"3471\",\"type\":\"CDSView\"},{\"attributes\":{\"data\":{\"0\":{\"__ndarray__\":\"7C4bvygG8D+AN/8c9gbwP1iLr+X9DvA/1qPvGY8c8D8=\",\"dtype\":\"float64\",\"order\":\"little\",\"shape\":[4]},\"A_0\":{\"__ndarray__\":\"7C4bvygG8D+AN/8c9gbwP1iLr+X9DvA/1qPvGY8c8D8=\",\"dtype\":\"float64\",\"order\":\"little\",\"shape\":[4]},\"index\":[\"daily_returns\",\"daily_returns\",\"daily_returns\",\"daily_returns\"]},\"selected\":{\"id\":\"3465\"},\"selection_policy\":{\"id\":\"3486\"}},\"id\":\"3464\",\"type\":\"ColumnDataSource\"},{\"attributes\":{},\"id\":\"3453\",\"type\":\"WheelZoomTool\"},{\"attributes\":{},\"id\":\"3478\",\"type\":\"AllLabels\"},{\"attributes\":{},\"id\":\"3486\",\"type\":\"UnionRenderers\"},{\"attributes\":{},\"id\":\"3440\",\"type\":\"CategoricalScale\"},{\"attributes\":{\"line_color\":\"#30a2da\",\"line_width\":2,\"x\":{\"field\":\"index\"},\"y\":{\"field\":\"0\"}},\"id\":\"3472\",\"type\":\"Line\"},{\"attributes\":{},\"id\":\"3477\",\"type\":\"BasicTickFormatter\"},{\"attributes\":{},\"id\":\"3442\",\"type\":\"LinearScale\"},{\"attributes\":{},\"id\":\"3448\",\"type\":\"BasicTicker\"},{\"attributes\":{\"children\":[{\"id\":\"3431\"},{\"id\":\"3435\"},{\"id\":\"3499\"}],\"margin\":[0,0,0,0],\"name\":\"Row05708\",\"tags\":[\"embedded\"]},\"id\":\"3430\",\"type\":\"Row\"},{\"attributes\":{\"coordinates\":null,\"group\":null,\"text\":\"0\",\"text_color\":\"black\",\"text_font_size\":\"12pt\"},\"id\":\"3436\",\"type\":\"Title\"},{\"attributes\":{\"line_color\":\"#30a2da\",\"line_width\":2,\"x\":{\"field\":\"index\"},\"y\":{\"field\":\"0\"}},\"id\":\"3467\",\"type\":\"Line\"},{\"attributes\":{\"axis_label\":\"\",\"coordinates\":null,\"formatter\":{\"id\":\"3474\"},\"group\":null,\"major_label_orientation\":1.5707963267948966,\"major_label_policy\":{\"id\":\"3475\"},\"ticker\":{\"id\":\"3445\"}},\"id\":\"3444\",\"type\":\"CategoricalAxis\"},{\"attributes\":{\"margin\":[5,5,5,5],\"name\":\"HSpacer05713\",\"sizing_mode\":\"stretch_width\"},\"id\":\"3499\",\"type\":\"Spacer\"},{\"attributes\":{},\"id\":\"3475\",\"type\":\"AllLabels\"},{\"attributes\":{},\"id\":\"3445\",\"type\":\"CategoricalTicker\"},{\"attributes\":{\"end\":1.0075192802365296,\"reset_end\":1.0075192802365296,\"reset_start\":1.0009568319588669,\"start\":1.0009568319588669,\"tags\":[[[\"0\",\"0\",null]]]},\"id\":\"3433\",\"type\":\"Range1d\"},{\"attributes\":{},\"id\":\"3452\",\"type\":\"PanTool\"},{\"attributes\":{\"axis\":{\"id\":\"3447\"},\"coordinates\":null,\"dimension\":1,\"grid_line_color\":null,\"group\":null,\"ticker\":null},\"id\":\"3450\",\"type\":\"Grid\"},{\"attributes\":{\"axis\":{\"id\":\"3444\"},\"coordinates\":null,\"grid_line_color\":null,\"group\":null,\"ticker\":null},\"id\":\"3446\",\"type\":\"Grid\"},{\"attributes\":{\"coordinates\":null,\"data_source\":{\"id\":\"3464\"},\"glyph\":{\"id\":\"3467\"},\"group\":null,\"hover_glyph\":null,\"muted_glyph\":{\"id\":\"3469\"},\"nonselection_glyph\":{\"id\":\"3468\"},\"selection_glyph\":{\"id\":\"3472\"},\"view\":{\"id\":\"3471\"}},\"id\":\"3470\",\"type\":\"GlyphRenderer\"},{\"attributes\":{},\"id\":\"3455\",\"type\":\"ResetTool\"},{\"attributes\":{\"axis_label\":\"\",\"coordinates\":null,\"formatter\":{\"id\":\"3477\"},\"group\":null,\"major_label_policy\":{\"id\":\"3478\"},\"ticker\":{\"id\":\"3448\"}},\"id\":\"3447\",\"type\":\"LinearAxis\"},{\"attributes\":{\"bottom_units\":\"screen\",\"coordinates\":null,\"fill_alpha\":0.5,\"fill_color\":\"lightgrey\",\"group\":null,\"left_units\":\"screen\",\"level\":\"overlay\",\"line_alpha\":1.0,\"line_color\":\"black\",\"line_dash\":[4,4],\"line_width\":2,\"right_units\":\"screen\",\"syncable\":false,\"top_units\":\"screen\"},\"id\":\"3456\",\"type\":\"BoxAnnotation\"}],\"root_ids\":[\"3430\"]},\"title\":\"Bokeh Application\",\"version\":\"2.4.1\"}};\n",
       "    var render_items = [{\"docid\":\"2efc46b9-292d-4616-b67b-c99a086352d0\",\"root_ids\":[\"3430\"],\"roots\":{\"3430\":\"18bbb8dd-6c34-442f-9125-0cdbe2ccaf5a\"}}];\n",
       "    root.Bokeh.embed.embed_items_notebook(docs_json, render_items);\n",
       "  }\n",
       "  if (root.Bokeh !== undefined && root.Bokeh.Panel !== undefined) {\n",
       "    embed_document(root);\n",
       "  } else {\n",
       "    var attempts = 0;\n",
       "    var timer = setInterval(function(root) {\n",
       "      if (root.Bokeh !== undefined && root.Bokeh.Panel !== undefined) {\n",
       "        clearInterval(timer);\n",
       "        embed_document(root);\n",
       "      } else if (document.readyState == \"complete\") {\n",
       "        attempts++;\n",
       "        if (attempts > 200) {\n",
       "          clearInterval(timer);\n",
       "          console.log(\"Bokeh: ERROR: Unable to run BokehJS code because BokehJS library is missing\");\n",
       "        }\n",
       "      }\n",
       "    }, 25, root)\n",
       "  }\n",
       "})(window);</script>"
      ],
      "text/plain": [
       ":Curve   [index]   (0)"
      ]
     },
     "execution_count": 217,
     "metadata": {
      "application/vnd.holoviews_exec.v0+json": {
       "id": "3430"
      }
     },
     "output_type": "execute_result"
    }
   ],
   "source": [
    "# Using hvplot, create an interactive line plot that visualizes the ETF portfolios cumulative return values.\n",
    "etf_cumulative_returns.hvplot(rot=90)\n"
   ]
  },
  {
   "cell_type": "code",
   "execution_count": null,
   "metadata": {},
   "outputs": [],
   "source": []
  },
  {
   "cell_type": "code",
   "execution_count": null,
   "metadata": {},
   "outputs": [],
   "source": []
  },
  {
   "cell_type": "code",
   "execution_count": null,
   "metadata": {},
   "outputs": [],
   "source": []
  }
 ],
 "metadata": {
  "kernelspec": {
   "display_name": "python (dev)",
   "language": "python",
   "name": "dev"
  },
  "language_info": {
   "codemirror_mode": {
    "name": "ipython",
    "version": 3
   },
   "file_extension": ".py",
   "mimetype": "text/x-python",
   "name": "python",
   "nbconvert_exporter": "python",
   "pygments_lexer": "ipython3",
   "version": "3.9.7"
  }
 },
 "nbformat": 4,
 "nbformat_minor": 4
}
